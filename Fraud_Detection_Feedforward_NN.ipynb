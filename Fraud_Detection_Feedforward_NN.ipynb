{
  "nbformat": 4,
  "nbformat_minor": 0,
  "metadata": {
    "kernelspec": {
      "display_name": "Python 3",
      "name": "python3"
    },
    "language_info": {
      "codemirror_mode": {
        "name": "ipython",
        "version": 3
      },
      "file_extension": ".py",
      "mimetype": "text/x-python",
      "name": "python",
      "nbconvert_exporter": "python",
      "pygments_lexer": "ipython3",
      "version": "3.7.7"
    },
    "colab": {
      "provenance": [],
      "gpuType": "V100",
      "include_colab_link": true
    },
    "accelerator": "GPU"
  },
  "cells": [
    {
      "cell_type": "markdown",
      "metadata": {
        "id": "view-in-github",
        "colab_type": "text"
      },
      "source": [
        "<a href=\"https://colab.research.google.com/github/vroomgit/FraudDetectionFNN/blob/main/Fraud_Detection_Feedforward_NN.ipynb\" target=\"_parent\"><img src=\"https://colab.research.google.com/assets/colab-badge.svg\" alt=\"Open In Colab\"/></a>"
      ]
    },
    {
      "cell_type": "markdown",
      "source": [
        "# Using a Feedforward Neural Network to detect fraudulent transactions in a simulated financial payments dataset\n",
        "\n",
        "Link to dataset: https://www.kaggle.com/datasets/ealaxi/paysim1"
      ],
      "metadata": {
        "id": "T50NjAoPHcJs"
      }
    },
    {
      "cell_type": "markdown",
      "source": [
        "## Environment prep and data unzipping (This section needed for Google Colab)"
      ],
      "metadata": {
        "id": "VYnzpwJbHMmS"
      }
    },
    {
      "cell_type": "code",
      "metadata": {
        "id": "g1AJFoPknuTS",
        "colab": {
          "base_uri": "https://localhost:8080/"
        },
        "outputId": "43d804d5-1ab1-4ccd-a8b6-8cfc73cac0f6"
      },
      "source": [
        "from google.colab import drive\n",
        "drive.mount(\"/content/drive\")"
      ],
      "execution_count": 8,
      "outputs": [
        {
          "output_type": "stream",
          "name": "stdout",
          "text": [
            "Drive already mounted at /content/drive; to attempt to forcibly remount, call drive.mount(\"/content/drive\", force_remount=True).\n"
          ]
        }
      ]
    },
    {
      "cell_type": "code",
      "metadata": {
        "colab": {
          "base_uri": "https://localhost:8080/"
        },
        "id": "LfCMwOmhrGmh",
        "outputId": "ee89307c-e31d-4296-ba7b-10f25e0d126d"
      },
      "source": [
        "gpu_info = !nvidia-smi\n",
        "gpu_info = '\\n'.join(gpu_info)\n",
        "if gpu_info.find('failed') >= 0:\n",
        "  print('Select the Runtime > \"Change runtime type\" menu to enable a GPU accelerator, ')\n",
        "  print('and then re-execute this cell.')\n",
        "else:\n",
        "  print(gpu_info)"
      ],
      "execution_count": 9,
      "outputs": [
        {
          "output_type": "stream",
          "name": "stdout",
          "text": [
            "Thu Aug  3 10:47:05 2023       \n",
            "+-----------------------------------------------------------------------------+\n",
            "| NVIDIA-SMI 525.105.17   Driver Version: 525.105.17   CUDA Version: 12.0     |\n",
            "|-------------------------------+----------------------+----------------------+\n",
            "| GPU  Name        Persistence-M| Bus-Id        Disp.A | Volatile Uncorr. ECC |\n",
            "| Fan  Temp  Perf  Pwr:Usage/Cap|         Memory-Usage | GPU-Util  Compute M. |\n",
            "|                               |                      |               MIG M. |\n",
            "|===============================+======================+======================|\n",
            "|   0  Tesla V100-SXM2...  Off  | 00000000:00:04.0 Off |                    0 |\n",
            "| N/A   38C    P0    40W / 300W |    866MiB / 16384MiB |      0%      Default |\n",
            "|                               |                      |                  N/A |\n",
            "+-------------------------------+----------------------+----------------------+\n",
            "                                                                               \n",
            "+-----------------------------------------------------------------------------+\n",
            "| Processes:                                                                  |\n",
            "|  GPU   GI   CI        PID   Type   Process name                  GPU Memory |\n",
            "|        ID   ID                                                   Usage      |\n",
            "|=============================================================================|\n",
            "+-----------------------------------------------------------------------------+\n"
          ]
        }
      ]
    },
    {
      "cell_type": "markdown",
      "source": [
        "## Loading and Preparing Data"
      ],
      "metadata": {
        "id": "CEOdfE337gew"
      }
    },
    {
      "cell_type": "code",
      "metadata": {
        "scrolled": true,
        "id": "V05MogNi9E1H",
        "colab": {
          "base_uri": "https://localhost:8080/"
        },
        "outputId": "71c9f39c-18a6-4a54-8c91-4ef66b421c3a"
      },
      "source": [
        "import pandas as pd\n",
        "import numpy as np\n",
        "from sklearn.preprocessing import LabelEncoder\n",
        "from sklearn.metrics import accuracy_score\n",
        "from sklearn.model_selection import train_test_split\n",
        "from sklearn.metrics import accuracy_score\n",
        "from sklearn.metrics import confusion_matrix\n",
        "import torch\n",
        "from torch.utils.data import Dataset, DataLoader\n",
        "import torch.optim as optim\n",
        "import torch.nn as nn\n",
        "import torch.nn.functional as F\n",
        "from torchvision import models\n",
        "import matplotlib.pyplot as plt\n",
        "from collections import Counter\n",
        "import time\n",
        "from time import sleep\n",
        "!pip install pycm\n",
        "import pycm\n",
        "import prettytable"
      ],
      "execution_count": 10,
      "outputs": [
        {
          "output_type": "stream",
          "name": "stdout",
          "text": [
            "Requirement already satisfied: pycm in /usr/local/lib/python3.10/dist-packages (4.0)\n",
            "Requirement already satisfied: art>=1.8 in /usr/local/lib/python3.10/dist-packages (from pycm) (6.0)\n",
            "Requirement already satisfied: numpy>=1.9.0 in /usr/local/lib/python3.10/dist-packages (from pycm) (1.22.4)\n"
          ]
        }
      ]
    },
    {
      "cell_type": "code",
      "source": [
        "device = torch.device(\"cuda\" if torch.cuda.is_available() else \"cpu\")\n",
        "device"
      ],
      "metadata": {
        "colab": {
          "base_uri": "https://localhost:8080/"
        },
        "id": "R4LXiJp-bcna",
        "outputId": "bcc98000-c0db-4431-89f9-558cd232632d"
      },
      "execution_count": 11,
      "outputs": [
        {
          "output_type": "execute_result",
          "data": {
            "text/plain": [
              "device(type='cuda')"
            ]
          },
          "metadata": {},
          "execution_count": 11
        }
      ]
    },
    {
      "cell_type": "code",
      "source": [
        "df = pd.read_csv('/content/drive/MyDrive/Projects/Finance Dataset Kaggle/FFDS.csv')\n",
        "df.head()"
      ],
      "metadata": {
        "colab": {
          "base_uri": "https://localhost:8080/",
          "height": 206
        },
        "id": "ArO3rYlGSkjF",
        "outputId": "d04ef160-f843-4d46-c585-bbcaa5dca9ca"
      },
      "execution_count": 12,
      "outputs": [
        {
          "output_type": "execute_result",
          "data": {
            "text/plain": [
              "   step      type    amount     nameOrig  oldbalanceOrg  newbalanceOrig  \\\n",
              "0     1   PAYMENT   9839.64  C1231006815       170136.0       160296.36   \n",
              "1     1   PAYMENT   1864.28  C1666544295        21249.0        19384.72   \n",
              "2     1  TRANSFER    181.00  C1305486145          181.0            0.00   \n",
              "3     1  CASH_OUT    181.00   C840083671          181.0            0.00   \n",
              "4     1   PAYMENT  11668.14  C2048537720        41554.0        29885.86   \n",
              "\n",
              "      nameDest  oldbalanceDest  newbalanceDest  isFraud  isFlaggedFraud  \n",
              "0  M1979787155             0.0             0.0        0               0  \n",
              "1  M2044282225             0.0             0.0        0               0  \n",
              "2   C553264065             0.0             0.0        1               0  \n",
              "3    C38997010         21182.0             0.0        1               0  \n",
              "4  M1230701703             0.0             0.0        0               0  "
            ],
            "text/html": [
              "\n",
              "\n",
              "  <div id=\"df-4bbece46-a032-4c60-963e-2efba9e8e43b\">\n",
              "    <div class=\"colab-df-container\">\n",
              "      <div>\n",
              "<style scoped>\n",
              "    .dataframe tbody tr th:only-of-type {\n",
              "        vertical-align: middle;\n",
              "    }\n",
              "\n",
              "    .dataframe tbody tr th {\n",
              "        vertical-align: top;\n",
              "    }\n",
              "\n",
              "    .dataframe thead th {\n",
              "        text-align: right;\n",
              "    }\n",
              "</style>\n",
              "<table border=\"1\" class=\"dataframe\">\n",
              "  <thead>\n",
              "    <tr style=\"text-align: right;\">\n",
              "      <th></th>\n",
              "      <th>step</th>\n",
              "      <th>type</th>\n",
              "      <th>amount</th>\n",
              "      <th>nameOrig</th>\n",
              "      <th>oldbalanceOrg</th>\n",
              "      <th>newbalanceOrig</th>\n",
              "      <th>nameDest</th>\n",
              "      <th>oldbalanceDest</th>\n",
              "      <th>newbalanceDest</th>\n",
              "      <th>isFraud</th>\n",
              "      <th>isFlaggedFraud</th>\n",
              "    </tr>\n",
              "  </thead>\n",
              "  <tbody>\n",
              "    <tr>\n",
              "      <th>0</th>\n",
              "      <td>1</td>\n",
              "      <td>PAYMENT</td>\n",
              "      <td>9839.64</td>\n",
              "      <td>C1231006815</td>\n",
              "      <td>170136.0</td>\n",
              "      <td>160296.36</td>\n",
              "      <td>M1979787155</td>\n",
              "      <td>0.0</td>\n",
              "      <td>0.0</td>\n",
              "      <td>0</td>\n",
              "      <td>0</td>\n",
              "    </tr>\n",
              "    <tr>\n",
              "      <th>1</th>\n",
              "      <td>1</td>\n",
              "      <td>PAYMENT</td>\n",
              "      <td>1864.28</td>\n",
              "      <td>C1666544295</td>\n",
              "      <td>21249.0</td>\n",
              "      <td>19384.72</td>\n",
              "      <td>M2044282225</td>\n",
              "      <td>0.0</td>\n",
              "      <td>0.0</td>\n",
              "      <td>0</td>\n",
              "      <td>0</td>\n",
              "    </tr>\n",
              "    <tr>\n",
              "      <th>2</th>\n",
              "      <td>1</td>\n",
              "      <td>TRANSFER</td>\n",
              "      <td>181.00</td>\n",
              "      <td>C1305486145</td>\n",
              "      <td>181.0</td>\n",
              "      <td>0.00</td>\n",
              "      <td>C553264065</td>\n",
              "      <td>0.0</td>\n",
              "      <td>0.0</td>\n",
              "      <td>1</td>\n",
              "      <td>0</td>\n",
              "    </tr>\n",
              "    <tr>\n",
              "      <th>3</th>\n",
              "      <td>1</td>\n",
              "      <td>CASH_OUT</td>\n",
              "      <td>181.00</td>\n",
              "      <td>C840083671</td>\n",
              "      <td>181.0</td>\n",
              "      <td>0.00</td>\n",
              "      <td>C38997010</td>\n",
              "      <td>21182.0</td>\n",
              "      <td>0.0</td>\n",
              "      <td>1</td>\n",
              "      <td>0</td>\n",
              "    </tr>\n",
              "    <tr>\n",
              "      <th>4</th>\n",
              "      <td>1</td>\n",
              "      <td>PAYMENT</td>\n",
              "      <td>11668.14</td>\n",
              "      <td>C2048537720</td>\n",
              "      <td>41554.0</td>\n",
              "      <td>29885.86</td>\n",
              "      <td>M1230701703</td>\n",
              "      <td>0.0</td>\n",
              "      <td>0.0</td>\n",
              "      <td>0</td>\n",
              "      <td>0</td>\n",
              "    </tr>\n",
              "  </tbody>\n",
              "</table>\n",
              "</div>\n",
              "      <button class=\"colab-df-convert\" onclick=\"convertToInteractive('df-4bbece46-a032-4c60-963e-2efba9e8e43b')\"\n",
              "              title=\"Convert this dataframe to an interactive table.\"\n",
              "              style=\"display:none;\">\n",
              "\n",
              "  <svg xmlns=\"http://www.w3.org/2000/svg\" height=\"24px\"viewBox=\"0 0 24 24\"\n",
              "       width=\"24px\">\n",
              "    <path d=\"M0 0h24v24H0V0z\" fill=\"none\"/>\n",
              "    <path d=\"M18.56 5.44l.94 2.06.94-2.06 2.06-.94-2.06-.94-.94-2.06-.94 2.06-2.06.94zm-11 1L8.5 8.5l.94-2.06 2.06-.94-2.06-.94L8.5 2.5l-.94 2.06-2.06.94zm10 10l.94 2.06.94-2.06 2.06-.94-2.06-.94-.94-2.06-.94 2.06-2.06.94z\"/><path d=\"M17.41 7.96l-1.37-1.37c-.4-.4-.92-.59-1.43-.59-.52 0-1.04.2-1.43.59L10.3 9.45l-7.72 7.72c-.78.78-.78 2.05 0 2.83L4 21.41c.39.39.9.59 1.41.59.51 0 1.02-.2 1.41-.59l7.78-7.78 2.81-2.81c.8-.78.8-2.07 0-2.86zM5.41 20L4 18.59l7.72-7.72 1.47 1.35L5.41 20z\"/>\n",
              "  </svg>\n",
              "      </button>\n",
              "\n",
              "\n",
              "\n",
              "    <div id=\"df-70020dd2-9167-4392-bd89-26f530effe6d\">\n",
              "      <button class=\"colab-df-quickchart\" onclick=\"quickchart('df-70020dd2-9167-4392-bd89-26f530effe6d')\"\n",
              "              title=\"Suggest charts.\"\n",
              "              style=\"display:none;\">\n",
              "\n",
              "<svg xmlns=\"http://www.w3.org/2000/svg\" height=\"24px\"viewBox=\"0 0 24 24\"\n",
              "     width=\"24px\">\n",
              "    <g>\n",
              "        <path d=\"M19 3H5c-1.1 0-2 .9-2 2v14c0 1.1.9 2 2 2h14c1.1 0 2-.9 2-2V5c0-1.1-.9-2-2-2zM9 17H7v-7h2v7zm4 0h-2V7h2v10zm4 0h-2v-4h2v4z\"/>\n",
              "    </g>\n",
              "</svg>\n",
              "      </button>\n",
              "    </div>\n",
              "\n",
              "<style>\n",
              "  .colab-df-quickchart {\n",
              "    background-color: #E8F0FE;\n",
              "    border: none;\n",
              "    border-radius: 50%;\n",
              "    cursor: pointer;\n",
              "    display: none;\n",
              "    fill: #1967D2;\n",
              "    height: 32px;\n",
              "    padding: 0 0 0 0;\n",
              "    width: 32px;\n",
              "  }\n",
              "\n",
              "  .colab-df-quickchart:hover {\n",
              "    background-color: #E2EBFA;\n",
              "    box-shadow: 0px 1px 2px rgba(60, 64, 67, 0.3), 0px 1px 3px 1px rgba(60, 64, 67, 0.15);\n",
              "    fill: #174EA6;\n",
              "  }\n",
              "\n",
              "  [theme=dark] .colab-df-quickchart {\n",
              "    background-color: #3B4455;\n",
              "    fill: #D2E3FC;\n",
              "  }\n",
              "\n",
              "  [theme=dark] .colab-df-quickchart:hover {\n",
              "    background-color: #434B5C;\n",
              "    box-shadow: 0px 1px 3px 1px rgba(0, 0, 0, 0.15);\n",
              "    filter: drop-shadow(0px 1px 2px rgba(0, 0, 0, 0.3));\n",
              "    fill: #FFFFFF;\n",
              "  }\n",
              "</style>\n",
              "\n",
              "    <script>\n",
              "      async function quickchart(key) {\n",
              "        const containerElement = document.querySelector('#' + key);\n",
              "        const charts = await google.colab.kernel.invokeFunction(\n",
              "            'suggestCharts', [key], {});\n",
              "      }\n",
              "    </script>\n",
              "\n",
              "      <script>\n",
              "\n",
              "function displayQuickchartButton(domScope) {\n",
              "  let quickchartButtonEl =\n",
              "    domScope.querySelector('#df-70020dd2-9167-4392-bd89-26f530effe6d button.colab-df-quickchart');\n",
              "  quickchartButtonEl.style.display =\n",
              "    google.colab.kernel.accessAllowed ? 'block' : 'none';\n",
              "}\n",
              "\n",
              "        displayQuickchartButton(document);\n",
              "      </script>\n",
              "      <style>\n",
              "    .colab-df-container {\n",
              "      display:flex;\n",
              "      flex-wrap:wrap;\n",
              "      gap: 12px;\n",
              "    }\n",
              "\n",
              "    .colab-df-convert {\n",
              "      background-color: #E8F0FE;\n",
              "      border: none;\n",
              "      border-radius: 50%;\n",
              "      cursor: pointer;\n",
              "      display: none;\n",
              "      fill: #1967D2;\n",
              "      height: 32px;\n",
              "      padding: 0 0 0 0;\n",
              "      width: 32px;\n",
              "    }\n",
              "\n",
              "    .colab-df-convert:hover {\n",
              "      background-color: #E2EBFA;\n",
              "      box-shadow: 0px 1px 2px rgba(60, 64, 67, 0.3), 0px 1px 3px 1px rgba(60, 64, 67, 0.15);\n",
              "      fill: #174EA6;\n",
              "    }\n",
              "\n",
              "    [theme=dark] .colab-df-convert {\n",
              "      background-color: #3B4455;\n",
              "      fill: #D2E3FC;\n",
              "    }\n",
              "\n",
              "    [theme=dark] .colab-df-convert:hover {\n",
              "      background-color: #434B5C;\n",
              "      box-shadow: 0px 1px 3px 1px rgba(0, 0, 0, 0.15);\n",
              "      filter: drop-shadow(0px 1px 2px rgba(0, 0, 0, 0.3));\n",
              "      fill: #FFFFFF;\n",
              "    }\n",
              "  </style>\n",
              "\n",
              "      <script>\n",
              "        const buttonEl =\n",
              "          document.querySelector('#df-4bbece46-a032-4c60-963e-2efba9e8e43b button.colab-df-convert');\n",
              "        buttonEl.style.display =\n",
              "          google.colab.kernel.accessAllowed ? 'block' : 'none';\n",
              "\n",
              "        async function convertToInteractive(key) {\n",
              "          const element = document.querySelector('#df-4bbece46-a032-4c60-963e-2efba9e8e43b');\n",
              "          const dataTable =\n",
              "            await google.colab.kernel.invokeFunction('convertToInteractive',\n",
              "                                                     [key], {});\n",
              "          if (!dataTable) return;\n",
              "\n",
              "          const docLinkHtml = 'Like what you see? Visit the ' +\n",
              "            '<a target=\"_blank\" href=https://colab.research.google.com/notebooks/data_table.ipynb>data table notebook</a>'\n",
              "            + ' to learn more about interactive tables.';\n",
              "          element.innerHTML = '';\n",
              "          dataTable['output_type'] = 'display_data';\n",
              "          await google.colab.output.renderOutput(dataTable, element);\n",
              "          const docLink = document.createElement('div');\n",
              "          docLink.innerHTML = docLinkHtml;\n",
              "          element.appendChild(docLink);\n",
              "        }\n",
              "      </script>\n",
              "    </div>\n",
              "  </div>\n"
            ]
          },
          "metadata": {},
          "execution_count": 12
        }
      ]
    },
    {
      "cell_type": "code",
      "metadata": {
        "id": "PwCZuulL9E1M",
        "colab": {
          "base_uri": "https://localhost:8080/"
        },
        "outputId": "a4888917-2644-4471-8ea8-3bfd0e14eecb"
      },
      "source": [
        "df.info()"
      ],
      "execution_count": 13,
      "outputs": [
        {
          "output_type": "stream",
          "name": "stdout",
          "text": [
            "<class 'pandas.core.frame.DataFrame'>\n",
            "RangeIndex: 6362620 entries, 0 to 6362619\n",
            "Data columns (total 11 columns):\n",
            " #   Column          Dtype  \n",
            "---  ------          -----  \n",
            " 0   step            int64  \n",
            " 1   type            object \n",
            " 2   amount          float64\n",
            " 3   nameOrig        object \n",
            " 4   oldbalanceOrg   float64\n",
            " 5   newbalanceOrig  float64\n",
            " 6   nameDest        object \n",
            " 7   oldbalanceDest  float64\n",
            " 8   newbalanceDest  float64\n",
            " 9   isFraud         int64  \n",
            " 10  isFlaggedFraud  int64  \n",
            "dtypes: float64(5), int64(3), object(3)\n",
            "memory usage: 534.0+ MB\n"
          ]
        }
      ]
    },
    {
      "cell_type": "markdown",
      "source": [],
      "metadata": {
        "id": "EL8XcRAt7o6N"
      }
    },
    {
      "cell_type": "code",
      "source": [
        "# Percentage of labels = 1\n",
        "(len(df)-len(df[df['isFraud']==1]))/len(df)"
      ],
      "metadata": {
        "colab": {
          "base_uri": "https://localhost:8080/"
        },
        "id": "GFTg-KQsQOmw",
        "outputId": "310fdad6-619f-4bb3-9b0c-ad4370829269"
      },
      "execution_count": 14,
      "outputs": [
        {
          "output_type": "execute_result",
          "data": {
            "text/plain": [
              "0.9987091795518198"
            ]
          },
          "metadata": {},
          "execution_count": 14
        }
      ]
    },
    {
      "cell_type": "code",
      "metadata": {
        "id": "8CX3DRJ3AhFG"
      },
      "source": [
        "# dropping column 'isFlaggedFraud'\n",
        "df.drop(columns=['isFlaggedFraud'],inplace=True)"
      ],
      "execution_count": 15,
      "outputs": []
    },
    {
      "cell_type": "code",
      "source": [
        "# Number of nulls in dataset\n",
        "for col in df.columns:\n",
        "    print(col, df[col].isnull().sum())"
      ],
      "metadata": {
        "colab": {
          "base_uri": "https://localhost:8080/"
        },
        "id": "pn6gxhOAXrKl",
        "outputId": "bee28749-7172-42c4-bf21-ddccccb3b4af"
      },
      "execution_count": 16,
      "outputs": [
        {
          "output_type": "stream",
          "name": "stdout",
          "text": [
            "step 0\n",
            "type 0\n",
            "amount 0\n",
            "nameOrig 0\n",
            "oldbalanceOrg 0\n",
            "newbalanceOrig 0\n",
            "nameDest 0\n",
            "oldbalanceDest 0\n",
            "newbalanceDest 0\n",
            "isFraud 0\n"
          ]
        }
      ]
    },
    {
      "cell_type": "markdown",
      "source": [
        "## In order to be fed into a neural network, the four 'object' type columns will be converted to embeddings. Choosing columns that will be encoded and calculating embedding sizes.\n",
        "\n"
      ],
      "metadata": {
        "id": "-EshN599vqj1"
      }
    },
    {
      "cell_type": "code",
      "source": [
        "# Changing datatypes of 'object' types to 'category'\n",
        "\n",
        "df[\"step\"] = df[\"step\"].astype(\"category\")\n",
        "df[\"type\"] = df[\"type\"].astype(\"category\")\n",
        "df[\"nameOrig\"] = df[\"nameOrig\"].astype(\"category\")\n",
        "df[\"nameDest\"] = df[\"nameDest\"].astype(\"category\")"
      ],
      "metadata": {
        "id": "LG2xgBvnaDSp"
      },
      "execution_count": 17,
      "outputs": []
    },
    {
      "cell_type": "code",
      "source": [
        "# Defining labels\n",
        "Y = df['isFraud']\n",
        "df.drop(columns=['isFraud'],inplace=True)\n",
        "print(len(df),len(Y))"
      ],
      "metadata": {
        "colab": {
          "base_uri": "https://localhost:8080/"
        },
        "id": "6LIL8yLXheaF",
        "outputId": "4a45c1bd-d642-4045-b003-0df6c711e7fe"
      },
      "execution_count": 18,
      "outputs": [
        {
          "output_type": "stream",
          "name": "stdout",
          "text": [
            "6362620 6362620\n"
          ]
        }
      ]
    },
    {
      "cell_type": "code",
      "source": [
        "# calculating number of categories in 'category' type columns.\n",
        "embCol_dict = {}\n",
        "for n,c in df.items():\n",
        "  if str(df.dtypes[c.name]) == \"category\":\n",
        "    if len(c.cat.categories) > 2:\n",
        "      embCol_dict[c.name] = len(c.cat.categories)\n",
        "embCol_dict"
      ],
      "metadata": {
        "colab": {
          "base_uri": "https://localhost:8080/"
        },
        "id": "TJl-vda7hvwc",
        "outputId": "e5327fd7-c197-4be0-9a80-b6dc04dd6146"
      },
      "execution_count": 19,
      "outputs": [
        {
          "output_type": "execute_result",
          "data": {
            "text/plain": [
              "{'step': 743, 'type': 5, 'nameOrig': 6353307, 'nameDest': 2722362}"
            ]
          },
          "metadata": {},
          "execution_count": 19
        }
      ]
    },
    {
      "cell_type": "markdown",
      "source": [
        "Borrowed from https://jovian.ai/aakanksha-ns/shelter-outcome\n",
        "\n",
        "Below code calculates the size of embeddings based on number of categories in each column. The output size is min(50,(category size+1)/2). In case of step, nameOrig and nameDest, embeddings help in reducing categories to embeddings of length 50"
      ],
      "metadata": {
        "id": "P0CbKRmWBu1h"
      }
    },
    {
      "cell_type": "code",
      "source": [
        "# computing embedding sizes\n",
        "embedding_sizes = [(n_categories, min(16, (n_categories+1)//2)) for _,n_categories in embCol_dict.items()]\n",
        "embedding_sizes"
      ],
      "metadata": {
        "colab": {
          "base_uri": "https://localhost:8080/"
        },
        "id": "oQAZ307oC6z7",
        "outputId": "97d05d4c-da60-434f-83c0-0da775bc341c"
      },
      "execution_count": 20,
      "outputs": [
        {
          "output_type": "execute_result",
          "data": {
            "text/plain": [
              "[(743, 16), (5, 3), (6353307, 16), (2722362, 16)]"
            ]
          },
          "metadata": {},
          "execution_count": 20
        }
      ]
    },
    {
      "cell_type": "code",
      "source": [
        "embCol_list = embCol_dict.keys()\n",
        "len(embCol_list)"
      ],
      "metadata": {
        "colab": {
          "base_uri": "https://localhost:8080/"
        },
        "id": "ZVGQvRWFirIg",
        "outputId": "0295e11d-e3a5-45e2-e2f5-6a02da2dc57f"
      },
      "execution_count": 21,
      "outputs": [
        {
          "output_type": "execute_result",
          "data": {
            "text/plain": [
              "4"
            ]
          },
          "metadata": {},
          "execution_count": 21
        }
      ]
    },
    {
      "cell_type": "markdown",
      "source": [
        "Encoding text categories in 'category' columns to integer codes using Sklearn's LabelEncoder"
      ],
      "metadata": {
        "id": "tHooJPpcw7hl"
      }
    },
    {
      "cell_type": "code",
      "source": [
        "for col in df.columns:\n",
        "  if (df.dtypes[col]) == \"category\":\n",
        "    df[col] = LabelEncoder().fit_transform(df[col])"
      ],
      "metadata": {
        "id": "ssxT_SMbqZBX"
      },
      "execution_count": 22,
      "outputs": []
    },
    {
      "cell_type": "markdown",
      "source": [
        "Portioning 70% data for training and 15% each for validation and testing."
      ],
      "metadata": {
        "id": "ye0pqBhUxH-N"
      }
    },
    {
      "cell_type": "code",
      "source": [
        "np.random.seed(13)\n",
        "X_train, X_val_test, y_train, y_val_test = train_test_split(df, Y, test_size=0.30)\n",
        "X_train.head()"
      ],
      "metadata": {
        "colab": {
          "base_uri": "https://localhost:8080/",
          "height": 206
        },
        "id": "IqkcU93NfdrB",
        "outputId": "395dded8-3e25-41b2-8b75-2289abd13085"
      },
      "execution_count": 23,
      "outputs": [
        {
          "output_type": "execute_result",
          "data": {
            "text/plain": [
              "         step  type     amount  nameOrig  oldbalanceOrg  newbalanceOrig  \\\n",
              "3992863   297     3   10065.90   2897705            0.0            0.00   \n",
              "5609048   393     3   35667.84   3662289        69610.0        33942.16   \n",
              "6043451   489     0  408532.84   5627573        16636.0       425168.84   \n",
              "1219187   132     1  455613.55   3461200       257470.0            0.00   \n",
              "5325276   373     0  267214.37   3376548        21180.0       288394.37   \n",
              "\n",
              "         nameDest  oldbalanceDest  newbalanceDest  \n",
              "3992863   1427538            0.00            0.00  \n",
              "5609048   1614022            0.00            0.00  \n",
              "6043451    534679       809226.78       400693.94  \n",
              "1219187    423423        94728.63       550342.17  \n",
              "5325276    401669            0.00            0.00  "
            ],
            "text/html": [
              "\n",
              "\n",
              "  <div id=\"df-d37fa629-8cc7-4772-8d8c-4ffb87be979a\">\n",
              "    <div class=\"colab-df-container\">\n",
              "      <div>\n",
              "<style scoped>\n",
              "    .dataframe tbody tr th:only-of-type {\n",
              "        vertical-align: middle;\n",
              "    }\n",
              "\n",
              "    .dataframe tbody tr th {\n",
              "        vertical-align: top;\n",
              "    }\n",
              "\n",
              "    .dataframe thead th {\n",
              "        text-align: right;\n",
              "    }\n",
              "</style>\n",
              "<table border=\"1\" class=\"dataframe\">\n",
              "  <thead>\n",
              "    <tr style=\"text-align: right;\">\n",
              "      <th></th>\n",
              "      <th>step</th>\n",
              "      <th>type</th>\n",
              "      <th>amount</th>\n",
              "      <th>nameOrig</th>\n",
              "      <th>oldbalanceOrg</th>\n",
              "      <th>newbalanceOrig</th>\n",
              "      <th>nameDest</th>\n",
              "      <th>oldbalanceDest</th>\n",
              "      <th>newbalanceDest</th>\n",
              "    </tr>\n",
              "  </thead>\n",
              "  <tbody>\n",
              "    <tr>\n",
              "      <th>3992863</th>\n",
              "      <td>297</td>\n",
              "      <td>3</td>\n",
              "      <td>10065.90</td>\n",
              "      <td>2897705</td>\n",
              "      <td>0.0</td>\n",
              "      <td>0.00</td>\n",
              "      <td>1427538</td>\n",
              "      <td>0.00</td>\n",
              "      <td>0.00</td>\n",
              "    </tr>\n",
              "    <tr>\n",
              "      <th>5609048</th>\n",
              "      <td>393</td>\n",
              "      <td>3</td>\n",
              "      <td>35667.84</td>\n",
              "      <td>3662289</td>\n",
              "      <td>69610.0</td>\n",
              "      <td>33942.16</td>\n",
              "      <td>1614022</td>\n",
              "      <td>0.00</td>\n",
              "      <td>0.00</td>\n",
              "    </tr>\n",
              "    <tr>\n",
              "      <th>6043451</th>\n",
              "      <td>489</td>\n",
              "      <td>0</td>\n",
              "      <td>408532.84</td>\n",
              "      <td>5627573</td>\n",
              "      <td>16636.0</td>\n",
              "      <td>425168.84</td>\n",
              "      <td>534679</td>\n",
              "      <td>809226.78</td>\n",
              "      <td>400693.94</td>\n",
              "    </tr>\n",
              "    <tr>\n",
              "      <th>1219187</th>\n",
              "      <td>132</td>\n",
              "      <td>1</td>\n",
              "      <td>455613.55</td>\n",
              "      <td>3461200</td>\n",
              "      <td>257470.0</td>\n",
              "      <td>0.00</td>\n",
              "      <td>423423</td>\n",
              "      <td>94728.63</td>\n",
              "      <td>550342.17</td>\n",
              "    </tr>\n",
              "    <tr>\n",
              "      <th>5325276</th>\n",
              "      <td>373</td>\n",
              "      <td>0</td>\n",
              "      <td>267214.37</td>\n",
              "      <td>3376548</td>\n",
              "      <td>21180.0</td>\n",
              "      <td>288394.37</td>\n",
              "      <td>401669</td>\n",
              "      <td>0.00</td>\n",
              "      <td>0.00</td>\n",
              "    </tr>\n",
              "  </tbody>\n",
              "</table>\n",
              "</div>\n",
              "      <button class=\"colab-df-convert\" onclick=\"convertToInteractive('df-d37fa629-8cc7-4772-8d8c-4ffb87be979a')\"\n",
              "              title=\"Convert this dataframe to an interactive table.\"\n",
              "              style=\"display:none;\">\n",
              "\n",
              "  <svg xmlns=\"http://www.w3.org/2000/svg\" height=\"24px\"viewBox=\"0 0 24 24\"\n",
              "       width=\"24px\">\n",
              "    <path d=\"M0 0h24v24H0V0z\" fill=\"none\"/>\n",
              "    <path d=\"M18.56 5.44l.94 2.06.94-2.06 2.06-.94-2.06-.94-.94-2.06-.94 2.06-2.06.94zm-11 1L8.5 8.5l.94-2.06 2.06-.94-2.06-.94L8.5 2.5l-.94 2.06-2.06.94zm10 10l.94 2.06.94-2.06 2.06-.94-2.06-.94-.94-2.06-.94 2.06-2.06.94z\"/><path d=\"M17.41 7.96l-1.37-1.37c-.4-.4-.92-.59-1.43-.59-.52 0-1.04.2-1.43.59L10.3 9.45l-7.72 7.72c-.78.78-.78 2.05 0 2.83L4 21.41c.39.39.9.59 1.41.59.51 0 1.02-.2 1.41-.59l7.78-7.78 2.81-2.81c.8-.78.8-2.07 0-2.86zM5.41 20L4 18.59l7.72-7.72 1.47 1.35L5.41 20z\"/>\n",
              "  </svg>\n",
              "      </button>\n",
              "\n",
              "\n",
              "\n",
              "    <div id=\"df-5264c13f-afea-40cd-a279-3c1f63f7f29c\">\n",
              "      <button class=\"colab-df-quickchart\" onclick=\"quickchart('df-5264c13f-afea-40cd-a279-3c1f63f7f29c')\"\n",
              "              title=\"Suggest charts.\"\n",
              "              style=\"display:none;\">\n",
              "\n",
              "<svg xmlns=\"http://www.w3.org/2000/svg\" height=\"24px\"viewBox=\"0 0 24 24\"\n",
              "     width=\"24px\">\n",
              "    <g>\n",
              "        <path d=\"M19 3H5c-1.1 0-2 .9-2 2v14c0 1.1.9 2 2 2h14c1.1 0 2-.9 2-2V5c0-1.1-.9-2-2-2zM9 17H7v-7h2v7zm4 0h-2V7h2v10zm4 0h-2v-4h2v4z\"/>\n",
              "    </g>\n",
              "</svg>\n",
              "      </button>\n",
              "    </div>\n",
              "\n",
              "<style>\n",
              "  .colab-df-quickchart {\n",
              "    background-color: #E8F0FE;\n",
              "    border: none;\n",
              "    border-radius: 50%;\n",
              "    cursor: pointer;\n",
              "    display: none;\n",
              "    fill: #1967D2;\n",
              "    height: 32px;\n",
              "    padding: 0 0 0 0;\n",
              "    width: 32px;\n",
              "  }\n",
              "\n",
              "  .colab-df-quickchart:hover {\n",
              "    background-color: #E2EBFA;\n",
              "    box-shadow: 0px 1px 2px rgba(60, 64, 67, 0.3), 0px 1px 3px 1px rgba(60, 64, 67, 0.15);\n",
              "    fill: #174EA6;\n",
              "  }\n",
              "\n",
              "  [theme=dark] .colab-df-quickchart {\n",
              "    background-color: #3B4455;\n",
              "    fill: #D2E3FC;\n",
              "  }\n",
              "\n",
              "  [theme=dark] .colab-df-quickchart:hover {\n",
              "    background-color: #434B5C;\n",
              "    box-shadow: 0px 1px 3px 1px rgba(0, 0, 0, 0.15);\n",
              "    filter: drop-shadow(0px 1px 2px rgba(0, 0, 0, 0.3));\n",
              "    fill: #FFFFFF;\n",
              "  }\n",
              "</style>\n",
              "\n",
              "    <script>\n",
              "      async function quickchart(key) {\n",
              "        const containerElement = document.querySelector('#' + key);\n",
              "        const charts = await google.colab.kernel.invokeFunction(\n",
              "            'suggestCharts', [key], {});\n",
              "      }\n",
              "    </script>\n",
              "\n",
              "      <script>\n",
              "\n",
              "function displayQuickchartButton(domScope) {\n",
              "  let quickchartButtonEl =\n",
              "    domScope.querySelector('#df-5264c13f-afea-40cd-a279-3c1f63f7f29c button.colab-df-quickchart');\n",
              "  quickchartButtonEl.style.display =\n",
              "    google.colab.kernel.accessAllowed ? 'block' : 'none';\n",
              "}\n",
              "\n",
              "        displayQuickchartButton(document);\n",
              "      </script>\n",
              "      <style>\n",
              "    .colab-df-container {\n",
              "      display:flex;\n",
              "      flex-wrap:wrap;\n",
              "      gap: 12px;\n",
              "    }\n",
              "\n",
              "    .colab-df-convert {\n",
              "      background-color: #E8F0FE;\n",
              "      border: none;\n",
              "      border-radius: 50%;\n",
              "      cursor: pointer;\n",
              "      display: none;\n",
              "      fill: #1967D2;\n",
              "      height: 32px;\n",
              "      padding: 0 0 0 0;\n",
              "      width: 32px;\n",
              "    }\n",
              "\n",
              "    .colab-df-convert:hover {\n",
              "      background-color: #E2EBFA;\n",
              "      box-shadow: 0px 1px 2px rgba(60, 64, 67, 0.3), 0px 1px 3px 1px rgba(60, 64, 67, 0.15);\n",
              "      fill: #174EA6;\n",
              "    }\n",
              "\n",
              "    [theme=dark] .colab-df-convert {\n",
              "      background-color: #3B4455;\n",
              "      fill: #D2E3FC;\n",
              "    }\n",
              "\n",
              "    [theme=dark] .colab-df-convert:hover {\n",
              "      background-color: #434B5C;\n",
              "      box-shadow: 0px 1px 3px 1px rgba(0, 0, 0, 0.15);\n",
              "      filter: drop-shadow(0px 1px 2px rgba(0, 0, 0, 0.3));\n",
              "      fill: #FFFFFF;\n",
              "    }\n",
              "  </style>\n",
              "\n",
              "      <script>\n",
              "        const buttonEl =\n",
              "          document.querySelector('#df-d37fa629-8cc7-4772-8d8c-4ffb87be979a button.colab-df-convert');\n",
              "        buttonEl.style.display =\n",
              "          google.colab.kernel.accessAllowed ? 'block' : 'none';\n",
              "\n",
              "        async function convertToInteractive(key) {\n",
              "          const element = document.querySelector('#df-d37fa629-8cc7-4772-8d8c-4ffb87be979a');\n",
              "          const dataTable =\n",
              "            await google.colab.kernel.invokeFunction('convertToInteractive',\n",
              "                                                     [key], {});\n",
              "          if (!dataTable) return;\n",
              "\n",
              "          const docLinkHtml = 'Like what you see? Visit the ' +\n",
              "            '<a target=\"_blank\" href=https://colab.research.google.com/notebooks/data_table.ipynb>data table notebook</a>'\n",
              "            + ' to learn more about interactive tables.';\n",
              "          element.innerHTML = '';\n",
              "          dataTable['output_type'] = 'display_data';\n",
              "          await google.colab.output.renderOutput(dataTable, element);\n",
              "          const docLink = document.createElement('div');\n",
              "          docLink.innerHTML = docLinkHtml;\n",
              "          element.appendChild(docLink);\n",
              "        }\n",
              "      </script>\n",
              "    </div>\n",
              "  </div>\n"
            ]
          },
          "metadata": {},
          "execution_count": 23
        }
      ]
    },
    {
      "cell_type": "code",
      "source": [
        "np.random.seed(13)\n",
        "X_val, X_test, y_val, y_test = train_test_split(X_val_test, y_val_test, test_size=0.50)"
      ],
      "metadata": {
        "id": "HpdJL18xiMWi"
      },
      "execution_count": 24,
      "outputs": []
    },
    {
      "cell_type": "code",
      "source": [
        "# reset indexes to avoid errors in dataloader class\n",
        "X_train = X_train.reset_index(drop=True)\n",
        "y_train = y_train.reset_index(drop=True)\n",
        "\n",
        "X_val = X_val.reset_index(drop=True)\n",
        "y_val = y_val.reset_index(drop=True)\n",
        "\n",
        "X_test = X_test.reset_index(drop=True)\n",
        "y_test = y_test.reset_index(drop=True)\n",
        "\n"
      ],
      "metadata": {
        "id": "32CJ5ih0lxtE"
      },
      "execution_count": 25,
      "outputs": []
    },
    {
      "cell_type": "code",
      "source": [
        "print(len(X_train),len(y_train),len(X_val),len(y_val),len(X_test),len(y_test))"
      ],
      "metadata": {
        "colab": {
          "base_uri": "https://localhost:8080/"
        },
        "id": "uhjHUVAf6Kq8",
        "outputId": "aa5bffbe-35f8-4ad5-8dd1-33c42250cf2e"
      },
      "execution_count": 26,
      "outputs": [
        {
          "output_type": "stream",
          "name": "stdout",
          "text": [
            "4453834 4453834 954393 954393 954393 954393\n"
          ]
        }
      ]
    },
    {
      "cell_type": "markdown",
      "source": [
        "Data after encoding 'category' columns."
      ],
      "metadata": {
        "id": "pmoQ5MJdxl0i"
      }
    },
    {
      "cell_type": "code",
      "source": [
        "df.head()"
      ],
      "metadata": {
        "colab": {
          "base_uri": "https://localhost:8080/",
          "height": 206
        },
        "id": "3qgsI9hC6Vj_",
        "outputId": "894e3dc3-9bc5-42f5-b776-04095444f546"
      },
      "execution_count": 27,
      "outputs": [
        {
          "output_type": "execute_result",
          "data": {
            "text/plain": [
              "   step  type    amount  nameOrig  oldbalanceOrg  newbalanceOrig  nameDest  \\\n",
              "0     0     3   9839.64    757869       170136.0       160296.36   1662094   \n",
              "1     0     3   1864.28   2188998        21249.0        19384.72   1733924   \n",
              "2     0     4    181.00   1002156          181.0            0.00    439685   \n",
              "3     0     1    181.00   5828262          181.0            0.00    391696   \n",
              "4     0     3  11668.14   3445981        41554.0        29885.86    828919   \n",
              "\n",
              "   oldbalanceDest  newbalanceDest  \n",
              "0             0.0             0.0  \n",
              "1             0.0             0.0  \n",
              "2             0.0             0.0  \n",
              "3         21182.0             0.0  \n",
              "4             0.0             0.0  "
            ],
            "text/html": [
              "\n",
              "\n",
              "  <div id=\"df-5745baf7-1996-4cc0-8c8e-e64ae53c6b2a\">\n",
              "    <div class=\"colab-df-container\">\n",
              "      <div>\n",
              "<style scoped>\n",
              "    .dataframe tbody tr th:only-of-type {\n",
              "        vertical-align: middle;\n",
              "    }\n",
              "\n",
              "    .dataframe tbody tr th {\n",
              "        vertical-align: top;\n",
              "    }\n",
              "\n",
              "    .dataframe thead th {\n",
              "        text-align: right;\n",
              "    }\n",
              "</style>\n",
              "<table border=\"1\" class=\"dataframe\">\n",
              "  <thead>\n",
              "    <tr style=\"text-align: right;\">\n",
              "      <th></th>\n",
              "      <th>step</th>\n",
              "      <th>type</th>\n",
              "      <th>amount</th>\n",
              "      <th>nameOrig</th>\n",
              "      <th>oldbalanceOrg</th>\n",
              "      <th>newbalanceOrig</th>\n",
              "      <th>nameDest</th>\n",
              "      <th>oldbalanceDest</th>\n",
              "      <th>newbalanceDest</th>\n",
              "    </tr>\n",
              "  </thead>\n",
              "  <tbody>\n",
              "    <tr>\n",
              "      <th>0</th>\n",
              "      <td>0</td>\n",
              "      <td>3</td>\n",
              "      <td>9839.64</td>\n",
              "      <td>757869</td>\n",
              "      <td>170136.0</td>\n",
              "      <td>160296.36</td>\n",
              "      <td>1662094</td>\n",
              "      <td>0.0</td>\n",
              "      <td>0.0</td>\n",
              "    </tr>\n",
              "    <tr>\n",
              "      <th>1</th>\n",
              "      <td>0</td>\n",
              "      <td>3</td>\n",
              "      <td>1864.28</td>\n",
              "      <td>2188998</td>\n",
              "      <td>21249.0</td>\n",
              "      <td>19384.72</td>\n",
              "      <td>1733924</td>\n",
              "      <td>0.0</td>\n",
              "      <td>0.0</td>\n",
              "    </tr>\n",
              "    <tr>\n",
              "      <th>2</th>\n",
              "      <td>0</td>\n",
              "      <td>4</td>\n",
              "      <td>181.00</td>\n",
              "      <td>1002156</td>\n",
              "      <td>181.0</td>\n",
              "      <td>0.00</td>\n",
              "      <td>439685</td>\n",
              "      <td>0.0</td>\n",
              "      <td>0.0</td>\n",
              "    </tr>\n",
              "    <tr>\n",
              "      <th>3</th>\n",
              "      <td>0</td>\n",
              "      <td>1</td>\n",
              "      <td>181.00</td>\n",
              "      <td>5828262</td>\n",
              "      <td>181.0</td>\n",
              "      <td>0.00</td>\n",
              "      <td>391696</td>\n",
              "      <td>21182.0</td>\n",
              "      <td>0.0</td>\n",
              "    </tr>\n",
              "    <tr>\n",
              "      <th>4</th>\n",
              "      <td>0</td>\n",
              "      <td>3</td>\n",
              "      <td>11668.14</td>\n",
              "      <td>3445981</td>\n",
              "      <td>41554.0</td>\n",
              "      <td>29885.86</td>\n",
              "      <td>828919</td>\n",
              "      <td>0.0</td>\n",
              "      <td>0.0</td>\n",
              "    </tr>\n",
              "  </tbody>\n",
              "</table>\n",
              "</div>\n",
              "      <button class=\"colab-df-convert\" onclick=\"convertToInteractive('df-5745baf7-1996-4cc0-8c8e-e64ae53c6b2a')\"\n",
              "              title=\"Convert this dataframe to an interactive table.\"\n",
              "              style=\"display:none;\">\n",
              "\n",
              "  <svg xmlns=\"http://www.w3.org/2000/svg\" height=\"24px\"viewBox=\"0 0 24 24\"\n",
              "       width=\"24px\">\n",
              "    <path d=\"M0 0h24v24H0V0z\" fill=\"none\"/>\n",
              "    <path d=\"M18.56 5.44l.94 2.06.94-2.06 2.06-.94-2.06-.94-.94-2.06-.94 2.06-2.06.94zm-11 1L8.5 8.5l.94-2.06 2.06-.94-2.06-.94L8.5 2.5l-.94 2.06-2.06.94zm10 10l.94 2.06.94-2.06 2.06-.94-2.06-.94-.94-2.06-.94 2.06-2.06.94z\"/><path d=\"M17.41 7.96l-1.37-1.37c-.4-.4-.92-.59-1.43-.59-.52 0-1.04.2-1.43.59L10.3 9.45l-7.72 7.72c-.78.78-.78 2.05 0 2.83L4 21.41c.39.39.9.59 1.41.59.51 0 1.02-.2 1.41-.59l7.78-7.78 2.81-2.81c.8-.78.8-2.07 0-2.86zM5.41 20L4 18.59l7.72-7.72 1.47 1.35L5.41 20z\"/>\n",
              "  </svg>\n",
              "      </button>\n",
              "\n",
              "\n",
              "\n",
              "    <div id=\"df-c94b8b18-d55e-4035-9a77-657c506d8b4a\">\n",
              "      <button class=\"colab-df-quickchart\" onclick=\"quickchart('df-c94b8b18-d55e-4035-9a77-657c506d8b4a')\"\n",
              "              title=\"Suggest charts.\"\n",
              "              style=\"display:none;\">\n",
              "\n",
              "<svg xmlns=\"http://www.w3.org/2000/svg\" height=\"24px\"viewBox=\"0 0 24 24\"\n",
              "     width=\"24px\">\n",
              "    <g>\n",
              "        <path d=\"M19 3H5c-1.1 0-2 .9-2 2v14c0 1.1.9 2 2 2h14c1.1 0 2-.9 2-2V5c0-1.1-.9-2-2-2zM9 17H7v-7h2v7zm4 0h-2V7h2v10zm4 0h-2v-4h2v4z\"/>\n",
              "    </g>\n",
              "</svg>\n",
              "      </button>\n",
              "    </div>\n",
              "\n",
              "<style>\n",
              "  .colab-df-quickchart {\n",
              "    background-color: #E8F0FE;\n",
              "    border: none;\n",
              "    border-radius: 50%;\n",
              "    cursor: pointer;\n",
              "    display: none;\n",
              "    fill: #1967D2;\n",
              "    height: 32px;\n",
              "    padding: 0 0 0 0;\n",
              "    width: 32px;\n",
              "  }\n",
              "\n",
              "  .colab-df-quickchart:hover {\n",
              "    background-color: #E2EBFA;\n",
              "    box-shadow: 0px 1px 2px rgba(60, 64, 67, 0.3), 0px 1px 3px 1px rgba(60, 64, 67, 0.15);\n",
              "    fill: #174EA6;\n",
              "  }\n",
              "\n",
              "  [theme=dark] .colab-df-quickchart {\n",
              "    background-color: #3B4455;\n",
              "    fill: #D2E3FC;\n",
              "  }\n",
              "\n",
              "  [theme=dark] .colab-df-quickchart:hover {\n",
              "    background-color: #434B5C;\n",
              "    box-shadow: 0px 1px 3px 1px rgba(0, 0, 0, 0.15);\n",
              "    filter: drop-shadow(0px 1px 2px rgba(0, 0, 0, 0.3));\n",
              "    fill: #FFFFFF;\n",
              "  }\n",
              "</style>\n",
              "\n",
              "    <script>\n",
              "      async function quickchart(key) {\n",
              "        const containerElement = document.querySelector('#' + key);\n",
              "        const charts = await google.colab.kernel.invokeFunction(\n",
              "            'suggestCharts', [key], {});\n",
              "      }\n",
              "    </script>\n",
              "\n",
              "      <script>\n",
              "\n",
              "function displayQuickchartButton(domScope) {\n",
              "  let quickchartButtonEl =\n",
              "    domScope.querySelector('#df-c94b8b18-d55e-4035-9a77-657c506d8b4a button.colab-df-quickchart');\n",
              "  quickchartButtonEl.style.display =\n",
              "    google.colab.kernel.accessAllowed ? 'block' : 'none';\n",
              "}\n",
              "\n",
              "        displayQuickchartButton(document);\n",
              "      </script>\n",
              "      <style>\n",
              "    .colab-df-container {\n",
              "      display:flex;\n",
              "      flex-wrap:wrap;\n",
              "      gap: 12px;\n",
              "    }\n",
              "\n",
              "    .colab-df-convert {\n",
              "      background-color: #E8F0FE;\n",
              "      border: none;\n",
              "      border-radius: 50%;\n",
              "      cursor: pointer;\n",
              "      display: none;\n",
              "      fill: #1967D2;\n",
              "      height: 32px;\n",
              "      padding: 0 0 0 0;\n",
              "      width: 32px;\n",
              "    }\n",
              "\n",
              "    .colab-df-convert:hover {\n",
              "      background-color: #E2EBFA;\n",
              "      box-shadow: 0px 1px 2px rgba(60, 64, 67, 0.3), 0px 1px 3px 1px rgba(60, 64, 67, 0.15);\n",
              "      fill: #174EA6;\n",
              "    }\n",
              "\n",
              "    [theme=dark] .colab-df-convert {\n",
              "      background-color: #3B4455;\n",
              "      fill: #D2E3FC;\n",
              "    }\n",
              "\n",
              "    [theme=dark] .colab-df-convert:hover {\n",
              "      background-color: #434B5C;\n",
              "      box-shadow: 0px 1px 3px 1px rgba(0, 0, 0, 0.15);\n",
              "      filter: drop-shadow(0px 1px 2px rgba(0, 0, 0, 0.3));\n",
              "      fill: #FFFFFF;\n",
              "    }\n",
              "  </style>\n",
              "\n",
              "      <script>\n",
              "        const buttonEl =\n",
              "          document.querySelector('#df-5745baf7-1996-4cc0-8c8e-e64ae53c6b2a button.colab-df-convert');\n",
              "        buttonEl.style.display =\n",
              "          google.colab.kernel.accessAllowed ? 'block' : 'none';\n",
              "\n",
              "        async function convertToInteractive(key) {\n",
              "          const element = document.querySelector('#df-5745baf7-1996-4cc0-8c8e-e64ae53c6b2a');\n",
              "          const dataTable =\n",
              "            await google.colab.kernel.invokeFunction('convertToInteractive',\n",
              "                                                     [key], {});\n",
              "          if (!dataTable) return;\n",
              "\n",
              "          const docLinkHtml = 'Like what you see? Visit the ' +\n",
              "            '<a target=\"_blank\" href=https://colab.research.google.com/notebooks/data_table.ipynb>data table notebook</a>'\n",
              "            + ' to learn more about interactive tables.';\n",
              "          element.innerHTML = '';\n",
              "          dataTable['output_type'] = 'display_data';\n",
              "          await google.colab.output.renderOutput(dataTable, element);\n",
              "          const docLink = document.createElement('div');\n",
              "          docLink.innerHTML = docLinkHtml;\n",
              "          element.appendChild(docLink);\n",
              "        }\n",
              "      </script>\n",
              "    </div>\n",
              "  </div>\n"
            ]
          },
          "metadata": {},
          "execution_count": 27
        }
      ]
    },
    {
      "cell_type": "markdown",
      "source": [
        "Defining the Dataset class."
      ],
      "metadata": {
        "id": "si0XoF5nxv6A"
      }
    },
    {
      "cell_type": "code",
      "source": [
        "class FraudData(Dataset):\n",
        "    def __init__(self, df, y, embCol_list):\n",
        "\n",
        "        self.X1 = df.loc[:,embCol_list].copy().values.astype(np.int64)\n",
        "        self.X2 = df.drop(columns = embCol_list).copy().values.astype(np.float32)\n",
        "        self.y = y\n",
        "\n",
        "    def __len__(self):\n",
        "        return len(self.y)\n",
        "\n",
        "    def __getitem__(self, idx):\n",
        "        return self.X1[idx], self.X2[idx], self.y[idx]"
      ],
      "metadata": {
        "id": "mZeLejKqFz9m"
      },
      "execution_count": 28,
      "outputs": []
    },
    {
      "cell_type": "markdown",
      "source": [
        "Creating Dataset objects for Train/Validation/Test data"
      ],
      "metadata": {
        "id": "hCMjuLwfyNqe"
      }
    },
    {
      "cell_type": "code",
      "source": [
        "train_data = FraudData(X_train, y_train, embCol_list)\n",
        "valid_data = FraudData(X_val, y_val, embCol_list)\n",
        "test_data = FraudData(X_test, y_test, embCol_list)"
      ],
      "metadata": {
        "id": "GtmpE4TvKjQl"
      },
      "execution_count": 29,
      "outputs": []
    },
    {
      "cell_type": "code",
      "source": [
        "print(len(train_data),len(valid_data),len(test_data))"
      ],
      "metadata": {
        "colab": {
          "base_uri": "https://localhost:8080/"
        },
        "id": "TJlvEhpfRg_J",
        "outputId": "c85efa45-4ad9-4dc7-babd-87e4c744a7b1"
      },
      "execution_count": 30,
      "outputs": [
        {
          "output_type": "stream",
          "name": "stdout",
          "text": [
            "4453834 954393 954393\n"
          ]
        }
      ]
    },
    {
      "cell_type": "markdown",
      "source": [
        "Defining Hyperparameters and Dataloader objects"
      ],
      "metadata": {
        "id": "u19p6C8vyWGy"
      }
    },
    {
      "cell_type": "code",
      "source": [
        "# Hyperparameters and creating train and validation loader variables\n",
        "\n",
        "batch_size = 4096\n",
        "lr = 0.0001\n",
        "w_decay = 0.00001\n",
        "\n",
        "\n",
        "\n",
        "trainloader = DataLoader(train_data, batch_size=batch_size,\n",
        "                                          shuffle=True, num_workers=0)\n",
        "\n",
        "\n",
        "validloader = DataLoader(valid_data, batch_size=batch_size,\n",
        "                                         shuffle=False, num_workers=0)"
      ],
      "metadata": {
        "id": "EGRKSDYOSbeS"
      },
      "execution_count": 70,
      "outputs": []
    },
    {
      "cell_type": "markdown",
      "source": [
        "## Building Feedforward Neural Network.\n",
        "\n"
      ],
      "metadata": {
        "id": "d1EK0Ef6ygUs"
      }
    },
    {
      "cell_type": "code",
      "source": [
        "class FraudNet(nn.Module):\n",
        "    def __init__(self, embedding_sizes, n_cont):\n",
        "        super().__init__()\n",
        "        self.embeddings = nn.ModuleList([nn.Embedding(categories, size) for categories,size in embedding_sizes])\n",
        "        n_emb = sum(e.embedding_dim for e in self.embeddings)\n",
        "        self.n_emb, self.n_cont = n_emb, n_cont\n",
        "        self.lin1 = nn.Linear(self.n_emb + self.n_cont, 256)\n",
        "        self.lin2 = nn.Linear(256, 512)\n",
        "        self.lin3 = nn.Linear(512, 2)\n",
        "        self.bn1 = nn.BatchNorm1d(self.n_cont)\n",
        "        self.bn2 = nn.BatchNorm1d(256)\n",
        "        self.bn3 = nn.BatchNorm1d(512)\n",
        "        self.embedding_drop = nn.Dropout(0.6)\n",
        "        self.drops = nn.Dropout(0.3)\n",
        "\n",
        "\n",
        "    def forward(self, x_cat, x_cont):\n",
        "        x = [e(x_cat[:,i]) for i,e in enumerate(self.embeddings)]\n",
        "        x = torch.cat(x, 1)\n",
        "        x = self.embedding_drop(x)\n",
        "        x2 = self.bn1(x_cont)\n",
        "        x = torch.cat([x, x2], 1)\n",
        "        x = F.relu(self.lin1(x))\n",
        "        x = self.drops(x)\n",
        "        x = self.bn2(x)\n",
        "        x = F.relu(self.lin2(x))\n",
        "        x = self.drops(x)\n",
        "        x = self.bn3(x)\n",
        "        x = self.lin3(x)\n",
        "        return x"
      ],
      "metadata": {
        "id": "lLuvif_4Tif3"
      },
      "execution_count": 71,
      "outputs": []
    },
    {
      "cell_type": "markdown",
      "source": [
        "n_cont variable contains number of non-encoded columns"
      ],
      "metadata": {
        "id": "yQYe6783yzos"
      }
    },
    {
      "cell_type": "code",
      "source": [
        "n_cont = len(df.columns) - len(embCol_list)"
      ],
      "metadata": {
        "id": "0XMrENKLM1p4"
      },
      "execution_count": 72,
      "outputs": []
    },
    {
      "cell_type": "code",
      "source": [
        "net = FraudNet(embedding_sizes, n_cont).to(device=device)\n",
        "print(net)"
      ],
      "metadata": {
        "colab": {
          "base_uri": "https://localhost:8080/"
        },
        "id": "4N9BCrMZToso",
        "outputId": "3124924a-a889-4b99-e07e-5994c6119db9"
      },
      "execution_count": 73,
      "outputs": [
        {
          "output_type": "stream",
          "name": "stdout",
          "text": [
            "FraudNet(\n",
            "  (embeddings): ModuleList(\n",
            "    (0): Embedding(743, 16)\n",
            "    (1): Embedding(5, 3)\n",
            "    (2): Embedding(6353307, 16)\n",
            "    (3): Embedding(2722362, 16)\n",
            "  )\n",
            "  (lin1): Linear(in_features=56, out_features=256, bias=True)\n",
            "  (lin2): Linear(in_features=256, out_features=512, bias=True)\n",
            "  (lin3): Linear(in_features=512, out_features=2, bias=True)\n",
            "  (bn1): BatchNorm1d(5, eps=1e-05, momentum=0.1, affine=True, track_running_stats=True)\n",
            "  (bn2): BatchNorm1d(256, eps=1e-05, momentum=0.1, affine=True, track_running_stats=True)\n",
            "  (bn3): BatchNorm1d(512, eps=1e-05, momentum=0.1, affine=True, track_running_stats=True)\n",
            "  (embedding_drop): Dropout(p=0.6, inplace=False)\n",
            "  (drops): Dropout(p=0.3, inplace=False)\n",
            ")\n"
          ]
        }
      ]
    },
    {
      "cell_type": "code",
      "source": [
        "# https://stackoverflow.com/questions/49201236/check-the-total-number-of-parameters-in-a-pytorch-model\n",
        "\n",
        "from prettytable import PrettyTable\n",
        "def paramCount(model):\n",
        "    t = PrettyTable([\"Modules\", \"Parameters\"])\n",
        "    total_parameters = 0\n",
        "    for name, parameter in model.named_parameters():\n",
        "        if not parameter.requires_grad:\n",
        "          continue\n",
        "        params = parameter.numel()\n",
        "        t.add_row([name, params])\n",
        "        total_parameters+=params\n",
        "    print(t)\n",
        "    print(f\"Total Trainable Params: {total_parameters}\")\n",
        "    return total_parameters\n",
        "\n",
        "paramCount(net)"
      ],
      "metadata": {
        "colab": {
          "base_uri": "https://localhost:8080/"
        },
        "id": "u5lqTZw58A7c",
        "outputId": "05a75245-341c-4238-91b8-a289fd7ad254"
      },
      "execution_count": 74,
      "outputs": [
        {
          "output_type": "stream",
          "name": "stdout",
          "text": [
            "+---------------------+------------+\n",
            "|       Modules       | Parameters |\n",
            "+---------------------+------------+\n",
            "| embeddings.0.weight |   11888    |\n",
            "| embeddings.1.weight |     15     |\n",
            "| embeddings.2.weight | 101652912  |\n",
            "| embeddings.3.weight |  43557792  |\n",
            "|     lin1.weight     |   14336    |\n",
            "|      lin1.bias      |    256     |\n",
            "|     lin2.weight     |   131072   |\n",
            "|      lin2.bias      |    512     |\n",
            "|     lin3.weight     |    1024    |\n",
            "|      lin3.bias      |     2      |\n",
            "|      bn1.weight     |     5      |\n",
            "|       bn1.bias      |     5      |\n",
            "|      bn2.weight     |    256     |\n",
            "|       bn2.bias      |    256     |\n",
            "|      bn3.weight     |    512     |\n",
            "|       bn3.bias      |    512     |\n",
            "+---------------------+------------+\n",
            "Total Trainable Params: 145371355\n"
          ]
        },
        {
          "output_type": "execute_result",
          "data": {
            "text/plain": [
              "145371355"
            ]
          },
          "metadata": {},
          "execution_count": 74
        }
      ]
    },
    {
      "cell_type": "code",
      "source": [
        "criterion = nn.CrossEntropyLoss()\n",
        "\n",
        "\n",
        "optimizer = optim.Adam(params = net.parameters(), lr=lr, weight_decay= w_decay)#, nesterov=False, *, maximize=False, foreach=None)\n"
      ],
      "metadata": {
        "id": "G_HP5GArV6jB"
      },
      "execution_count": 75,
      "outputs": []
    },
    {
      "cell_type": "code",
      "source": [
        "root_path = '/content/drive/My Drive/Projects/Finance Dataset Kaggle/'"
      ],
      "metadata": {
        "id": "nySGu4M6QGy3"
      },
      "execution_count": 5,
      "outputs": []
    },
    {
      "cell_type": "markdown",
      "source": [
        "## Training and Inference\n",
        "\n"
      ],
      "metadata": {
        "id": "83SxfdGfOQE1"
      }
    },
    {
      "cell_type": "code",
      "source": [
        "num_epochs = 24\n",
        "\n",
        "\n",
        "tlossList = []\n",
        "vlossList = []\n",
        "\n",
        "np.random.seed(13)\n",
        "valAccMax = 0\n",
        "for epoch in range(0,num_epochs):  # loop over the dataset multiple times\n",
        "    t=time.time()\n",
        "    #sleep(0.5)\n",
        "    #print(\"Epoch: \",epoch+1)\n",
        "    trAcc = []\n",
        "    valAcc = []\n",
        "    train_batch_acc=0\n",
        "    valid_batch_acc=0\n",
        "    batch_loss=0\n",
        "    valid_loss=0\n",
        "    for i, data in enumerate(trainloader):\n",
        "        # get the inputs; data is a list of [inputs, labels]\n",
        "        x1 = data[0].to(device=device)\n",
        "        x2 = data[1].to(device=device)\n",
        "        labels = data[2].type(torch.LongTensor).to(device=device)\n",
        "\n",
        "        # zero the parameter gradients\n",
        "        optimizer.zero_grad()\n",
        "\n",
        "        # forward + backward + optimize\n",
        "        outputs = net(x1, x2)\n",
        "\n",
        "        loss = criterion(outputs, labels)\n",
        "        batch_loss+=loss\n",
        "        loss.backward()\n",
        "        optimizer.step()\n",
        "\n",
        "        # Batch Training Accuracy\n",
        "        batchPred = torch.argmax(outputs, dim=1)\n",
        "        batchAcc = np.mean(np.array((batchPred==labels).cpu()))\n",
        "        trAcc.append(batchAcc)\n",
        "\n",
        "    train_batch_acc = np.mean(trAcc)\n",
        "        # Validation Accuracy\n",
        "        #for id, d in enumerate(testloader):\n",
        "\n",
        "    for i, (x1, x2, y) in enumerate(validloader):\n",
        "        #print(x1,x2,y)\n",
        "        #print(i)\n",
        "        net.eval()\n",
        "        inpx1 = x1.to(device=device)\n",
        "        inpx2 = x2.to(device=device)\n",
        "        lab = y.type(torch.LongTensor).to(device=device)\n",
        "\n",
        "\n",
        "        np_lab = 0\n",
        "        with torch.no_grad():\n",
        "          out = net(inpx1,inpx2)\n",
        "          vloss = criterion(out, lab)\n",
        "          valid_loss+=vloss\n",
        "          np_lab = np.array(lab.cpu())\n",
        "\n",
        "        valPred = torch.argmax(out, dim=1)\n",
        "        vAcc = np.mean(np.array((valPred==lab).cpu()))\n",
        "        valAcc.append(vAcc)\n",
        "\n",
        "    valid_batch_acc = np.mean(valAcc)\n",
        "    if valid_batch_acc > valAccMax and epoch > 5:\n",
        "      valAccMax = valid_batch_acc\n",
        "      if valid_batch_acc > 0.9999:\n",
        "        p = root_path + \"modelAutoSave_\" + \"_\" + str(round(valAccMax*100000,0)) + \"_\" + str(epoch) + \"_\" + str(batch_size) + \"_\" + str(lr) + \"_\" + str(w_decay) + \"_\" + \".pth\"\n",
        "        torch.save(net.state_dict(), p)\n",
        "\n",
        "\n",
        "    \"\"\"\n",
        "    print(\"\\n\")\n",
        "    for l in [0,1]:\n",
        "      rel_labels = np.array((lab == l).cpu())\n",
        "      rel_predictions = np.array((valPred == l).cpu())\n",
        "      a = np.bitwise_and(rel_predictions,rel_labels)\n",
        "      try:\n",
        "        lAcc = len(a[a==True])/np.count_nonzero(np_lab == l)\n",
        "        print(\"Accuracy for label\",l,\":\",lAcc)\n",
        "      except:\n",
        "        print(\"Division by zero error for label:\",l)\n",
        "    \"\"\"\n",
        "    tlossList.append(batch_loss.item()/len(train_data))\n",
        "    vlossList.append(valid_loss.item()/len(valid_data))\n",
        "\n",
        "\n",
        "    # print statistics\n",
        "    print(\"Epoch\",epoch+1,\" T Loss:\", batch_loss.item()/len(train_data), \"V Loss:\", valid_loss.item()/len(valid_data),\\\n",
        "          \"T Accuracy:\", round(train_batch_acc,10), \"V Accuracy:\", round(valid_batch_acc,10),\\\n",
        "          \"Max Val Acc:\", round(valAccMax,6), \"Time\", round((time.time()-t)/60,2), \"min\")\n",
        "\n",
        "\n",
        "print('Finished Training')"
      ],
      "metadata": {
        "id": "EjRHlTnYO6Mw",
        "colab": {
          "base_uri": "https://localhost:8080/"
        },
        "outputId": "eb76edb3-e678-4c81-dba2-26145e7fb229"
      },
      "execution_count": 77,
      "outputs": [
        {
          "output_type": "stream",
          "name": "stdout",
          "text": [
            "Epoch 1  T Loss: 5.574123828818924e-05 V Loss: 3.875455228766166e-06 T Accuracy: 0.9095569467 V Accuracy: 0.9987302601 Max Val Acc: 0 Time 1.74 min\n",
            "Epoch 2  T Loss: 1.793813263855686e-06 V Loss: 1.5570574852484645e-06 T Accuracy: 0.9988744399 V Accuracy: 0.9989462306 Max Val Acc: 0 Time 1.78 min\n",
            "Epoch 3  T Loss: 1.4416970095389632e-06 V Loss: 1.3368570520547504e-06 T Accuracy: 0.9989943723 V Accuracy: 0.999080821 Max Val Acc: 0 Time 1.71 min\n",
            "Epoch 4  T Loss: 1.1982161025220639e-06 V Loss: 1.1278520570418761e-06 T Accuracy: 0.9991044437 V Accuracy: 0.9991444645 Max Val Acc: 0 Time 1.79 min\n",
            "Epoch 5  T Loss: 1.0533126937719449e-06 V Loss: 1.0315231499637257e-06 T Accuracy: 0.9991701911 V Accuracy: 0.999204978 Max Val Acc: 0 Time 1.71 min\n",
            "Epoch 6  T Loss: 9.53912422684985e-07 V Loss: 9.334258880078519e-07 T Accuracy: 0.9992244945 V Accuracy: 0.9992373214 Max Val Acc: 0 Time 1.69 min\n",
            "Epoch 7  T Loss: 8.641488715629909e-07 V Loss: 8.632192328477767e-07 T Accuracy: 0.9992790222 V Accuracy: 0.9992894882 Max Val Acc: 0.999289 Time 1.73 min\n",
            "Epoch 8  T Loss: 8.014396110513909e-07 V Loss: 9.717213412699536e-07 T Accuracy: 0.9993270425 V Accuracy: 0.9993437417 Max Val Acc: 0.999344 Time 1.71 min\n",
            "Epoch 9  T Loss: 7.56574028644467e-07 V Loss: 7.629381790851093e-07 T Accuracy: 0.9993699548 V Accuracy: 0.9993813017 Max Val Acc: 0.999381 Time 1.73 min\n",
            "Epoch 10  T Loss: 7.012463839601815e-07 V Loss: 7.173013207645129e-07 T Accuracy: 0.9994028877 V Accuracy: 0.9994219919 Max Val Acc: 0.999422 Time 1.72 min\n",
            "Epoch 11  T Loss: 6.46097800764738e-07 V Loss: 6.732995427566016e-07 T Accuracy: 0.9994358736 V Accuracy: 0.9994439019 Max Val Acc: 0.999444 Time 1.71 min\n",
            "Epoch 12  T Loss: 6.091532134262557e-07 V Loss: 6.579672221070915e-07 T Accuracy: 0.999464596 V Accuracy: 0.9994397286 Max Val Acc: 0.999444 Time 1.71 min\n",
            "Epoch 13  T Loss: 5.790581964329953e-07 V Loss: 6.230410422795053e-07 T Accuracy: 0.9994801852 V Accuracy: 0.9994699853 Max Val Acc: 0.99947 Time 1.69 min\n",
            "Epoch 14  T Loss: 5.440147121482445e-07 V Loss: 5.937186394771134e-07 T Accuracy: 0.9995069411 V Accuracy: 0.9995190221 Max Val Acc: 0.999519 Time 1.7 min\n",
            "Epoch 15  T Loss: 5.115422189505189e-07 V Loss: 5.660865878356067e-07 T Accuracy: 0.9995298947 V Accuracy: 0.9995106754 Max Val Acc: 0.999519 Time 1.65 min\n",
            "Epoch 16  T Loss: 4.948144499030623e-07 V Loss: 5.434165468508152e-07 T Accuracy: 0.9995537334 V Accuracy: 0.9995388455 Max Val Acc: 0.999539 Time 1.7 min\n",
            "Epoch 17  T Loss: 4.727099113302666e-07 V Loss: 5.027727695225041e-07 T Accuracy: 0.9995698898 V Accuracy: 0.9995148488 Max Val Acc: 0.999539 Time 1.67 min\n",
            "Epoch 18  T Loss: 4.39350916552282e-07 V Loss: 4.964135305591716e-07 T Accuracy: 0.9995862175 V Accuracy: 0.9995743189 Max Val Acc: 0.999574 Time 1.65 min\n",
            "Epoch 19  T Loss: 4.289924904609886e-07 V Loss: 5.101781888402136e-07 T Accuracy: 0.9996025983 V Accuracy: 0.9995336288 Max Val Acc: 0.999574 Time 1.69 min\n",
            "Epoch 20  T Loss: 4.0756343392016645e-07 V Loss: 4.5936420072547244e-07 T Accuracy: 0.9996221736 V Accuracy: 0.9995586689 Max Val Acc: 0.999574 Time 1.64 min\n",
            "Epoch 21  T Loss: 3.8834804845500335e-07 V Loss: 4.307398656132008e-07 T Accuracy: 0.9996387787 V Accuracy: 0.999593099 Max Val Acc: 0.999593 Time 1.64 min\n",
            "Epoch 22  T Loss: 3.674162421891745e-07 V Loss: 4.2474232282766584e-07 T Accuracy: 0.9996472527 V Accuracy: 0.9996045757 Max Val Acc: 0.999605 Time 1.64 min\n",
            "Epoch 23  T Loss: 3.6440988276470496e-07 V Loss: 4.169524432370527e-07 T Accuracy: 0.9996632377 V Accuracy: 0.9996358757 Max Val Acc: 0.999636 Time 1.75 min\n",
            "Epoch 24  T Loss: 3.4229653832795875e-07 V Loss: 4.079875741119353e-07 T Accuracy: 0.999679394 V Accuracy: 0.9996390057 Max Val Acc: 0.999639 Time 1.67 min\n",
            "Epoch 25  T Loss: 3.2104707858685695e-07 V Loss: 4.116667390139861e-07 T Accuracy: 0.9996977413 V Accuracy: 0.9996369191 Max Val Acc: 0.999639 Time 1.68 min\n",
            "Epoch 26  T Loss: 3.0241569052454015e-07 V Loss: 4.5173413819762095e-07 T Accuracy: 0.9997132775 V Accuracy: 0.9995951856 Max Val Acc: 0.999639 Time 1.74 min\n",
            "Epoch 27  T Loss: 2.7262149147942533e-07 V Loss: 4.014039105237361e-07 T Accuracy: 0.9997352151 V Accuracy: 0.999615009 Max Val Acc: 0.999639 Time 1.68 min\n",
            "Epoch 28  T Loss: 2.449116056361919e-07 V Loss: 4.2095018056471786e-07 T Accuracy: 0.9997662345 V Accuracy: 0.999605619 Max Val Acc: 0.999639 Time 1.7 min\n",
            "Epoch 29  T Loss: 2.0532424202188415e-07 V Loss: 4.3813988275196194e-07 T Accuracy: 0.9997975967 V Accuracy: 0.9995816223 Max Val Acc: 0.999639 Time 1.64 min\n",
            "Epoch 30  T Loss: 1.731116556384186e-07 V Loss: 4.266645305127802e-07 T Accuracy: 0.9998364698 V Accuracy: 0.9995816223 Max Val Acc: 0.999639 Time 1.72 min\n",
            "Epoch 31  T Loss: 1.2617806024586213e-07 V Loss: 4.6488844393690086e-07 T Accuracy: 0.9998835395 V Accuracy: 0.9995795356 Max Val Acc: 0.999639 Time 1.68 min\n",
            "Epoch 32  T Loss: 9.452732946903291e-08 V Loss: 5.017066979080686e-07 T Accuracy: 0.9999194426 V Accuracy: 0.9995336288 Max Val Acc: 0.999639 Time 1.71 min\n",
            "Epoch 33  T Loss: 7.520145583855752e-08 V Loss: 6.279249867664463e-07 T Accuracy: 0.9999445747 V Accuracy: 0.9995190221 Max Val Acc: 0.999639 Time 1.67 min\n",
            "Epoch 34  T Loss: 5.479968094764109e-08 V Loss: 4.84926405941588e-07 T Accuracy: 0.999962975 V Accuracy: 0.9995659722 Max Val Acc: 0.999639 Time 1.66 min\n",
            "Epoch 35  T Loss: 4.0098411527193076e-08 V Loss: 5.366686320414113e-07 T Accuracy: 0.9999786826 V Accuracy: 0.9995576255 Max Val Acc: 0.999639 Time 1.69 min\n",
            "Epoch 36  T Loss: 3.964979089981409e-08 V Loss: 6.072740491966928e-07 T Accuracy: 0.9999807021 V Accuracy: 0.9995430188 Max Val Acc: 0.999639 Time 1.71 min\n",
            "Epoch 37  T Loss: 3.031039263381929e-08 V Loss: 6.318186775030365e-07 T Accuracy: 0.9999901267 V Accuracy: 0.9994991987 Max Val Acc: 0.999639 Time 1.7 min\n",
            "Epoch 38  T Loss: 2.7337590510042657e-08 V Loss: 5.586368269334656e-07 T Accuracy: 0.9999887803 V Accuracy: 0.9995628422 Max Val Acc: 0.999639 Time 1.67 min\n",
            "Epoch 39  T Loss: 2.731782582870234e-08 V Loss: 6.094617130855071e-07 T Accuracy: 0.9999919218 V Accuracy: 0.9995430188 Max Val Acc: 0.999639 Time 1.69 min\n",
            "Epoch 40  T Loss: 2.2550718517138275e-08 V Loss: 5.307969319215522e-07 T Accuracy: 0.9999950633 V Accuracy: 0.9995659722 Max Val Acc: 0.999639 Time 1.68 min\n",
            "Finished Training\n"
          ]
        }
      ]
    },
    {
      "cell_type": "code",
      "source": [
        "# Save model\n",
        "model_scripted = torch.jit.script(net)\n",
        "model_scripted.save(root_path+'model_scripted_50.pt')"
      ],
      "metadata": {
        "id": "6ox7a129PDaL"
      },
      "execution_count": 78,
      "outputs": []
    },
    {
      "cell_type": "code",
      "source": [
        "from google.colab import runtime\n",
        "runtime.unassign()"
      ],
      "metadata": {
        "id": "BO_6ODDcdONy"
      },
      "execution_count": null,
      "outputs": []
    },
    {
      "cell_type": "code",
      "source": [
        "model = torch.jit.load(root_path+'model_scripted_50.pt')\n",
        "model.eval()"
      ],
      "metadata": {
        "colab": {
          "base_uri": "https://localhost:8080/"
        },
        "id": "odLZEbak86Z5",
        "outputId": "b37aca3c-29c7-4e4c-8e5f-af31c2991423"
      },
      "execution_count": 6,
      "outputs": [
        {
          "output_type": "execute_result",
          "data": {
            "text/plain": [
              "RecursiveScriptModule(\n",
              "  original_name=FraudNet\n",
              "  (embeddings): RecursiveScriptModule(\n",
              "    original_name=ModuleList\n",
              "    (0): RecursiveScriptModule(original_name=Embedding)\n",
              "    (1): RecursiveScriptModule(original_name=Embedding)\n",
              "    (2): RecursiveScriptModule(original_name=Embedding)\n",
              "    (3): RecursiveScriptModule(original_name=Embedding)\n",
              "  )\n",
              "  (lin1): RecursiveScriptModule(original_name=Linear)\n",
              "  (lin2): RecursiveScriptModule(original_name=Linear)\n",
              "  (lin3): RecursiveScriptModule(original_name=Linear)\n",
              "  (bn1): RecursiveScriptModule(original_name=BatchNorm1d)\n",
              "  (bn2): RecursiveScriptModule(original_name=BatchNorm1d)\n",
              "  (bn3): RecursiveScriptModule(original_name=BatchNorm1d)\n",
              "  (embedding_drop): RecursiveScriptModule(original_name=Dropout)\n",
              "  (drops): RecursiveScriptModule(original_name=Dropout)\n",
              ")"
            ]
          },
          "metadata": {},
          "execution_count": 6
        }
      ]
    },
    {
      "cell_type": "code",
      "source": [
        "# Loading testloader in variables for use in inference in training loop in next cell\n",
        "testloader = DataLoader(test_data, batch_size=len(test_data),\n",
        "                                         shuffle=False, num_workers=0)\n",
        "\n",
        "for i, (x1, x2, y) in enumerate(testloader):\n",
        "  inpx1_t = x1.to(device=device)\n",
        "  inpx2_t = x2.to(device=device)\n",
        "  lab_t = y.type(torch.CharTensor).to(device=device)"
      ],
      "metadata": {
        "id": "17ZGjzXULs7E"
      },
      "execution_count": 31,
      "outputs": []
    },
    {
      "cell_type": "markdown",
      "source": [
        "Checking accuracy on Testing Set"
      ],
      "metadata": {
        "id": "uS2NTc2hl5BF"
      }
    },
    {
      "cell_type": "code",
      "source": [
        "# Evaluation for test data\n",
        "\n",
        "with torch.no_grad():\n",
        "  out = model(inpx1_t,inpx2_t)\n",
        "\n",
        "a = torch.argmax(out, dim=1)\n",
        "b = np.mean(np.array((a==lab_t).cpu()))\n",
        "print(\"Test Accuracy: \",b,\"Correctly Classified Datapoints: \",len(test_data)*b,\"Incorrectly Classified Datapoints: \",len(test_data)-len(test_data)*b )"
      ],
      "metadata": {
        "id": "hhoNeNdqLmkH",
        "colab": {
          "base_uri": "https://localhost:8080/"
        },
        "outputId": "25efb1fa-6149-4093-86e9-bef9c16c6a0b"
      },
      "execution_count": 33,
      "outputs": [
        {
          "output_type": "stream",
          "name": "stdout",
          "text": [
            "Test Accuracy:  0.9995903155199168 Correctly Classified Datapoints:  954002.0 Incorrectly Classified Datapoints:  391.0\n"
          ]
        }
      ]
    },
    {
      "cell_type": "markdown",
      "source": [
        "## Generating Confusion Matrix"
      ],
      "metadata": {
        "id": "-OQZhbxULr54"
      }
    },
    {
      "cell_type": "code",
      "source": [
        "test_labels = np.array(lab_t.cpu())\n",
        "test_predictions = np.array(a.cpu())"
      ],
      "metadata": {
        "id": "3qakPHsgMxL_"
      },
      "execution_count": 34,
      "outputs": []
    },
    {
      "cell_type": "code",
      "source": [
        "import locale\n",
        "locale.getpreferredencoding = lambda: \"UTF-8\""
      ],
      "metadata": {
        "id": "K7X8QglrCABC"
      },
      "execution_count": 37,
      "outputs": []
    },
    {
      "cell_type": "code",
      "source": [
        "!pip install pycm"
      ],
      "metadata": {
        "id": "I1-pCy4LOPOx",
        "colab": {
          "base_uri": "https://localhost:8080/"
        },
        "outputId": "acfd670e-54e7-4680-844f-a4069bf4b826"
      },
      "execution_count": 38,
      "outputs": [
        {
          "output_type": "stream",
          "name": "stdout",
          "text": [
            "Collecting pycm\n",
            "  Downloading pycm-4.0-py3-none-any.whl (70 kB)\n",
            "\u001b[2K     \u001b[90m━━━━━━━━━━━━━━━━━━━━━━━━━━━━━━━━━━━━━━━━\u001b[0m \u001b[32m70.3/70.3 kB\u001b[0m \u001b[31m1.8 MB/s\u001b[0m eta \u001b[36m0:00:00\u001b[0m\n",
            "\u001b[?25hCollecting art>=1.8 (from pycm)\n",
            "  Downloading art-6.0-py3-none-any.whl (599 kB)\n",
            "\u001b[2K     \u001b[90m━━━━━━━━━━━━━━━━━━━━━━━━━━━━━━━━━━━━━━\u001b[0m \u001b[32m599.4/599.4 kB\u001b[0m \u001b[31m11.0 MB/s\u001b[0m eta \u001b[36m0:00:00\u001b[0m\n",
            "\u001b[?25hRequirement already satisfied: numpy>=1.9.0 in /usr/local/lib/python3.10/dist-packages (from pycm) (1.22.4)\n",
            "Installing collected packages: art, pycm\n",
            "Successfully installed art-6.0 pycm-4.0\n"
          ]
        }
      ]
    },
    {
      "cell_type": "code",
      "source": [
        "# Confusion Matrix\n",
        "import pycm\n",
        "pycm.ConfusionMatrix(test_labels, test_predictions).print_matrix()#, cmap='Blues', columns = ['regular','fraud'])\n"
      ],
      "metadata": {
        "id": "oJjBeNy0OdvY",
        "colab": {
          "base_uri": "https://localhost:8080/"
        },
        "outputId": "028a435e-6ebb-45e9-fecd-877d0c12d504"
      },
      "execution_count": 35,
      "outputs": [
        {
          "output_type": "stream",
          "name": "stdout",
          "text": [
            "Predict      0            1            \n",
            "Actual\n",
            "0            953127       45           \n",
            "\n",
            "1            346          875          \n",
            "\n",
            "\n"
          ]
        }
      ]
    },
    {
      "cell_type": "markdown",
      "source": [
        "The above confusion matrix suggests the following:\n",
        "1. Out of 1221 fraud cases in test set, 875 were correctly classified as Fraud (True Negative) and 342 were classified as regular transactions (False Positives). Thus, the model is 68.96% accurate in finding fraud.\n",
        "2. The number of False Negatives is low (40) which means only a few regular transactions are falsely flagged as fraud.\n",
        "3. By tuning the number of false positive and false negative cases, a financial organization can determine how much fraud they will allow in order to not bother customers with regular transactions with False Negative flags. In other words, the increase in fraud detection capabilites should not come at the expense of more false negatives.\n"
      ],
      "metadata": {
        "id": "OdLf34wdOut9"
      }
    },
    {
      "cell_type": "markdown",
      "source": [
        "#TabTransformer Experiment"
      ],
      "metadata": {
        "id": "cz9gb-lF4vAH"
      }
    },
    {
      "cell_type": "code",
      "source": [
        "import torch\n",
        "!pip install tab-transformer-pytorch\n",
        "\n",
        "from tab_transformer_pytorch import FTTransformer"
      ],
      "metadata": {
        "id": "CNZ4IXn34tfW"
      },
      "execution_count": null,
      "outputs": []
    },
    {
      "cell_type": "code",
      "source": [
        "model = FTTransformer(\n",
        "    categories = (10, 5, 6, 5, 8),      # tuple containing the number of unique values within each category\n",
        "    num_continuous = 10,                # number of continuous values\n",
        "    dim = 32,                           # dimension, paper set at 32\n",
        "    dim_out = 1,                        # binary prediction, but could be anything\n",
        "    depth = 6,                          # depth, paper recommended 6\n",
        "    heads = 8,                          # heads, paper recommends 8\n",
        "    attn_dropout = 0.1,                 # post-attention dropout\n",
        "    ff_dropout = 0.1                    # feed forward dropout\n",
        ")\n",
        "\n",
        "x_categ = torch.randint(0, 5, (1, 5))     # category values, from 0 - max number of categories, in the order as passed into the constructor above\n",
        "x_numer = torch.randn(1, 10)              # numerical value\n",
        "\n",
        "pred = model(x_categ, x_numer) # (1, 1)"
      ],
      "metadata": {
        "id": "sw9_PxvW6d91"
      },
      "execution_count": null,
      "outputs": []
    }
  ]
}