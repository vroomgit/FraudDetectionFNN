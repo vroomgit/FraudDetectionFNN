{
  "nbformat": 4,
  "nbformat_minor": 0,
  "metadata": {
    "kernelspec": {
      "display_name": "Python 3",
      "language": "python",
      "name": "python3"
    },
    "language_info": {
      "codemirror_mode": {
        "name": "ipython",
        "version": 3
      },
      "file_extension": ".py",
      "mimetype": "text/x-python",
      "name": "python",
      "nbconvert_exporter": "python",
      "pygments_lexer": "ipython3",
      "version": "3.7.7"
    },
    "colab": {
      "provenance": [],
      "include_colab_link": true
    },
    "accelerator": "GPU"
  },
  "cells": [
    {
      "cell_type": "markdown",
      "metadata": {
        "id": "view-in-github",
        "colab_type": "text"
      },
      "source": [
        "<a href=\"https://colab.research.google.com/github/vroomgit/FraudDetectionFNN/blob/main/Fraud_Detection_Feedforward_NN.ipynb\" target=\"_parent\"><img src=\"https://colab.research.google.com/assets/colab-badge.svg\" alt=\"Open In Colab\"/></a>"
      ]
    },
    {
      "cell_type": "markdown",
      "source": [
        "# Using a Feedforward Neural Network to detect fraudulent transactions in a simulated financial payments dataset\n",
        "\n",
        "Link to dataset: https://www.kaggle.com/datasets/ealaxi/paysim1"
      ],
      "metadata": {
        "id": "T50NjAoPHcJs"
      }
    },
    {
      "cell_type": "markdown",
      "source": [
        "## Environment prep and data unzipping (This section needed for Google Colab)"
      ],
      "metadata": {
        "id": "VYnzpwJbHMmS"
      }
    },
    {
      "cell_type": "code",
      "metadata": {
        "id": "g1AJFoPknuTS",
        "colab": {
          "base_uri": "https://localhost:8080/"
        },
        "outputId": "daa7faea-c7d8-4058-b8fd-8c689a7842e4"
      },
      "source": [
        "from google.colab import drive\n",
        "drive.mount(\"/content/drive\")"
      ],
      "execution_count": null,
      "outputs": [
        {
          "output_type": "stream",
          "name": "stdout",
          "text": [
            "Mounted at /content/drive\n"
          ]
        }
      ]
    },
    {
      "cell_type": "code",
      "metadata": {
        "colab": {
          "base_uri": "https://localhost:8080/"
        },
        "id": "LfCMwOmhrGmh",
        "outputId": "a228412b-c1e6-488f-ad63-0a84a88958b3"
      },
      "source": [
        "gpu_info = !nvidia-smi\n",
        "gpu_info = '\\n'.join(gpu_info)\n",
        "if gpu_info.find('failed') >= 0:\n",
        "  print('Select the Runtime > \"Change runtime type\" menu to enable a GPU accelerator, ')\n",
        "  print('and then re-execute this cell.')\n",
        "else:\n",
        "  print(gpu_info)"
      ],
      "execution_count": null,
      "outputs": [
        {
          "output_type": "stream",
          "name": "stdout",
          "text": [
            "Tue Oct  4 19:15:01 2022       \n",
            "+-----------------------------------------------------------------------------+\n",
            "| NVIDIA-SMI 460.32.03    Driver Version: 460.32.03    CUDA Version: 11.2     |\n",
            "|-------------------------------+----------------------+----------------------+\n",
            "| GPU  Name        Persistence-M| Bus-Id        Disp.A | Volatile Uncorr. ECC |\n",
            "| Fan  Temp  Perf  Pwr:Usage/Cap|         Memory-Usage | GPU-Util  Compute M. |\n",
            "|                               |                      |               MIG M. |\n",
            "|===============================+======================+======================|\n",
            "|   0  Tesla T4            Off  | 00000000:00:04.0 Off |                    0 |\n",
            "| N/A   48C    P8    12W /  70W |      0MiB / 15109MiB |      0%      Default |\n",
            "|                               |                      |                  N/A |\n",
            "+-------------------------------+----------------------+----------------------+\n",
            "                                                                               \n",
            "+-----------------------------------------------------------------------------+\n",
            "| Processes:                                                                  |\n",
            "|  GPU   GI   CI        PID   Type   Process name                  GPU Memory |\n",
            "|        ID   ID                                                   Usage      |\n",
            "|=============================================================================|\n",
            "|  No running processes found                                                 |\n",
            "+-----------------------------------------------------------------------------+\n"
          ]
        }
      ]
    },
    {
      "cell_type": "markdown",
      "source": [
        "## Loading and Preparing Data"
      ],
      "metadata": {
        "id": "CEOdfE337gew"
      }
    },
    {
      "cell_type": "code",
      "metadata": {
        "scrolled": true,
        "id": "V05MogNi9E1H"
      },
      "source": [
        "import pandas as pd\n",
        "import numpy as np\n",
        "from sklearn.preprocessing import LabelEncoder\n",
        "from sklearn.metrics import accuracy_score\n",
        "from sklearn.model_selection import train_test_split\n",
        "from sklearn.metrics import accuracy_score\n",
        "from sklearn.metrics import confusion_matrix\n",
        "import torch\n",
        "from torch.utils.data import Dataset, DataLoader\n",
        "import torch.optim as optim\n",
        "import torch.nn as nn\n",
        "import torch.nn.functional as F\n",
        "from torchvision import models\n",
        "import matplotlib.pyplot as plt\n",
        "from collections import Counter\n",
        "import tqdm\n",
        "import time\n",
        "from time import sleep\n",
        "from tqdm import tqdm, trange\n",
        "from prettytable import PrettyTable"
      ],
      "execution_count": null,
      "outputs": []
    },
    {
      "cell_type": "code",
      "source": [
        "device = torch.device(\"cuda\" if torch.cuda.is_available() else \"cpu\")\n",
        "device"
      ],
      "metadata": {
        "colab": {
          "base_uri": "https://localhost:8080/"
        },
        "id": "R4LXiJp-bcna",
        "outputId": "58ff23b0-06d0-424e-930a-bb4d9c1a83c2"
      },
      "execution_count": null,
      "outputs": [
        {
          "output_type": "execute_result",
          "data": {
            "text/plain": [
              "device(type='cuda')"
            ]
          },
          "metadata": {},
          "execution_count": 5
        }
      ]
    },
    {
      "cell_type": "code",
      "source": [
        "df = pd.read_csv('/content/drive/MyDrive/Projects/Finance Dataset Kaggle/FFDS.csv')\n",
        "df.head()"
      ],
      "metadata": {
        "colab": {
          "base_uri": "https://localhost:8080/",
          "height": 206
        },
        "id": "ArO3rYlGSkjF",
        "outputId": "49108fa7-99b7-4835-d36a-b2c227060835"
      },
      "execution_count": null,
      "outputs": [
        {
          "output_type": "execute_result",
          "data": {
            "text/plain": [
              "   step      type    amount     nameOrig  oldbalanceOrg  newbalanceOrig  \\\n",
              "0     1   PAYMENT   9839.64  C1231006815       170136.0       160296.36   \n",
              "1     1   PAYMENT   1864.28  C1666544295        21249.0        19384.72   \n",
              "2     1  TRANSFER    181.00  C1305486145          181.0            0.00   \n",
              "3     1  CASH_OUT    181.00   C840083671          181.0            0.00   \n",
              "4     1   PAYMENT  11668.14  C2048537720        41554.0        29885.86   \n",
              "\n",
              "      nameDest  oldbalanceDest  newbalanceDest  isFraud  isFlaggedFraud  \n",
              "0  M1979787155             0.0             0.0        0               0  \n",
              "1  M2044282225             0.0             0.0        0               0  \n",
              "2   C553264065             0.0             0.0        1               0  \n",
              "3    C38997010         21182.0             0.0        1               0  \n",
              "4  M1230701703             0.0             0.0        0               0  "
            ],
            "text/html": [
              "\n",
              "  <div id=\"df-0ef30be5-0b40-4003-ba9d-d0ee3194deba\">\n",
              "    <div class=\"colab-df-container\">\n",
              "      <div>\n",
              "<style scoped>\n",
              "    .dataframe tbody tr th:only-of-type {\n",
              "        vertical-align: middle;\n",
              "    }\n",
              "\n",
              "    .dataframe tbody tr th {\n",
              "        vertical-align: top;\n",
              "    }\n",
              "\n",
              "    .dataframe thead th {\n",
              "        text-align: right;\n",
              "    }\n",
              "</style>\n",
              "<table border=\"1\" class=\"dataframe\">\n",
              "  <thead>\n",
              "    <tr style=\"text-align: right;\">\n",
              "      <th></th>\n",
              "      <th>step</th>\n",
              "      <th>type</th>\n",
              "      <th>amount</th>\n",
              "      <th>nameOrig</th>\n",
              "      <th>oldbalanceOrg</th>\n",
              "      <th>newbalanceOrig</th>\n",
              "      <th>nameDest</th>\n",
              "      <th>oldbalanceDest</th>\n",
              "      <th>newbalanceDest</th>\n",
              "      <th>isFraud</th>\n",
              "      <th>isFlaggedFraud</th>\n",
              "    </tr>\n",
              "  </thead>\n",
              "  <tbody>\n",
              "    <tr>\n",
              "      <th>0</th>\n",
              "      <td>1</td>\n",
              "      <td>PAYMENT</td>\n",
              "      <td>9839.64</td>\n",
              "      <td>C1231006815</td>\n",
              "      <td>170136.0</td>\n",
              "      <td>160296.36</td>\n",
              "      <td>M1979787155</td>\n",
              "      <td>0.0</td>\n",
              "      <td>0.0</td>\n",
              "      <td>0</td>\n",
              "      <td>0</td>\n",
              "    </tr>\n",
              "    <tr>\n",
              "      <th>1</th>\n",
              "      <td>1</td>\n",
              "      <td>PAYMENT</td>\n",
              "      <td>1864.28</td>\n",
              "      <td>C1666544295</td>\n",
              "      <td>21249.0</td>\n",
              "      <td>19384.72</td>\n",
              "      <td>M2044282225</td>\n",
              "      <td>0.0</td>\n",
              "      <td>0.0</td>\n",
              "      <td>0</td>\n",
              "      <td>0</td>\n",
              "    </tr>\n",
              "    <tr>\n",
              "      <th>2</th>\n",
              "      <td>1</td>\n",
              "      <td>TRANSFER</td>\n",
              "      <td>181.00</td>\n",
              "      <td>C1305486145</td>\n",
              "      <td>181.0</td>\n",
              "      <td>0.00</td>\n",
              "      <td>C553264065</td>\n",
              "      <td>0.0</td>\n",
              "      <td>0.0</td>\n",
              "      <td>1</td>\n",
              "      <td>0</td>\n",
              "    </tr>\n",
              "    <tr>\n",
              "      <th>3</th>\n",
              "      <td>1</td>\n",
              "      <td>CASH_OUT</td>\n",
              "      <td>181.00</td>\n",
              "      <td>C840083671</td>\n",
              "      <td>181.0</td>\n",
              "      <td>0.00</td>\n",
              "      <td>C38997010</td>\n",
              "      <td>21182.0</td>\n",
              "      <td>0.0</td>\n",
              "      <td>1</td>\n",
              "      <td>0</td>\n",
              "    </tr>\n",
              "    <tr>\n",
              "      <th>4</th>\n",
              "      <td>1</td>\n",
              "      <td>PAYMENT</td>\n",
              "      <td>11668.14</td>\n",
              "      <td>C2048537720</td>\n",
              "      <td>41554.0</td>\n",
              "      <td>29885.86</td>\n",
              "      <td>M1230701703</td>\n",
              "      <td>0.0</td>\n",
              "      <td>0.0</td>\n",
              "      <td>0</td>\n",
              "      <td>0</td>\n",
              "    </tr>\n",
              "  </tbody>\n",
              "</table>\n",
              "</div>\n",
              "      <button class=\"colab-df-convert\" onclick=\"convertToInteractive('df-0ef30be5-0b40-4003-ba9d-d0ee3194deba')\"\n",
              "              title=\"Convert this dataframe to an interactive table.\"\n",
              "              style=\"display:none;\">\n",
              "        \n",
              "  <svg xmlns=\"http://www.w3.org/2000/svg\" height=\"24px\"viewBox=\"0 0 24 24\"\n",
              "       width=\"24px\">\n",
              "    <path d=\"M0 0h24v24H0V0z\" fill=\"none\"/>\n",
              "    <path d=\"M18.56 5.44l.94 2.06.94-2.06 2.06-.94-2.06-.94-.94-2.06-.94 2.06-2.06.94zm-11 1L8.5 8.5l.94-2.06 2.06-.94-2.06-.94L8.5 2.5l-.94 2.06-2.06.94zm10 10l.94 2.06.94-2.06 2.06-.94-2.06-.94-.94-2.06-.94 2.06-2.06.94z\"/><path d=\"M17.41 7.96l-1.37-1.37c-.4-.4-.92-.59-1.43-.59-.52 0-1.04.2-1.43.59L10.3 9.45l-7.72 7.72c-.78.78-.78 2.05 0 2.83L4 21.41c.39.39.9.59 1.41.59.51 0 1.02-.2 1.41-.59l7.78-7.78 2.81-2.81c.8-.78.8-2.07 0-2.86zM5.41 20L4 18.59l7.72-7.72 1.47 1.35L5.41 20z\"/>\n",
              "  </svg>\n",
              "      </button>\n",
              "      \n",
              "  <style>\n",
              "    .colab-df-container {\n",
              "      display:flex;\n",
              "      flex-wrap:wrap;\n",
              "      gap: 12px;\n",
              "    }\n",
              "\n",
              "    .colab-df-convert {\n",
              "      background-color: #E8F0FE;\n",
              "      border: none;\n",
              "      border-radius: 50%;\n",
              "      cursor: pointer;\n",
              "      display: none;\n",
              "      fill: #1967D2;\n",
              "      height: 32px;\n",
              "      padding: 0 0 0 0;\n",
              "      width: 32px;\n",
              "    }\n",
              "\n",
              "    .colab-df-convert:hover {\n",
              "      background-color: #E2EBFA;\n",
              "      box-shadow: 0px 1px 2px rgba(60, 64, 67, 0.3), 0px 1px 3px 1px rgba(60, 64, 67, 0.15);\n",
              "      fill: #174EA6;\n",
              "    }\n",
              "\n",
              "    [theme=dark] .colab-df-convert {\n",
              "      background-color: #3B4455;\n",
              "      fill: #D2E3FC;\n",
              "    }\n",
              "\n",
              "    [theme=dark] .colab-df-convert:hover {\n",
              "      background-color: #434B5C;\n",
              "      box-shadow: 0px 1px 3px 1px rgba(0, 0, 0, 0.15);\n",
              "      filter: drop-shadow(0px 1px 2px rgba(0, 0, 0, 0.3));\n",
              "      fill: #FFFFFF;\n",
              "    }\n",
              "  </style>\n",
              "\n",
              "      <script>\n",
              "        const buttonEl =\n",
              "          document.querySelector('#df-0ef30be5-0b40-4003-ba9d-d0ee3194deba button.colab-df-convert');\n",
              "        buttonEl.style.display =\n",
              "          google.colab.kernel.accessAllowed ? 'block' : 'none';\n",
              "\n",
              "        async function convertToInteractive(key) {\n",
              "          const element = document.querySelector('#df-0ef30be5-0b40-4003-ba9d-d0ee3194deba');\n",
              "          const dataTable =\n",
              "            await google.colab.kernel.invokeFunction('convertToInteractive',\n",
              "                                                     [key], {});\n",
              "          if (!dataTable) return;\n",
              "\n",
              "          const docLinkHtml = 'Like what you see? Visit the ' +\n",
              "            '<a target=\"_blank\" href=https://colab.research.google.com/notebooks/data_table.ipynb>data table notebook</a>'\n",
              "            + ' to learn more about interactive tables.';\n",
              "          element.innerHTML = '';\n",
              "          dataTable['output_type'] = 'display_data';\n",
              "          await google.colab.output.renderOutput(dataTable, element);\n",
              "          const docLink = document.createElement('div');\n",
              "          docLink.innerHTML = docLinkHtml;\n",
              "          element.appendChild(docLink);\n",
              "        }\n",
              "      </script>\n",
              "    </div>\n",
              "  </div>\n",
              "  "
            ]
          },
          "metadata": {},
          "execution_count": 6
        }
      ]
    },
    {
      "cell_type": "code",
      "metadata": {
        "id": "PwCZuulL9E1M",
        "colab": {
          "base_uri": "https://localhost:8080/"
        },
        "outputId": "9948084a-d864-4484-83f5-45de618700d5"
      },
      "source": [
        "df.info()"
      ],
      "execution_count": null,
      "outputs": [
        {
          "output_type": "stream",
          "name": "stdout",
          "text": [
            "<class 'pandas.core.frame.DataFrame'>\n",
            "RangeIndex: 6362620 entries, 0 to 6362619\n",
            "Data columns (total 11 columns):\n",
            " #   Column          Dtype  \n",
            "---  ------          -----  \n",
            " 0   step            int64  \n",
            " 1   type            object \n",
            " 2   amount          float64\n",
            " 3   nameOrig        object \n",
            " 4   oldbalanceOrg   float64\n",
            " 5   newbalanceOrig  float64\n",
            " 6   nameDest        object \n",
            " 7   oldbalanceDest  float64\n",
            " 8   newbalanceDest  float64\n",
            " 9   isFraud         int64  \n",
            " 10  isFlaggedFraud  int64  \n",
            "dtypes: float64(5), int64(3), object(3)\n",
            "memory usage: 534.0+ MB\n"
          ]
        }
      ]
    },
    {
      "cell_type": "markdown",
      "source": [],
      "metadata": {
        "id": "EL8XcRAt7o6N"
      }
    },
    {
      "cell_type": "code",
      "source": [
        "# Percentage of labels = 1\n",
        "(len(df)-len(df[df['isFraud']==1]))/len(df)"
      ],
      "metadata": {
        "colab": {
          "base_uri": "https://localhost:8080/"
        },
        "id": "GFTg-KQsQOmw",
        "outputId": "2b44e792-b098-4aa3-9246-baeeabc897ba"
      },
      "execution_count": null,
      "outputs": [
        {
          "output_type": "execute_result",
          "data": {
            "text/plain": [
              "0.9987091795518198"
            ]
          },
          "metadata": {},
          "execution_count": 8
        }
      ]
    },
    {
      "cell_type": "code",
      "metadata": {
        "id": "8CX3DRJ3AhFG"
      },
      "source": [
        "# dropping column 'isFlaggedFraud'\n",
        "df.drop(columns=['isFlaggedFraud'],inplace=True)"
      ],
      "execution_count": null,
      "outputs": []
    },
    {
      "cell_type": "code",
      "source": [
        "# Number of nulls in dataset\n",
        "for col in df.columns:\n",
        "    print(col, df[col].isnull().sum())"
      ],
      "metadata": {
        "colab": {
          "base_uri": "https://localhost:8080/"
        },
        "id": "pn6gxhOAXrKl",
        "outputId": "494e8ead-7b74-484a-d9c7-136e76f6951d"
      },
      "execution_count": null,
      "outputs": [
        {
          "output_type": "stream",
          "name": "stdout",
          "text": [
            "step 0\n",
            "type 0\n",
            "amount 0\n",
            "nameOrig 0\n",
            "oldbalanceOrg 0\n",
            "newbalanceOrig 0\n",
            "nameDest 0\n",
            "oldbalanceDest 0\n",
            "newbalanceDest 0\n",
            "isFraud 0\n"
          ]
        }
      ]
    },
    {
      "cell_type": "markdown",
      "source": [
        "## In order to be fed into a neural network, the four 'object' type columns will be converted to embeddings. Choosing columns that will be encoded and calculating embedding sizes.\n",
        "\n"
      ],
      "metadata": {
        "id": "-EshN599vqj1"
      }
    },
    {
      "cell_type": "code",
      "source": [
        "# Changing datatypes of 'object' types to 'category'\n",
        "\n",
        "df[\"step\"] = df[\"step\"].astype(\"category\")\n",
        "df[\"type\"] = df[\"type\"].astype(\"category\")\n",
        "df[\"nameOrig\"] = df[\"nameOrig\"].astype(\"category\")\n",
        "df[\"nameDest\"] = df[\"nameDest\"].astype(\"category\")"
      ],
      "metadata": {
        "id": "LG2xgBvnaDSp"
      },
      "execution_count": null,
      "outputs": []
    },
    {
      "cell_type": "code",
      "source": [
        "# Defining labels\n",
        "Y = df['isFraud']\n",
        "df.drop(columns=['isFraud'],inplace=True)\n",
        "print(len(df),len(Y))"
      ],
      "metadata": {
        "colab": {
          "base_uri": "https://localhost:8080/"
        },
        "id": "6LIL8yLXheaF",
        "outputId": "a536a319-c597-4637-a7a0-96d4ca1ddd6c"
      },
      "execution_count": null,
      "outputs": [
        {
          "output_type": "stream",
          "name": "stdout",
          "text": [
            "6362620 6362620\n"
          ]
        }
      ]
    },
    {
      "cell_type": "code",
      "source": [
        "# calculating number of categories in 'category' type columns.\n",
        "embCol_dict = {}\n",
        "for n,c in df.items():\n",
        "  if str(df.dtypes[c.name]) == \"category\":\n",
        "    if len(c.cat.categories) > 2:\n",
        "      embCol_dict[c.name] = len(c.cat.categories)\n",
        "embCol_dict"
      ],
      "metadata": {
        "colab": {
          "base_uri": "https://localhost:8080/"
        },
        "id": "TJl-vda7hvwc",
        "outputId": "496423b7-d522-4cbd-b005-6784c1a2eb3b"
      },
      "execution_count": null,
      "outputs": [
        {
          "output_type": "execute_result",
          "data": {
            "text/plain": [
              "{'step': 743, 'type': 5, 'nameOrig': 6353307, 'nameDest': 2722362}"
            ]
          },
          "metadata": {},
          "execution_count": 13
        }
      ]
    },
    {
      "cell_type": "markdown",
      "source": [
        "Borrowed from https://jovian.ai/aakanksha-ns/shelter-outcome\n",
        "\n",
        "Below code calculates the size of embeddings based on number of categories in each column. The output size is min(50,(category size+1)/2). In case of step, nameOrig and nameDest, embeddings help in reducing categories to embeddings of length 50"
      ],
      "metadata": {
        "id": "P0CbKRmWBu1h"
      }
    },
    {
      "cell_type": "code",
      "source": [
        "# computing embedding sizes\n",
        "embedding_sizes = [(n_categories, min(50, (n_categories+1)//2)) for _,n_categories in embCol_dict.items()]\n",
        "embedding_sizes"
      ],
      "metadata": {
        "colab": {
          "base_uri": "https://localhost:8080/"
        },
        "id": "oQAZ307oC6z7",
        "outputId": "4c32cba3-f487-40cd-9c03-05b595ad7b15"
      },
      "execution_count": null,
      "outputs": [
        {
          "output_type": "execute_result",
          "data": {
            "text/plain": [
              "[(743, 50), (5, 3), (6353307, 50), (2722362, 50)]"
            ]
          },
          "metadata": {},
          "execution_count": 14
        }
      ]
    },
    {
      "cell_type": "code",
      "source": [
        "embCol_list = embCol_dict.keys()\n",
        "len(embCol_list)"
      ],
      "metadata": {
        "colab": {
          "base_uri": "https://localhost:8080/"
        },
        "id": "ZVGQvRWFirIg",
        "outputId": "aebf2e8d-943d-4fab-8f04-a83df13da672"
      },
      "execution_count": null,
      "outputs": [
        {
          "output_type": "execute_result",
          "data": {
            "text/plain": [
              "4"
            ]
          },
          "metadata": {},
          "execution_count": 15
        }
      ]
    },
    {
      "cell_type": "markdown",
      "source": [
        "Encoding text categories in 'category' columns to integer codes using Sklearn's LabelEncoder"
      ],
      "metadata": {
        "id": "tHooJPpcw7hl"
      }
    },
    {
      "cell_type": "code",
      "source": [
        "for col in df.columns:\n",
        "  if (df.dtypes[col]) == \"category\":\n",
        "    df[col] = LabelEncoder().fit_transform(df[col])"
      ],
      "metadata": {
        "id": "ssxT_SMbqZBX"
      },
      "execution_count": null,
      "outputs": []
    },
    {
      "cell_type": "markdown",
      "source": [
        "Portioning 70% data for training and 15% each for validation and testing."
      ],
      "metadata": {
        "id": "ye0pqBhUxH-N"
      }
    },
    {
      "cell_type": "code",
      "source": [
        "np.random.seed(13)\n",
        "X_train, X_val_test, y_train, y_val_test = train_test_split(df, Y, test_size=0.30)\n",
        "X_train.head()"
      ],
      "metadata": {
        "colab": {
          "base_uri": "https://localhost:8080/",
          "height": 206
        },
        "id": "IqkcU93NfdrB",
        "outputId": "39d446ec-51ac-4c35-9e56-1a693cd22688"
      },
      "execution_count": null,
      "outputs": [
        {
          "output_type": "execute_result",
          "data": {
            "text/plain": [
              "         step  type     amount  nameOrig  oldbalanceOrg  newbalanceOrig  \\\n",
              "3992863   297     3   10065.90   2897705            0.0            0.00   \n",
              "5609048   393     3   35667.84   3662289        69610.0        33942.16   \n",
              "6043451   489     0  408532.84   5627573        16636.0       425168.84   \n",
              "1219187   132     1  455613.55   3461200       257470.0            0.00   \n",
              "5325276   373     0  267214.37   3376548        21180.0       288394.37   \n",
              "\n",
              "         nameDest  oldbalanceDest  newbalanceDest  \n",
              "3992863   1427538            0.00            0.00  \n",
              "5609048   1614022            0.00            0.00  \n",
              "6043451    534679       809226.78       400693.94  \n",
              "1219187    423423        94728.63       550342.17  \n",
              "5325276    401669            0.00            0.00  "
            ],
            "text/html": [
              "\n",
              "  <div id=\"df-f00e2982-477c-410e-8b3d-a7f485b49ba0\">\n",
              "    <div class=\"colab-df-container\">\n",
              "      <div>\n",
              "<style scoped>\n",
              "    .dataframe tbody tr th:only-of-type {\n",
              "        vertical-align: middle;\n",
              "    }\n",
              "\n",
              "    .dataframe tbody tr th {\n",
              "        vertical-align: top;\n",
              "    }\n",
              "\n",
              "    .dataframe thead th {\n",
              "        text-align: right;\n",
              "    }\n",
              "</style>\n",
              "<table border=\"1\" class=\"dataframe\">\n",
              "  <thead>\n",
              "    <tr style=\"text-align: right;\">\n",
              "      <th></th>\n",
              "      <th>step</th>\n",
              "      <th>type</th>\n",
              "      <th>amount</th>\n",
              "      <th>nameOrig</th>\n",
              "      <th>oldbalanceOrg</th>\n",
              "      <th>newbalanceOrig</th>\n",
              "      <th>nameDest</th>\n",
              "      <th>oldbalanceDest</th>\n",
              "      <th>newbalanceDest</th>\n",
              "    </tr>\n",
              "  </thead>\n",
              "  <tbody>\n",
              "    <tr>\n",
              "      <th>3992863</th>\n",
              "      <td>297</td>\n",
              "      <td>3</td>\n",
              "      <td>10065.90</td>\n",
              "      <td>2897705</td>\n",
              "      <td>0.0</td>\n",
              "      <td>0.00</td>\n",
              "      <td>1427538</td>\n",
              "      <td>0.00</td>\n",
              "      <td>0.00</td>\n",
              "    </tr>\n",
              "    <tr>\n",
              "      <th>5609048</th>\n",
              "      <td>393</td>\n",
              "      <td>3</td>\n",
              "      <td>35667.84</td>\n",
              "      <td>3662289</td>\n",
              "      <td>69610.0</td>\n",
              "      <td>33942.16</td>\n",
              "      <td>1614022</td>\n",
              "      <td>0.00</td>\n",
              "      <td>0.00</td>\n",
              "    </tr>\n",
              "    <tr>\n",
              "      <th>6043451</th>\n",
              "      <td>489</td>\n",
              "      <td>0</td>\n",
              "      <td>408532.84</td>\n",
              "      <td>5627573</td>\n",
              "      <td>16636.0</td>\n",
              "      <td>425168.84</td>\n",
              "      <td>534679</td>\n",
              "      <td>809226.78</td>\n",
              "      <td>400693.94</td>\n",
              "    </tr>\n",
              "    <tr>\n",
              "      <th>1219187</th>\n",
              "      <td>132</td>\n",
              "      <td>1</td>\n",
              "      <td>455613.55</td>\n",
              "      <td>3461200</td>\n",
              "      <td>257470.0</td>\n",
              "      <td>0.00</td>\n",
              "      <td>423423</td>\n",
              "      <td>94728.63</td>\n",
              "      <td>550342.17</td>\n",
              "    </tr>\n",
              "    <tr>\n",
              "      <th>5325276</th>\n",
              "      <td>373</td>\n",
              "      <td>0</td>\n",
              "      <td>267214.37</td>\n",
              "      <td>3376548</td>\n",
              "      <td>21180.0</td>\n",
              "      <td>288394.37</td>\n",
              "      <td>401669</td>\n",
              "      <td>0.00</td>\n",
              "      <td>0.00</td>\n",
              "    </tr>\n",
              "  </tbody>\n",
              "</table>\n",
              "</div>\n",
              "      <button class=\"colab-df-convert\" onclick=\"convertToInteractive('df-f00e2982-477c-410e-8b3d-a7f485b49ba0')\"\n",
              "              title=\"Convert this dataframe to an interactive table.\"\n",
              "              style=\"display:none;\">\n",
              "        \n",
              "  <svg xmlns=\"http://www.w3.org/2000/svg\" height=\"24px\"viewBox=\"0 0 24 24\"\n",
              "       width=\"24px\">\n",
              "    <path d=\"M0 0h24v24H0V0z\" fill=\"none\"/>\n",
              "    <path d=\"M18.56 5.44l.94 2.06.94-2.06 2.06-.94-2.06-.94-.94-2.06-.94 2.06-2.06.94zm-11 1L8.5 8.5l.94-2.06 2.06-.94-2.06-.94L8.5 2.5l-.94 2.06-2.06.94zm10 10l.94 2.06.94-2.06 2.06-.94-2.06-.94-.94-2.06-.94 2.06-2.06.94z\"/><path d=\"M17.41 7.96l-1.37-1.37c-.4-.4-.92-.59-1.43-.59-.52 0-1.04.2-1.43.59L10.3 9.45l-7.72 7.72c-.78.78-.78 2.05 0 2.83L4 21.41c.39.39.9.59 1.41.59.51 0 1.02-.2 1.41-.59l7.78-7.78 2.81-2.81c.8-.78.8-2.07 0-2.86zM5.41 20L4 18.59l7.72-7.72 1.47 1.35L5.41 20z\"/>\n",
              "  </svg>\n",
              "      </button>\n",
              "      \n",
              "  <style>\n",
              "    .colab-df-container {\n",
              "      display:flex;\n",
              "      flex-wrap:wrap;\n",
              "      gap: 12px;\n",
              "    }\n",
              "\n",
              "    .colab-df-convert {\n",
              "      background-color: #E8F0FE;\n",
              "      border: none;\n",
              "      border-radius: 50%;\n",
              "      cursor: pointer;\n",
              "      display: none;\n",
              "      fill: #1967D2;\n",
              "      height: 32px;\n",
              "      padding: 0 0 0 0;\n",
              "      width: 32px;\n",
              "    }\n",
              "\n",
              "    .colab-df-convert:hover {\n",
              "      background-color: #E2EBFA;\n",
              "      box-shadow: 0px 1px 2px rgba(60, 64, 67, 0.3), 0px 1px 3px 1px rgba(60, 64, 67, 0.15);\n",
              "      fill: #174EA6;\n",
              "    }\n",
              "\n",
              "    [theme=dark] .colab-df-convert {\n",
              "      background-color: #3B4455;\n",
              "      fill: #D2E3FC;\n",
              "    }\n",
              "\n",
              "    [theme=dark] .colab-df-convert:hover {\n",
              "      background-color: #434B5C;\n",
              "      box-shadow: 0px 1px 3px 1px rgba(0, 0, 0, 0.15);\n",
              "      filter: drop-shadow(0px 1px 2px rgba(0, 0, 0, 0.3));\n",
              "      fill: #FFFFFF;\n",
              "    }\n",
              "  </style>\n",
              "\n",
              "      <script>\n",
              "        const buttonEl =\n",
              "          document.querySelector('#df-f00e2982-477c-410e-8b3d-a7f485b49ba0 button.colab-df-convert');\n",
              "        buttonEl.style.display =\n",
              "          google.colab.kernel.accessAllowed ? 'block' : 'none';\n",
              "\n",
              "        async function convertToInteractive(key) {\n",
              "          const element = document.querySelector('#df-f00e2982-477c-410e-8b3d-a7f485b49ba0');\n",
              "          const dataTable =\n",
              "            await google.colab.kernel.invokeFunction('convertToInteractive',\n",
              "                                                     [key], {});\n",
              "          if (!dataTable) return;\n",
              "\n",
              "          const docLinkHtml = 'Like what you see? Visit the ' +\n",
              "            '<a target=\"_blank\" href=https://colab.research.google.com/notebooks/data_table.ipynb>data table notebook</a>'\n",
              "            + ' to learn more about interactive tables.';\n",
              "          element.innerHTML = '';\n",
              "          dataTable['output_type'] = 'display_data';\n",
              "          await google.colab.output.renderOutput(dataTable, element);\n",
              "          const docLink = document.createElement('div');\n",
              "          docLink.innerHTML = docLinkHtml;\n",
              "          element.appendChild(docLink);\n",
              "        }\n",
              "      </script>\n",
              "    </div>\n",
              "  </div>\n",
              "  "
            ]
          },
          "metadata": {},
          "execution_count": 17
        }
      ]
    },
    {
      "cell_type": "code",
      "source": [
        "np.random.seed(13)\n",
        "X_val, X_test, y_val, y_test = train_test_split(X_val_test, y_val_test, test_size=0.50)"
      ],
      "metadata": {
        "id": "HpdJL18xiMWi"
      },
      "execution_count": null,
      "outputs": []
    },
    {
      "cell_type": "code",
      "source": [
        "# reset indexes to avoid errors in dataloader class\n",
        "X_train = X_train.reset_index(drop=True)\n",
        "y_train = y_train.reset_index(drop=True)\n",
        "\n",
        "X_val = X_val.reset_index(drop=True)\n",
        "y_val = y_val.reset_index(drop=True)\n",
        "\n",
        "X_test = X_test.reset_index(drop=True)\n",
        "y_test = y_test.reset_index(drop=True)\n",
        "\n"
      ],
      "metadata": {
        "id": "32CJ5ih0lxtE"
      },
      "execution_count": null,
      "outputs": []
    },
    {
      "cell_type": "code",
      "source": [
        "print(len(X_train),len(y_train),len(X_val),len(y_val),len(X_test),len(y_test))"
      ],
      "metadata": {
        "colab": {
          "base_uri": "https://localhost:8080/"
        },
        "id": "uhjHUVAf6Kq8",
        "outputId": "cf929ac9-dacf-4a8e-cd01-9ee533ab0666"
      },
      "execution_count": null,
      "outputs": [
        {
          "output_type": "stream",
          "name": "stdout",
          "text": [
            "4453834 4453834 954393 954393 954393 954393\n"
          ]
        }
      ]
    },
    {
      "cell_type": "markdown",
      "source": [
        "Data after encoding 'category' columns."
      ],
      "metadata": {
        "id": "pmoQ5MJdxl0i"
      }
    },
    {
      "cell_type": "code",
      "source": [
        "df.head()"
      ],
      "metadata": {
        "colab": {
          "base_uri": "https://localhost:8080/",
          "height": 206
        },
        "id": "3qgsI9hC6Vj_",
        "outputId": "d4108089-7fe1-45b8-b045-81e5ea4479b0"
      },
      "execution_count": null,
      "outputs": [
        {
          "output_type": "execute_result",
          "data": {
            "text/plain": [
              "   step  type    amount  nameOrig  oldbalanceOrg  newbalanceOrig  nameDest  \\\n",
              "0     0     3   9839.64    757869       170136.0       160296.36   1662094   \n",
              "1     0     3   1864.28   2188998        21249.0        19384.72   1733924   \n",
              "2     0     4    181.00   1002156          181.0            0.00    439685   \n",
              "3     0     1    181.00   5828262          181.0            0.00    391696   \n",
              "4     0     3  11668.14   3445981        41554.0        29885.86    828919   \n",
              "\n",
              "   oldbalanceDest  newbalanceDest  \n",
              "0             0.0             0.0  \n",
              "1             0.0             0.0  \n",
              "2             0.0             0.0  \n",
              "3         21182.0             0.0  \n",
              "4             0.0             0.0  "
            ],
            "text/html": [
              "\n",
              "  <div id=\"df-5a71478e-2fdb-455d-b306-4098cb7bd45f\">\n",
              "    <div class=\"colab-df-container\">\n",
              "      <div>\n",
              "<style scoped>\n",
              "    .dataframe tbody tr th:only-of-type {\n",
              "        vertical-align: middle;\n",
              "    }\n",
              "\n",
              "    .dataframe tbody tr th {\n",
              "        vertical-align: top;\n",
              "    }\n",
              "\n",
              "    .dataframe thead th {\n",
              "        text-align: right;\n",
              "    }\n",
              "</style>\n",
              "<table border=\"1\" class=\"dataframe\">\n",
              "  <thead>\n",
              "    <tr style=\"text-align: right;\">\n",
              "      <th></th>\n",
              "      <th>step</th>\n",
              "      <th>type</th>\n",
              "      <th>amount</th>\n",
              "      <th>nameOrig</th>\n",
              "      <th>oldbalanceOrg</th>\n",
              "      <th>newbalanceOrig</th>\n",
              "      <th>nameDest</th>\n",
              "      <th>oldbalanceDest</th>\n",
              "      <th>newbalanceDest</th>\n",
              "    </tr>\n",
              "  </thead>\n",
              "  <tbody>\n",
              "    <tr>\n",
              "      <th>0</th>\n",
              "      <td>0</td>\n",
              "      <td>3</td>\n",
              "      <td>9839.64</td>\n",
              "      <td>757869</td>\n",
              "      <td>170136.0</td>\n",
              "      <td>160296.36</td>\n",
              "      <td>1662094</td>\n",
              "      <td>0.0</td>\n",
              "      <td>0.0</td>\n",
              "    </tr>\n",
              "    <tr>\n",
              "      <th>1</th>\n",
              "      <td>0</td>\n",
              "      <td>3</td>\n",
              "      <td>1864.28</td>\n",
              "      <td>2188998</td>\n",
              "      <td>21249.0</td>\n",
              "      <td>19384.72</td>\n",
              "      <td>1733924</td>\n",
              "      <td>0.0</td>\n",
              "      <td>0.0</td>\n",
              "    </tr>\n",
              "    <tr>\n",
              "      <th>2</th>\n",
              "      <td>0</td>\n",
              "      <td>4</td>\n",
              "      <td>181.00</td>\n",
              "      <td>1002156</td>\n",
              "      <td>181.0</td>\n",
              "      <td>0.00</td>\n",
              "      <td>439685</td>\n",
              "      <td>0.0</td>\n",
              "      <td>0.0</td>\n",
              "    </tr>\n",
              "    <tr>\n",
              "      <th>3</th>\n",
              "      <td>0</td>\n",
              "      <td>1</td>\n",
              "      <td>181.00</td>\n",
              "      <td>5828262</td>\n",
              "      <td>181.0</td>\n",
              "      <td>0.00</td>\n",
              "      <td>391696</td>\n",
              "      <td>21182.0</td>\n",
              "      <td>0.0</td>\n",
              "    </tr>\n",
              "    <tr>\n",
              "      <th>4</th>\n",
              "      <td>0</td>\n",
              "      <td>3</td>\n",
              "      <td>11668.14</td>\n",
              "      <td>3445981</td>\n",
              "      <td>41554.0</td>\n",
              "      <td>29885.86</td>\n",
              "      <td>828919</td>\n",
              "      <td>0.0</td>\n",
              "      <td>0.0</td>\n",
              "    </tr>\n",
              "  </tbody>\n",
              "</table>\n",
              "</div>\n",
              "      <button class=\"colab-df-convert\" onclick=\"convertToInteractive('df-5a71478e-2fdb-455d-b306-4098cb7bd45f')\"\n",
              "              title=\"Convert this dataframe to an interactive table.\"\n",
              "              style=\"display:none;\">\n",
              "        \n",
              "  <svg xmlns=\"http://www.w3.org/2000/svg\" height=\"24px\"viewBox=\"0 0 24 24\"\n",
              "       width=\"24px\">\n",
              "    <path d=\"M0 0h24v24H0V0z\" fill=\"none\"/>\n",
              "    <path d=\"M18.56 5.44l.94 2.06.94-2.06 2.06-.94-2.06-.94-.94-2.06-.94 2.06-2.06.94zm-11 1L8.5 8.5l.94-2.06 2.06-.94-2.06-.94L8.5 2.5l-.94 2.06-2.06.94zm10 10l.94 2.06.94-2.06 2.06-.94-2.06-.94-.94-2.06-.94 2.06-2.06.94z\"/><path d=\"M17.41 7.96l-1.37-1.37c-.4-.4-.92-.59-1.43-.59-.52 0-1.04.2-1.43.59L10.3 9.45l-7.72 7.72c-.78.78-.78 2.05 0 2.83L4 21.41c.39.39.9.59 1.41.59.51 0 1.02-.2 1.41-.59l7.78-7.78 2.81-2.81c.8-.78.8-2.07 0-2.86zM5.41 20L4 18.59l7.72-7.72 1.47 1.35L5.41 20z\"/>\n",
              "  </svg>\n",
              "      </button>\n",
              "      \n",
              "  <style>\n",
              "    .colab-df-container {\n",
              "      display:flex;\n",
              "      flex-wrap:wrap;\n",
              "      gap: 12px;\n",
              "    }\n",
              "\n",
              "    .colab-df-convert {\n",
              "      background-color: #E8F0FE;\n",
              "      border: none;\n",
              "      border-radius: 50%;\n",
              "      cursor: pointer;\n",
              "      display: none;\n",
              "      fill: #1967D2;\n",
              "      height: 32px;\n",
              "      padding: 0 0 0 0;\n",
              "      width: 32px;\n",
              "    }\n",
              "\n",
              "    .colab-df-convert:hover {\n",
              "      background-color: #E2EBFA;\n",
              "      box-shadow: 0px 1px 2px rgba(60, 64, 67, 0.3), 0px 1px 3px 1px rgba(60, 64, 67, 0.15);\n",
              "      fill: #174EA6;\n",
              "    }\n",
              "\n",
              "    [theme=dark] .colab-df-convert {\n",
              "      background-color: #3B4455;\n",
              "      fill: #D2E3FC;\n",
              "    }\n",
              "\n",
              "    [theme=dark] .colab-df-convert:hover {\n",
              "      background-color: #434B5C;\n",
              "      box-shadow: 0px 1px 3px 1px rgba(0, 0, 0, 0.15);\n",
              "      filter: drop-shadow(0px 1px 2px rgba(0, 0, 0, 0.3));\n",
              "      fill: #FFFFFF;\n",
              "    }\n",
              "  </style>\n",
              "\n",
              "      <script>\n",
              "        const buttonEl =\n",
              "          document.querySelector('#df-5a71478e-2fdb-455d-b306-4098cb7bd45f button.colab-df-convert');\n",
              "        buttonEl.style.display =\n",
              "          google.colab.kernel.accessAllowed ? 'block' : 'none';\n",
              "\n",
              "        async function convertToInteractive(key) {\n",
              "          const element = document.querySelector('#df-5a71478e-2fdb-455d-b306-4098cb7bd45f');\n",
              "          const dataTable =\n",
              "            await google.colab.kernel.invokeFunction('convertToInteractive',\n",
              "                                                     [key], {});\n",
              "          if (!dataTable) return;\n",
              "\n",
              "          const docLinkHtml = 'Like what you see? Visit the ' +\n",
              "            '<a target=\"_blank\" href=https://colab.research.google.com/notebooks/data_table.ipynb>data table notebook</a>'\n",
              "            + ' to learn more about interactive tables.';\n",
              "          element.innerHTML = '';\n",
              "          dataTable['output_type'] = 'display_data';\n",
              "          await google.colab.output.renderOutput(dataTable, element);\n",
              "          const docLink = document.createElement('div');\n",
              "          docLink.innerHTML = docLinkHtml;\n",
              "          element.appendChild(docLink);\n",
              "        }\n",
              "      </script>\n",
              "    </div>\n",
              "  </div>\n",
              "  "
            ]
          },
          "metadata": {},
          "execution_count": 21
        }
      ]
    },
    {
      "cell_type": "markdown",
      "source": [
        "Defining the Dataset class."
      ],
      "metadata": {
        "id": "si0XoF5nxv6A"
      }
    },
    {
      "cell_type": "code",
      "source": [
        "class FraudData(Dataset):\n",
        "    def __init__(self, df, y, embCol_list):\n",
        "\n",
        "        self.X1 = df.loc[:,embCol_list].copy().values.astype(np.int64)\n",
        "        self.X2 = df.drop(columns = embCol_list).copy().values.astype(np.float32)\n",
        "        self.y = y\n",
        "\n",
        "    def __len__(self):\n",
        "        return len(self.y)\n",
        "\n",
        "    def __getitem__(self, idx):\n",
        "        return self.X1[idx], self.X2[idx], self.y[idx]"
      ],
      "metadata": {
        "id": "mZeLejKqFz9m"
      },
      "execution_count": null,
      "outputs": []
    },
    {
      "cell_type": "markdown",
      "source": [
        "Creating Dataset objects for Train/Validation/Test data"
      ],
      "metadata": {
        "id": "hCMjuLwfyNqe"
      }
    },
    {
      "cell_type": "code",
      "source": [
        "train_data = FraudData(X_train, y_train, embCol_list)\n",
        "valid_data = FraudData(X_val, y_val, embCol_list)\n",
        "test_data = FraudData(X_test, y_test, embCol_list)"
      ],
      "metadata": {
        "id": "GtmpE4TvKjQl"
      },
      "execution_count": null,
      "outputs": []
    },
    {
      "cell_type": "code",
      "source": [
        "print(len(train_data),len(valid_data),len(test_data))"
      ],
      "metadata": {
        "colab": {
          "base_uri": "https://localhost:8080/"
        },
        "id": "TJlvEhpfRg_J",
        "outputId": "ad7a59f1-7867-4aa7-907b-f7ab5048c6e2"
      },
      "execution_count": null,
      "outputs": [
        {
          "output_type": "stream",
          "name": "stdout",
          "text": [
            "4453834 954393 954393\n"
          ]
        }
      ]
    },
    {
      "cell_type": "markdown",
      "source": [
        "Defining Hyperparameters and Dataloader objects"
      ],
      "metadata": {
        "id": "u19p6C8vyWGy"
      }
    },
    {
      "cell_type": "code",
      "source": [
        "# Creating train and test loader variables\n",
        "\n",
        "batch_size = 1024\n",
        "lr = 0.001\n",
        "w_decay = 0.0001\n",
        "\n",
        "\n",
        "\n",
        "trainloader = DataLoader(train_data, batch_size=batch_size,\n",
        "                                          shuffle=True, num_workers=0)\n",
        "\n",
        "\n",
        "validloader = DataLoader(valid_data, batch_size=len(valid_data),\n",
        "                                         shuffle=False, num_workers=0)"
      ],
      "metadata": {
        "id": "EGRKSDYOSbeS"
      },
      "execution_count": null,
      "outputs": []
    },
    {
      "cell_type": "markdown",
      "source": [
        "## Building Feedforward Neural Network.\n",
        "\n"
      ],
      "metadata": {
        "id": "d1EK0Ef6ygUs"
      }
    },
    {
      "cell_type": "code",
      "source": [
        "class FraudNet(nn.Module):\n",
        "    def __init__(self, embedding_sizes, n_cont):\n",
        "        super().__init__()\n",
        "        self.embeddings = nn.ModuleList([nn.Embedding(categories, size) for categories,size in embedding_sizes])\n",
        "        n_emb = sum(e.embedding_dim for e in self.embeddings)\n",
        "        self.n_emb, self.n_cont = n_emb, n_cont\n",
        "        self.lin1 = nn.Linear(self.n_emb + self.n_cont, 256)\n",
        "        self.lin2 = nn.Linear(256, 512)\n",
        "        self.lin3 = nn.Linear(512, 5)\n",
        "        self.bn1 = nn.BatchNorm1d(self.n_cont)\n",
        "        self.bn2 = nn.BatchNorm1d(256)\n",
        "        self.bn3 = nn.BatchNorm1d(512)\n",
        "        self.embedding_drop = nn.Dropout(0.6)\n",
        "        self.drops = nn.Dropout(0.3)\n",
        "\n",
        "\n",
        "    def forward(self, x_cat, x_cont):\n",
        "        x = [e(x_cat[:,i]) for i,e in enumerate(self.embeddings)]\n",
        "        x = torch.cat(x, 1)\n",
        "        x = self.embedding_drop(x)\n",
        "        x2 = self.bn1(x_cont)\n",
        "        x = torch.cat([x, x2], 1)\n",
        "        x = F.relu(self.lin1(x))\n",
        "        x = self.drops(x)\n",
        "        x = self.bn2(x)\n",
        "        x = F.relu(self.lin2(x))\n",
        "        x = self.drops(x)\n",
        "        x = self.bn3(x)\n",
        "        x = self.lin3(x)\n",
        "        return x"
      ],
      "metadata": {
        "id": "lLuvif_4Tif3"
      },
      "execution_count": null,
      "outputs": []
    },
    {
      "cell_type": "markdown",
      "source": [
        "n_cont variable contains number of non-encoded columns"
      ],
      "metadata": {
        "id": "yQYe6783yzos"
      }
    },
    {
      "cell_type": "code",
      "source": [
        "n_cont = len(df.columns) - len(embCol_list)"
      ],
      "metadata": {
        "id": "0XMrENKLM1p4"
      },
      "execution_count": null,
      "outputs": []
    },
    {
      "cell_type": "code",
      "source": [
        "net = FraudNet(embedding_sizes, n_cont).to(device=device)\n",
        "print(net)"
      ],
      "metadata": {
        "colab": {
          "base_uri": "https://localhost:8080/"
        },
        "id": "4N9BCrMZToso",
        "outputId": "8c0eccd2-6f35-439d-8c47-0219974eb959"
      },
      "execution_count": null,
      "outputs": [
        {
          "output_type": "stream",
          "name": "stdout",
          "text": [
            "FraudNet(\n",
            "  (embeddings): ModuleList(\n",
            "    (0): Embedding(743, 50)\n",
            "    (1): Embedding(5, 3)\n",
            "    (2): Embedding(6353307, 50)\n",
            "    (3): Embedding(2722362, 50)\n",
            "  )\n",
            "  (lin1): Linear(in_features=158, out_features=256, bias=True)\n",
            "  (lin2): Linear(in_features=256, out_features=512, bias=True)\n",
            "  (lin3): Linear(in_features=512, out_features=5, bias=True)\n",
            "  (bn1): BatchNorm1d(5, eps=1e-05, momentum=0.1, affine=True, track_running_stats=True)\n",
            "  (bn2): BatchNorm1d(256, eps=1e-05, momentum=0.1, affine=True, track_running_stats=True)\n",
            "  (bn3): BatchNorm1d(512, eps=1e-05, momentum=0.1, affine=True, track_running_stats=True)\n",
            "  (embedding_drop): Dropout(p=0.6, inplace=False)\n",
            "  (drops): Dropout(p=0.3, inplace=False)\n",
            ")\n"
          ]
        }
      ]
    },
    {
      "cell_type": "code",
      "source": [
        "criterion = nn.CrossEntropyLoss()\n",
        "\n",
        "\n",
        "optimizer = optim.Adam(params = net.parameters(), lr=lr, weight_decay= w_decay)#, nesterov=False, *, maximize=False, foreach=None)\n"
      ],
      "metadata": {
        "id": "G_HP5GArV6jB"
      },
      "execution_count": null,
      "outputs": []
    },
    {
      "cell_type": "code",
      "source": [
        "# Loading validloader in variables for use in inference in training loop in next cell\n",
        "for i, (x1, x2, y) in enumerate(validloader):\n",
        "  #print(x1,x2,y)\n",
        "  print(i)\n",
        "  inpx1 = x1.to(device=device)\n",
        "  inpx2 = x2.to(device=device)\n",
        "  lab = y.type(torch.LongTensor).to(device=device)"
      ],
      "metadata": {
        "colab": {
          "base_uri": "https://localhost:8080/"
        },
        "id": "jBdt-73wWFds",
        "outputId": "ba7a8774-e73a-471d-d5cb-c947b0072783"
      },
      "execution_count": null,
      "outputs": [
        {
          "output_type": "stream",
          "name": "stdout",
          "text": [
            "0\n"
          ]
        }
      ]
    },
    {
      "cell_type": "code",
      "source": [
        "root_path = '/content/drive/My Drive/Projects/Finance Dataset Kaggle/'"
      ],
      "metadata": {
        "id": "nySGu4M6QGy3"
      },
      "execution_count": null,
      "outputs": []
    },
    {
      "cell_type": "markdown",
      "source": [
        "## Training and Inference\n",
        "\n"
      ],
      "metadata": {
        "id": "83SxfdGfOQE1"
      }
    },
    {
      "cell_type": "code",
      "source": [
        "num_epochs = 20\n",
        "pbar = trange(num_epochs, unit = \"Epochs\")\n",
        "\n",
        "tlossList = []\n",
        "vlossList = []\n",
        "trAcc = []\n",
        "valAcc = []\n",
        "valAccMax = 0\n",
        "for epoch in pbar:  # loop over the dataset multiple times\n",
        "    #sleep(0.5)\n",
        "    pbar.set_description(f\"Epoch: {epoch+1}\")\n",
        "\n",
        "    for i, data in enumerate(trainloader):\n",
        "        # get the inputs; data is a list of [inputs, labels]\n",
        "        x1 = data[0].to(device=device)\n",
        "        x2 = data[1].to(device=device)\n",
        "        labels = data[2].type(torch.LongTensor).to(device=device)\n",
        "\n",
        "        # zero the parameter gradients\n",
        "        optimizer.zero_grad()\n",
        "\n",
        "        # forward + backward + optimize\n",
        "        outputs = net(x1, x2)\n",
        "\n",
        "        loss = criterion(outputs, labels)\n",
        "        loss.backward()\n",
        "        optimizer.step()\n",
        "\n",
        "        # Training Accuracy\n",
        "        batchPred = torch.argmax(outputs, dim=1)\n",
        "        batchAcc = np.mean(np.array((batchPred==labels).cpu()))\n",
        "        trAcc.append(batchAcc)\n",
        "\n",
        "        # Validation Accuracy\n",
        "        #for id, d in enumerate(testloader):\n",
        "\n",
        "        net.eval()\n",
        "        np_lab = 0\n",
        "        with torch.no_grad():\n",
        "          out = net(inpx1,inpx2)\n",
        "          vloss = criterion(out, lab)\n",
        "          np_lab = np.array(lab.cpu())\n",
        "\n",
        "\n",
        "\n",
        "        valPred = torch.argmax(out, dim=1)\n",
        "        vAcc = np.mean(np.array((valPred==lab).cpu()))\n",
        "        valAcc.append(vAcc)\n",
        "\n",
        "        if vAcc > valAccMax:\n",
        "          valAccMax = vAcc\n",
        "          if vAcc > 0.9999:\n",
        "            p = root_path + \"modelAutoSave_\" + \"_\" + str(round(vAcc,3)) + \"_\" + str(epoch) + \"_\" + str(i) + \"_\" + str(batch_size) + \"_\" + str(lr) + \"_\" + str(w_decay) + \"_\" + str(momentum) + \".pth\"\n",
        "            torch.save(net.state_dict(), p)\n",
        "\n",
        "\n",
        "\n",
        "    print(\"\\n\")\n",
        "    for l in [0,1]:\n",
        "      rel_labels = np.array((lab == l).cpu())\n",
        "      rel_predictions = np.array((valPred == l).cpu())\n",
        "      a = np.bitwise_and(rel_predictions,rel_labels)\n",
        "      try:\n",
        "        lAcc = len(a[a==True])/np.count_nonzero(np_lab == l)\n",
        "        print(\"Accuracy for label\",l,\":\",lAcc)\n",
        "      except:\n",
        "        print(\"Division by zero error for label:\",l)\n",
        "\n",
        "\n",
        "\n",
        "    tlossList.append(loss.item())\n",
        "    vlossList.append(vloss.item())\n",
        "\n",
        "\n",
        "    # print statistics\n",
        "\n",
        "    print(\"Training Loss:\", loss.item(), \"Validation Loss:\", vloss.item(), \"Batch Accuracy:\", batchAcc, \"Validation Accuracy:\", vAcc, \"Max Val Acc:\", valAccMax)\n",
        "\n",
        "\n",
        "print('Finished Training')"
      ],
      "metadata": {
        "id": "EjRHlTnYO6Mw"
      },
      "execution_count": null,
      "outputs": []
    },
    {
      "cell_type": "markdown",
      "source": [
        "### After 15 Epochs\n",
        "\n",
        "Accuracy for label 0 : 0.9999632799598808\n",
        "Accuracy for label 1 : 0.6720647773279352\n",
        "\n",
        "Training Loss: 0.001446892973035574\n",
        "\n",
        "Validation Loss: 0.002177656628191471\n",
        "\n",
        "Batch Accuracy: 1.0\n",
        "\n",
        "Validation Accuracy: 0.9995389739866072\n",
        "\n",
        "Max Val Acc: 0.9995725031512176"
      ],
      "metadata": {
        "id": "9Xoi0wec3dbs"
      }
    },
    {
      "cell_type": "code",
      "source": [
        "# Loading validloader in variables for use in inference in training loop in next cell\n",
        "testloader = DataLoader(test_data, batch_size=len(test_data),\n",
        "                                         shuffle=False, num_workers=0)\n",
        "\n",
        "for i, (x1, x2, y) in enumerate(testloader):\n",
        "  inpx1_t = x1.to(device=device)\n",
        "  inpx2_t = x2.to(device=device)\n",
        "  lab_t = y.type(torch.LongTensor).to(device=device)"
      ],
      "metadata": {
        "id": "17ZGjzXULs7E"
      },
      "execution_count": null,
      "outputs": []
    },
    {
      "cell_type": "markdown",
      "source": [
        "Checking accuracy on Testing Set"
      ],
      "metadata": {
        "id": "uS2NTc2hl5BF"
      }
    },
    {
      "cell_type": "code",
      "source": [
        "# Evaluation for test data\n",
        "\n",
        "# Load\n",
        "model = net.cuda()\n",
        "model.eval()\n",
        "\n",
        "with torch.no_grad():\n",
        "  out = model(inpx1_t,inpx2_t)\n",
        "\n",
        "a = torch.argmax(out, dim=1)\n",
        "b = np.mean(np.array((a==lab_t).cpu()))\n",
        "print(\"Test Accuracy: \",b,\"Correctly Classified Datapoints: \",len(test_data)*b,\"Incorrectly Classified Datapoints: \",len(test_data)*(1-b) )"
      ],
      "metadata": {
        "colab": {
          "base_uri": "https://localhost:8080/"
        },
        "id": "hhoNeNdqLmkH",
        "outputId": "6e90e6d8-16c0-4d88-80a6-17dac1901aaa"
      },
      "execution_count": null,
      "outputs": [
        {
          "output_type": "stream",
          "name": "stdout",
          "text": [
            "Test Accuracy:  0.9995609775008828 Correctly Classified Datapoints:  953974.0 Incorrectly Classified Datapoints:  418.99999999996487\n"
          ]
        }
      ]
    },
    {
      "cell_type": "markdown",
      "source": [
        "## Generating Confusion Matrix"
      ],
      "metadata": {
        "id": "-OQZhbxULr54"
      }
    },
    {
      "cell_type": "code",
      "source": [
        "test_labels = np.array(lab_t.cpu())\n",
        "test_predictions = np.array(a.cpu())"
      ],
      "metadata": {
        "id": "3qakPHsgMxL_"
      },
      "execution_count": null,
      "outputs": []
    },
    {
      "cell_type": "code",
      "source": [
        "pip install pretty-confusion-matrix"
      ],
      "metadata": {
        "id": "I1-pCy4LOPOx"
      },
      "execution_count": null,
      "outputs": []
    },
    {
      "cell_type": "code",
      "source": [
        "# Confusion Matrix\n",
        "\n",
        "from pretty_confusion_matrix import pp_matrix_from_data\n",
        "\n",
        "pp_matrix_from_data(test_labels, test_predictions, cmap='Blues', columns = ['regular','fraud'])\n"
      ],
      "metadata": {
        "colab": {
          "base_uri": "https://localhost:8080/",
          "height": 865
        },
        "id": "oJjBeNy0OdvY",
        "outputId": "28b48cbb-2aaf-499f-cf3e-6cfebcb2a21a"
      },
      "execution_count": null,
      "outputs": [
        {
          "output_type": "stream",
          "name": "stderr",
          "text": [
            "/usr/local/lib/python3.7/dist-packages/pretty_confusion_matrix/pretty_confusion_matrix.py:200: MatplotlibDeprecationWarning: \n",
            "The tick1On function was deprecated in Matplotlib 3.1 and will be removed in 3.3. Use Tick.tick1line.set_visible instead.\n",
            "  t.tick1On = False\n",
            "/usr/local/lib/python3.7/dist-packages/pretty_confusion_matrix/pretty_confusion_matrix.py:201: MatplotlibDeprecationWarning: \n",
            "The tick2On function was deprecated in Matplotlib 3.1 and will be removed in 3.3. Use Tick.tick2line.set_visible instead.\n",
            "  t.tick2On = False\n",
            "/usr/local/lib/python3.7/dist-packages/pretty_confusion_matrix/pretty_confusion_matrix.py:203: MatplotlibDeprecationWarning: \n",
            "The tick1On function was deprecated in Matplotlib 3.1 and will be removed in 3.3. Use Tick.tick1line.set_visible instead.\n",
            "  t.tick1On = False\n",
            "/usr/local/lib/python3.7/dist-packages/pretty_confusion_matrix/pretty_confusion_matrix.py:204: MatplotlibDeprecationWarning: \n",
            "The tick2On function was deprecated in Matplotlib 3.1 and will be removed in 3.3. Use Tick.tick2line.set_visible instead.\n",
            "  t.tick2On = False\n"
          ]
        },
        {
          "output_type": "display_data",
          "data": {
            "text/plain": [
              "<Figure size 648x648 with 1 Axes>"
            ],
            "image/png": "[encoded data removed]"
          },
          "metadata": {
            "needs_background": "light"
          }
        }
      ]
    },
    {
      "cell_type": "markdown",
      "source": [
        "The above confusion matrix suggests the following:\n",
        "1. Out of 1221 fraud cases in test set, 842 were correctly classified as Fraud (True Negative) and 379 were classified as regular transactions (False Positives). Thus, the model is 68.96% accurate in finding fraud.\n",
        "2. The number of False Negatives is low (40) which means only a few regular transactions are falsely flagged as fraud.\n",
        "3. By tuning the number of false positive and false negative cases, a financial organization can determine how much fraud they will allow in order to not bother customers with regular transactions with False Negative flags. In other words, the increase in fraud detection capabilites should not come at the expense of more false negatives.\n"
      ],
      "metadata": {
        "id": "OdLf34wdOut9"
      }
    },
    {
      "cell_type": "markdown",
      "source": [
        "#TabTransformer Experiment"
      ],
      "metadata": {
        "id": "cz9gb-lF4vAH"
      }
    },
    {
      "cell_type": "code",
      "source": [],
      "metadata": {
        "id": "CNZ4IXn34tfW"
      },
      "execution_count": null,
      "outputs": []
    }
  ]
}