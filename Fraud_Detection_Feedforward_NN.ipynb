{
  "nbformat": 4,
  "nbformat_minor": 0,
  "metadata": {
    "colab": {
      "provenance": [],
      "gpuType": "V100",
      "authorship_tag": "ABX9TyNR0jhyteQNuQFbJGc8OFpV",
      "include_colab_link": true
    },
    "kernelspec": {
      "name": "python3",
      "display_name": "Python 3"
    },
    "language_info": {
      "name": "python"
    },
    "accelerator": "GPU"
  },
  "cells": [
    {
      "cell_type": "markdown",
      "metadata": {
        "id": "view-in-github",
        "colab_type": "text"
      },
      "source": [
        "<a href=\"https://colab.research.google.com/github/vroomgit/FraudDetectionFNN/blob/main/Fraud_Detection_Feedforward_NN.ipynb\" target=\"_parent\"><img src=\"https://colab.research.google.com/assets/colab-badge.svg\" alt=\"Open In Colab\"/></a>"
      ]
    },
    {
      "cell_type": "markdown",
      "source": [
        "# Using a Feedforward Neural Network to detect fraudulent transactions in a simulated financial payments dataset\n",
        "\n",
        "Link to dataset: https://www.kaggle.com/datasets/ealaxi/paysim1"
      ],
      "metadata": {
        "id": "T50NjAoPHcJs"
      }
    },
    {
      "cell_type": "markdown",
      "source": [
        "## Environment prep and data unzipping (This section needed for Google Colab)"
      ],
      "metadata": {
        "id": "VYnzpwJbHMmS"
      }
    },
    {
      "cell_type": "code",
      "metadata": {
        "id": "g1AJFoPknuTS",
        "colab": {
          "base_uri": "https://localhost:8080/"
        },
        "outputId": "f8e6aad0-85fb-421e-e492-6ab0f876fdc8"
      },
      "source": [
        "from google.colab import drive\n",
        "drive.mount(\"/content/drive\")"
      ],
      "execution_count": 3,
      "outputs": [
        {
          "output_type": "stream",
          "name": "stdout",
          "text": [
            "Mounted at /content/drive\n"
          ]
        }
      ]
    },
    {
      "cell_type": "code",
      "metadata": {
        "colab": {
          "base_uri": "https://localhost:8080/"
        },
        "id": "LfCMwOmhrGmh",
        "outputId": "c0b2238e-7d1d-42cc-e3db-7b7f6d6cf977"
      },
      "source": [
        "gpu_info = !nvidia-smi\n",
        "gpu_info = '\\n'.join(gpu_info)\n",
        "if gpu_info.find('failed') >= 0:\n",
        "  print('Select the Runtime > \"Change runtime type\" menu to enable a GPU accelerator, ')\n",
        "  print('and then re-execute this cell.')\n",
        "else:\n",
        "  print(gpu_info)"
      ],
      "execution_count": 4,
      "outputs": [
        {
          "output_type": "stream",
          "name": "stdout",
          "text": [
            "Thu Aug 10 14:02:17 2023       \n",
            "+-----------------------------------------------------------------------------+\n",
            "| NVIDIA-SMI 525.105.17   Driver Version: 525.105.17   CUDA Version: 12.0     |\n",
            "|-------------------------------+----------------------+----------------------+\n",
            "| GPU  Name        Persistence-M| Bus-Id        Disp.A | Volatile Uncorr. ECC |\n",
            "| Fan  Temp  Perf  Pwr:Usage/Cap|         Memory-Usage | GPU-Util  Compute M. |\n",
            "|                               |                      |               MIG M. |\n",
            "|===============================+======================+======================|\n",
            "|   0  Tesla V100-SXM2...  Off  | 00000000:00:04.0 Off |                    0 |\n",
            "| N/A   36C    P0    24W / 300W |      0MiB / 16384MiB |      0%      Default |\n",
            "|                               |                      |                  N/A |\n",
            "+-------------------------------+----------------------+----------------------+\n",
            "                                                                               \n",
            "+-----------------------------------------------------------------------------+\n",
            "| Processes:                                                                  |\n",
            "|  GPU   GI   CI        PID   Type   Process name                  GPU Memory |\n",
            "|        ID   ID                                                   Usage      |\n",
            "|=============================================================================|\n",
            "|  No running processes found                                                 |\n",
            "+-----------------------------------------------------------------------------+\n"
          ]
        }
      ]
    },
    {
      "cell_type": "markdown",
      "source": [
        "## Loading and Preparing Data"
      ],
      "metadata": {
        "id": "CEOdfE337gew"
      }
    },
    {
      "cell_type": "code",
      "metadata": {
        "scrolled": true,
        "id": "V05MogNi9E1H",
        "colab": {
          "base_uri": "https://localhost:8080/"
        },
        "outputId": "cd14bbb5-8f21-486a-f2f8-5784e4612deb"
      },
      "source": [
        "import pandas as pd\n",
        "import numpy as np\n",
        "from sklearn.preprocessing import LabelEncoder\n",
        "from sklearn.metrics import accuracy_score\n",
        "from sklearn.model_selection import train_test_split\n",
        "from sklearn.metrics import accuracy_score\n",
        "from sklearn.metrics import confusion_matrix\n",
        "import torch\n",
        "from torch.utils.data import Dataset, DataLoader\n",
        "import torch.optim as optim\n",
        "import torch.nn as nn\n",
        "import torch.nn.functional as F\n",
        "from torchvision import models\n",
        "import matplotlib.pyplot as plt\n",
        "from collections import Counter\n",
        "import time\n",
        "from time import sleep\n",
        "!pip install pycm\n",
        "import pycm\n",
        "import prettytable\n",
        "import sys\n",
        "from imblearn.over_sampling import SMOTE\n",
        "!{sys.executable}  -m pip -q -q install matplotlib;\n",
        "!{sys.executable}  -m pip -q -q install seaborn;"
      ],
      "execution_count": 1,
      "outputs": [
        {
          "output_type": "stream",
          "name": "stdout",
          "text": [
            "Collecting pycm\n",
            "  Downloading pycm-4.0-py3-none-any.whl (70 kB)\n",
            "\u001b[2K     \u001b[90m━━━━━━━━━━━━━━━━━━━━━━━━━━━━━━━━━━━━━━━━\u001b[0m \u001b[32m70.3/70.3 kB\u001b[0m \u001b[31m1.5 MB/s\u001b[0m eta \u001b[36m0:00:00\u001b[0m\n",
            "\u001b[?25hCollecting art>=1.8 (from pycm)\n",
            "  Downloading art-6.0-py3-none-any.whl (599 kB)\n",
            "\u001b[2K     \u001b[90m━━━━━━━━━━━━━━━━━━━━━━━━━━━━━━━━━━━━━━━\u001b[0m \u001b[32m599.4/599.4 kB\u001b[0m \u001b[31m9.8 MB/s\u001b[0m eta \u001b[36m0:00:00\u001b[0m\n",
            "\u001b[?25hRequirement already satisfied: numpy>=1.9.0 in /usr/local/lib/python3.10/dist-packages (from pycm) (1.23.5)\n",
            "Installing collected packages: art, pycm\n",
            "Successfully installed art-6.0 pycm-4.0\n"
          ]
        }
      ]
    },
    {
      "cell_type": "code",
      "source": [
        "device = torch.device(\"cuda\" if torch.cuda.is_available() else \"cpu\")\n",
        "device"
      ],
      "metadata": {
        "colab": {
          "base_uri": "https://localhost:8080/"
        },
        "id": "R4LXiJp-bcna",
        "outputId": "0aa3e291-dd07-4781-c225-eee543bb6a94"
      },
      "execution_count": 5,
      "outputs": [
        {
          "output_type": "execute_result",
          "data": {
            "text/plain": [
              "device(type='cuda')"
            ]
          },
          "metadata": {},
          "execution_count": 5
        }
      ]
    },
    {
      "cell_type": "code",
      "source": [
        "df = pd.read_csv('/content/drive/MyDrive/Projects/Finance Dataset Kaggle/FFDS.csv')\n",
        "df.head()"
      ],
      "metadata": {
        "colab": {
          "base_uri": "https://localhost:8080/",
          "height": 206
        },
        "id": "ArO3rYlGSkjF",
        "outputId": "2a91fc2a-7785-4c07-c0ef-28a5dec2dc1f"
      },
      "execution_count": 6,
      "outputs": [
        {
          "output_type": "execute_result",
          "data": {
            "text/plain": [
              "   step      type    amount     nameOrig  oldbalanceOrg  newbalanceOrig  \\\n",
              "0     1   PAYMENT   9839.64  C1231006815       170136.0       160296.36   \n",
              "1     1   PAYMENT   1864.28  C1666544295        21249.0        19384.72   \n",
              "2     1  TRANSFER    181.00  C1305486145          181.0            0.00   \n",
              "3     1  CASH_OUT    181.00   C840083671          181.0            0.00   \n",
              "4     1   PAYMENT  11668.14  C2048537720        41554.0        29885.86   \n",
              "\n",
              "      nameDest  oldbalanceDest  newbalanceDest  isFraud  isFlaggedFraud  \n",
              "0  M1979787155             0.0             0.0        0               0  \n",
              "1  M2044282225             0.0             0.0        0               0  \n",
              "2   C553264065             0.0             0.0        1               0  \n",
              "3    C38997010         21182.0             0.0        1               0  \n",
              "4  M1230701703             0.0             0.0        0               0  "
            ],
            "text/html": [
              "\n",
              "\n",
              "  <div id=\"df-c7100196-4c0a-4c2f-8c9e-4f291dd11215\">\n",
              "    <div class=\"colab-df-container\">\n",
              "      <div>\n",
              "<style scoped>\n",
              "    .dataframe tbody tr th:only-of-type {\n",
              "        vertical-align: middle;\n",
              "    }\n",
              "\n",
              "    .dataframe tbody tr th {\n",
              "        vertical-align: top;\n",
              "    }\n",
              "\n",
              "    .dataframe thead th {\n",
              "        text-align: right;\n",
              "    }\n",
              "</style>\n",
              "<table border=\"1\" class=\"dataframe\">\n",
              "  <thead>\n",
              "    <tr style=\"text-align: right;\">\n",
              "      <th></th>\n",
              "      <th>step</th>\n",
              "      <th>type</th>\n",
              "      <th>amount</th>\n",
              "      <th>nameOrig</th>\n",
              "      <th>oldbalanceOrg</th>\n",
              "      <th>newbalanceOrig</th>\n",
              "      <th>nameDest</th>\n",
              "      <th>oldbalanceDest</th>\n",
              "      <th>newbalanceDest</th>\n",
              "      <th>isFraud</th>\n",
              "      <th>isFlaggedFraud</th>\n",
              "    </tr>\n",
              "  </thead>\n",
              "  <tbody>\n",
              "    <tr>\n",
              "      <th>0</th>\n",
              "      <td>1</td>\n",
              "      <td>PAYMENT</td>\n",
              "      <td>9839.64</td>\n",
              "      <td>C1231006815</td>\n",
              "      <td>170136.0</td>\n",
              "      <td>160296.36</td>\n",
              "      <td>M1979787155</td>\n",
              "      <td>0.0</td>\n",
              "      <td>0.0</td>\n",
              "      <td>0</td>\n",
              "      <td>0</td>\n",
              "    </tr>\n",
              "    <tr>\n",
              "      <th>1</th>\n",
              "      <td>1</td>\n",
              "      <td>PAYMENT</td>\n",
              "      <td>1864.28</td>\n",
              "      <td>C1666544295</td>\n",
              "      <td>21249.0</td>\n",
              "      <td>19384.72</td>\n",
              "      <td>M2044282225</td>\n",
              "      <td>0.0</td>\n",
              "      <td>0.0</td>\n",
              "      <td>0</td>\n",
              "      <td>0</td>\n",
              "    </tr>\n",
              "    <tr>\n",
              "      <th>2</th>\n",
              "      <td>1</td>\n",
              "      <td>TRANSFER</td>\n",
              "      <td>181.00</td>\n",
              "      <td>C1305486145</td>\n",
              "      <td>181.0</td>\n",
              "      <td>0.00</td>\n",
              "      <td>C553264065</td>\n",
              "      <td>0.0</td>\n",
              "      <td>0.0</td>\n",
              "      <td>1</td>\n",
              "      <td>0</td>\n",
              "    </tr>\n",
              "    <tr>\n",
              "      <th>3</th>\n",
              "      <td>1</td>\n",
              "      <td>CASH_OUT</td>\n",
              "      <td>181.00</td>\n",
              "      <td>C840083671</td>\n",
              "      <td>181.0</td>\n",
              "      <td>0.00</td>\n",
              "      <td>C38997010</td>\n",
              "      <td>21182.0</td>\n",
              "      <td>0.0</td>\n",
              "      <td>1</td>\n",
              "      <td>0</td>\n",
              "    </tr>\n",
              "    <tr>\n",
              "      <th>4</th>\n",
              "      <td>1</td>\n",
              "      <td>PAYMENT</td>\n",
              "      <td>11668.14</td>\n",
              "      <td>C2048537720</td>\n",
              "      <td>41554.0</td>\n",
              "      <td>29885.86</td>\n",
              "      <td>M1230701703</td>\n",
              "      <td>0.0</td>\n",
              "      <td>0.0</td>\n",
              "      <td>0</td>\n",
              "      <td>0</td>\n",
              "    </tr>\n",
              "  </tbody>\n",
              "</table>\n",
              "</div>\n",
              "      <button class=\"colab-df-convert\" onclick=\"convertToInteractive('df-c7100196-4c0a-4c2f-8c9e-4f291dd11215')\"\n",
              "              title=\"Convert this dataframe to an interactive table.\"\n",
              "              style=\"display:none;\">\n",
              "\n",
              "  <svg xmlns=\"http://www.w3.org/2000/svg\" height=\"24px\"viewBox=\"0 0 24 24\"\n",
              "       width=\"24px\">\n",
              "    <path d=\"M0 0h24v24H0V0z\" fill=\"none\"/>\n",
              "    <path d=\"M18.56 5.44l.94 2.06.94-2.06 2.06-.94-2.06-.94-.94-2.06-.94 2.06-2.06.94zm-11 1L8.5 8.5l.94-2.06 2.06-.94-2.06-.94L8.5 2.5l-.94 2.06-2.06.94zm10 10l.94 2.06.94-2.06 2.06-.94-2.06-.94-.94-2.06-.94 2.06-2.06.94z\"/><path d=\"M17.41 7.96l-1.37-1.37c-.4-.4-.92-.59-1.43-.59-.52 0-1.04.2-1.43.59L10.3 9.45l-7.72 7.72c-.78.78-.78 2.05 0 2.83L4 21.41c.39.39.9.59 1.41.59.51 0 1.02-.2 1.41-.59l7.78-7.78 2.81-2.81c.8-.78.8-2.07 0-2.86zM5.41 20L4 18.59l7.72-7.72 1.47 1.35L5.41 20z\"/>\n",
              "  </svg>\n",
              "      </button>\n",
              "\n",
              "\n",
              "\n",
              "    <div id=\"df-339645ed-5a2b-4175-8ebb-cff26b25cfea\">\n",
              "      <button class=\"colab-df-quickchart\" onclick=\"quickchart('df-339645ed-5a2b-4175-8ebb-cff26b25cfea')\"\n",
              "              title=\"Suggest charts.\"\n",
              "              style=\"display:none;\">\n",
              "\n",
              "<svg xmlns=\"http://www.w3.org/2000/svg\" height=\"24px\"viewBox=\"0 0 24 24\"\n",
              "     width=\"24px\">\n",
              "    <g>\n",
              "        <path d=\"M19 3H5c-1.1 0-2 .9-2 2v14c0 1.1.9 2 2 2h14c1.1 0 2-.9 2-2V5c0-1.1-.9-2-2-2zM9 17H7v-7h2v7zm4 0h-2V7h2v10zm4 0h-2v-4h2v4z\"/>\n",
              "    </g>\n",
              "</svg>\n",
              "      </button>\n",
              "    </div>\n",
              "\n",
              "<style>\n",
              "  .colab-df-quickchart {\n",
              "    background-color: #E8F0FE;\n",
              "    border: none;\n",
              "    border-radius: 50%;\n",
              "    cursor: pointer;\n",
              "    display: none;\n",
              "    fill: #1967D2;\n",
              "    height: 32px;\n",
              "    padding: 0 0 0 0;\n",
              "    width: 32px;\n",
              "  }\n",
              "\n",
              "  .colab-df-quickchart:hover {\n",
              "    background-color: #E2EBFA;\n",
              "    box-shadow: 0px 1px 2px rgba(60, 64, 67, 0.3), 0px 1px 3px 1px rgba(60, 64, 67, 0.15);\n",
              "    fill: #174EA6;\n",
              "  }\n",
              "\n",
              "  [theme=dark] .colab-df-quickchart {\n",
              "    background-color: #3B4455;\n",
              "    fill: #D2E3FC;\n",
              "  }\n",
              "\n",
              "  [theme=dark] .colab-df-quickchart:hover {\n",
              "    background-color: #434B5C;\n",
              "    box-shadow: 0px 1px 3px 1px rgba(0, 0, 0, 0.15);\n",
              "    filter: drop-shadow(0px 1px 2px rgba(0, 0, 0, 0.3));\n",
              "    fill: #FFFFFF;\n",
              "  }\n",
              "</style>\n",
              "\n",
              "    <script>\n",
              "      async function quickchart(key) {\n",
              "        const containerElement = document.querySelector('#' + key);\n",
              "        const charts = await google.colab.kernel.invokeFunction(\n",
              "            'suggestCharts', [key], {});\n",
              "      }\n",
              "    </script>\n",
              "\n",
              "      <script>\n",
              "\n",
              "function displayQuickchartButton(domScope) {\n",
              "  let quickchartButtonEl =\n",
              "    domScope.querySelector('#df-339645ed-5a2b-4175-8ebb-cff26b25cfea button.colab-df-quickchart');\n",
              "  quickchartButtonEl.style.display =\n",
              "    google.colab.kernel.accessAllowed ? 'block' : 'none';\n",
              "}\n",
              "\n",
              "        displayQuickchartButton(document);\n",
              "      </script>\n",
              "      <style>\n",
              "    .colab-df-container {\n",
              "      display:flex;\n",
              "      flex-wrap:wrap;\n",
              "      gap: 12px;\n",
              "    }\n",
              "\n",
              "    .colab-df-convert {\n",
              "      background-color: #E8F0FE;\n",
              "      border: none;\n",
              "      border-radius: 50%;\n",
              "      cursor: pointer;\n",
              "      display: none;\n",
              "      fill: #1967D2;\n",
              "      height: 32px;\n",
              "      padding: 0 0 0 0;\n",
              "      width: 32px;\n",
              "    }\n",
              "\n",
              "    .colab-df-convert:hover {\n",
              "      background-color: #E2EBFA;\n",
              "      box-shadow: 0px 1px 2px rgba(60, 64, 67, 0.3), 0px 1px 3px 1px rgba(60, 64, 67, 0.15);\n",
              "      fill: #174EA6;\n",
              "    }\n",
              "\n",
              "    [theme=dark] .colab-df-convert {\n",
              "      background-color: #3B4455;\n",
              "      fill: #D2E3FC;\n",
              "    }\n",
              "\n",
              "    [theme=dark] .colab-df-convert:hover {\n",
              "      background-color: #434B5C;\n",
              "      box-shadow: 0px 1px 3px 1px rgba(0, 0, 0, 0.15);\n",
              "      filter: drop-shadow(0px 1px 2px rgba(0, 0, 0, 0.3));\n",
              "      fill: #FFFFFF;\n",
              "    }\n",
              "  </style>\n",
              "\n",
              "      <script>\n",
              "        const buttonEl =\n",
              "          document.querySelector('#df-c7100196-4c0a-4c2f-8c9e-4f291dd11215 button.colab-df-convert');\n",
              "        buttonEl.style.display =\n",
              "          google.colab.kernel.accessAllowed ? 'block' : 'none';\n",
              "\n",
              "        async function convertToInteractive(key) {\n",
              "          const element = document.querySelector('#df-c7100196-4c0a-4c2f-8c9e-4f291dd11215');\n",
              "          const dataTable =\n",
              "            await google.colab.kernel.invokeFunction('convertToInteractive',\n",
              "                                                     [key], {});\n",
              "          if (!dataTable) return;\n",
              "\n",
              "          const docLinkHtml = 'Like what you see? Visit the ' +\n",
              "            '<a target=\"_blank\" href=https://colab.research.google.com/notebooks/data_table.ipynb>data table notebook</a>'\n",
              "            + ' to learn more about interactive tables.';\n",
              "          element.innerHTML = '';\n",
              "          dataTable['output_type'] = 'display_data';\n",
              "          await google.colab.output.renderOutput(dataTable, element);\n",
              "          const docLink = document.createElement('div');\n",
              "          docLink.innerHTML = docLinkHtml;\n",
              "          element.appendChild(docLink);\n",
              "        }\n",
              "      </script>\n",
              "    </div>\n",
              "  </div>\n"
            ]
          },
          "metadata": {},
          "execution_count": 6
        }
      ]
    },
    {
      "cell_type": "code",
      "source": [
        "# For the fraud cases, are all nameOrig (origin ID) different? If yes, then this column can be dropped.\n",
        "len(pd.unique(df.nameOrig[df.isFraud==1])) == len(df[df.isFraud==1])\n"
      ],
      "metadata": {
        "colab": {
          "base_uri": "https://localhost:8080/"
        },
        "id": "Sm2e1WncUozN",
        "outputId": "49f9ac57-8c21-46ff-916c-b502573fdd86"
      },
      "execution_count": 7,
      "outputs": [
        {
          "output_type": "execute_result",
          "data": {
            "text/plain": [
              "True"
            ]
          },
          "metadata": {},
          "execution_count": 7
        }
      ]
    },
    {
      "cell_type": "code",
      "source": [
        "# For the fraud cases, are all nameDest (destination ID) different? If yes, then this column can be dropped.\n",
        "len(pd.unique(df.nameDest[df.isFraud==1]))"
      ],
      "metadata": {
        "colab": {
          "base_uri": "https://localhost:8080/"
        },
        "id": "HO_d-xQyWEZu",
        "outputId": "f109ada7-f47d-408d-c5ac-558be4f88889"
      },
      "execution_count": 8,
      "outputs": [
        {
          "output_type": "execute_result",
          "data": {
            "text/plain": [
              "8169"
            ]
          },
          "metadata": {},
          "execution_count": 8
        }
      ]
    },
    {
      "cell_type": "code",
      "metadata": {
        "id": "PwCZuulL9E1M",
        "colab": {
          "base_uri": "https://localhost:8080/"
        },
        "outputId": "02e78011-33cb-49a6-bdad-a148568db19e"
      },
      "source": [
        "df.info()"
      ],
      "execution_count": 9,
      "outputs": [
        {
          "output_type": "stream",
          "name": "stdout",
          "text": [
            "<class 'pandas.core.frame.DataFrame'>\n",
            "RangeIndex: 6362620 entries, 0 to 6362619\n",
            "Data columns (total 11 columns):\n",
            " #   Column          Dtype  \n",
            "---  ------          -----  \n",
            " 0   step            int64  \n",
            " 1   type            object \n",
            " 2   amount          float64\n",
            " 3   nameOrig        object \n",
            " 4   oldbalanceOrg   float64\n",
            " 5   newbalanceOrig  float64\n",
            " 6   nameDest        object \n",
            " 7   oldbalanceDest  float64\n",
            " 8   newbalanceDest  float64\n",
            " 9   isFraud         int64  \n",
            " 10  isFlaggedFraud  int64  \n",
            "dtypes: float64(5), int64(3), object(3)\n",
            "memory usage: 534.0+ MB\n"
          ]
        }
      ]
    },
    {
      "cell_type": "code",
      "source": [
        "# Percentage of labels = 1\n",
        "(len(df)-len(df[df['isFraud']==1]))/len(df)"
      ],
      "metadata": {
        "colab": {
          "base_uri": "https://localhost:8080/"
        },
        "id": "GFTg-KQsQOmw",
        "outputId": "0bd84191-8ae0-4f15-8884-2b5d72f13bd9"
      },
      "execution_count": 10,
      "outputs": [
        {
          "output_type": "execute_result",
          "data": {
            "text/plain": [
              "0.9987091795518198"
            ]
          },
          "metadata": {},
          "execution_count": 10
        }
      ]
    },
    {
      "cell_type": "code",
      "metadata": {
        "id": "8CX3DRJ3AhFG"
      },
      "source": [
        "# dropping column 'isFlaggedFraud' and nameOrig\n",
        "df.drop(columns=['isFlaggedFraud'],inplace=True)\n",
        "df.drop(columns=['nameOrig'],inplace=True)"
      ],
      "execution_count": 11,
      "outputs": []
    },
    {
      "cell_type": "code",
      "source": [
        "# Number of nulls in dataset\n",
        "for col in df.columns:\n",
        "    print(col, df[col].isnull().sum())"
      ],
      "metadata": {
        "colab": {
          "base_uri": "https://localhost:8080/"
        },
        "id": "pn6gxhOAXrKl",
        "outputId": "9427b278-3625-4944-8302-515b78a2b083"
      },
      "execution_count": 12,
      "outputs": [
        {
          "output_type": "stream",
          "name": "stdout",
          "text": [
            "step 0\n",
            "type 0\n",
            "amount 0\n",
            "oldbalanceOrg 0\n",
            "newbalanceOrig 0\n",
            "nameDest 0\n",
            "oldbalanceDest 0\n",
            "newbalanceDest 0\n",
            "isFraud 0\n"
          ]
        }
      ]
    },
    {
      "cell_type": "markdown",
      "source": [
        "## In order to be fed into a neural network, the four 'object' type columns will be converted to embeddings. Choosing columns that will be encoded and calculating embedding sizes.\n",
        "\n"
      ],
      "metadata": {
        "id": "-EshN599vqj1"
      }
    },
    {
      "cell_type": "code",
      "source": [
        "# Changing datatypes of 'object' types to 'category'\n",
        "\n",
        "df[\"step\"] = df[\"step\"].astype(\"category\")\n",
        "df[\"type\"] = df[\"type\"].astype(\"category\")\n",
        "#df[\"nameOrig\"] = df[\"nameOrig\"].astype(\"category\")\n",
        "df[\"nameDest\"] = df[\"nameDest\"].astype(\"category\")"
      ],
      "metadata": {
        "id": "LG2xgBvnaDSp"
      },
      "execution_count": 13,
      "outputs": []
    },
    {
      "cell_type": "code",
      "source": [
        "# Defining labels\n",
        "Y = df['isFraud']\n",
        "df.drop(columns=['isFraud'],inplace=True)\n",
        "print(len(df),len(Y))"
      ],
      "metadata": {
        "colab": {
          "base_uri": "https://localhost:8080/"
        },
        "id": "6LIL8yLXheaF",
        "outputId": "1a24ab15-c22b-4552-bace-6b658da321a8"
      },
      "execution_count": 14,
      "outputs": [
        {
          "output_type": "stream",
          "name": "stdout",
          "text": [
            "6362620 6362620\n"
          ]
        }
      ]
    },
    {
      "cell_type": "code",
      "source": [
        "# calculating number of categories in 'category' type columns.\n",
        "embCol_dict = {}\n",
        "for n,c in df.items():\n",
        "  if str(df.dtypes[c.name]) == \"category\":\n",
        "    if len(c.cat.categories) > 2:\n",
        "      embCol_dict[c.name] = len(c.cat.categories)\n",
        "embCol_dict"
      ],
      "metadata": {
        "colab": {
          "base_uri": "https://localhost:8080/"
        },
        "id": "TJl-vda7hvwc",
        "outputId": "a54404a1-4dc7-4e28-ee69-83864c0b10b2"
      },
      "execution_count": 15,
      "outputs": [
        {
          "output_type": "execute_result",
          "data": {
            "text/plain": [
              "{'step': 743, 'type': 5, 'nameDest': 2722362}"
            ]
          },
          "metadata": {},
          "execution_count": 15
        }
      ]
    },
    {
      "cell_type": "markdown",
      "source": [
        "Reference https://jovian.ai/aakanksha-ns/shelter-outcome\n",
        "\n",
        "Below code calculates the size of embeddings based on number of categories in each column. The output size is min(50,(category size+1)/2). In case of step, nameOrig and nameDest, embeddings help in reducing categories to embeddings of length 50"
      ],
      "metadata": {
        "id": "P0CbKRmWBu1h"
      }
    },
    {
      "cell_type": "code",
      "source": [
        "# computing embedding sizes\n",
        "embedding_sizes = [(n_categories, min(16, (n_categories+1)//2)) for _,n_categories in embCol_dict.items()]\n",
        "embedding_sizes"
      ],
      "metadata": {
        "colab": {
          "base_uri": "https://localhost:8080/"
        },
        "id": "oQAZ307oC6z7",
        "outputId": "2644f052-55f5-4071-a637-2ebe0ce5cca2"
      },
      "execution_count": 16,
      "outputs": [
        {
          "output_type": "execute_result",
          "data": {
            "text/plain": [
              "[(743, 16), (5, 3), (2722362, 16)]"
            ]
          },
          "metadata": {},
          "execution_count": 16
        }
      ]
    },
    {
      "cell_type": "code",
      "source": [
        "embCol_list = embCol_dict.keys()\n",
        "len(embCol_list)"
      ],
      "metadata": {
        "colab": {
          "base_uri": "https://localhost:8080/"
        },
        "id": "ZVGQvRWFirIg",
        "outputId": "c885c2d6-53c8-4fef-cd3a-82fd8e6486ce"
      },
      "execution_count": 17,
      "outputs": [
        {
          "output_type": "execute_result",
          "data": {
            "text/plain": [
              "3"
            ]
          },
          "metadata": {},
          "execution_count": 17
        }
      ]
    },
    {
      "cell_type": "markdown",
      "source": [
        "Encoding text categories in 'category' columns to integer codes using Sklearn's LabelEncoder"
      ],
      "metadata": {
        "id": "tHooJPpcw7hl"
      }
    },
    {
      "cell_type": "code",
      "source": [
        "for col in df.columns:\n",
        "  if (df.dtypes[col]) == \"category\":\n",
        "    df[col] = LabelEncoder().fit_transform(df[col])"
      ],
      "metadata": {
        "id": "ssxT_SMbqZBX"
      },
      "execution_count": 18,
      "outputs": []
    },
    {
      "cell_type": "markdown",
      "source": [
        "As 99.87% of data points are legitimate trasactions, we need to oversample the fraud transactions (label=1). Using SMOTE to oversample the minority class:"
      ],
      "metadata": {
        "id": "HEjKVEoe-E2N"
      }
    },
    {
      "cell_type": "code",
      "source": [
        "sm = SMOTE(random_state = 13)\n",
        "df, Y = sm.fit_resample(df, Y)"
      ],
      "metadata": {
        "id": "gmnfGyLv9veD"
      },
      "execution_count": 19,
      "outputs": []
    },
    {
      "cell_type": "code",
      "source": [
        "len(Y)"
      ],
      "metadata": {
        "colab": {
          "base_uri": "https://localhost:8080/"
        },
        "id": "BXUFkuvh_XMp",
        "outputId": "21f7c585-46c6-45d6-9274-ca71d094ed8f"
      },
      "execution_count": 20,
      "outputs": [
        {
          "output_type": "execute_result",
          "data": {
            "text/plain": [
              "12708814"
            ]
          },
          "metadata": {},
          "execution_count": 20
        }
      ]
    },
    {
      "cell_type": "markdown",
      "source": [
        "Portioning 70% data for training and 15% each for validation and testing."
      ],
      "metadata": {
        "id": "ye0pqBhUxH-N"
      }
    },
    {
      "cell_type": "code",
      "source": [
        "np.random.seed(13)\n",
        "X_train, X_val_test, y_train, y_val_test = train_test_split(df, Y, test_size=0.30)\n",
        "X_train.head()"
      ],
      "metadata": {
        "colab": {
          "base_uri": "https://localhost:8080/",
          "height": 206
        },
        "id": "IqkcU93NfdrB",
        "outputId": "c2558252-ddb5-4ac4-86d4-d6ef6d535017"
      },
      "execution_count": 21,
      "outputs": [
        {
          "output_type": "execute_result",
          "data": {
            "text/plain": [
              "         step  type         amount  oldbalanceOrg  newbalanceOrig  nameDest  \\\n",
              "4786200   344     0  224871.120000   4.522400e+04       270095.12    271472   \n",
              "5780617   399     0   22469.230000   1.429763e+06      1452232.69      5754   \n",
              "2664855   209     1   60745.780000   0.000000e+00            0.00    264164   \n",
              "7451605    84     1   35375.733969   3.537573e+04            0.00    508214   \n",
              "3994173   297     3    9725.520000   0.000000e+00            0.00   1524271   \n",
              "\n",
              "         oldbalanceDest  newbalanceDest  \n",
              "4786200    6.228510e+06    6.003639e+06  \n",
              "5780617    2.992955e+05    2.768263e+05  \n",
              "2664855    1.428495e+06    1.489241e+06  \n",
              "7451605    2.086395e+06    2.121771e+06  \n",
              "3994173    0.000000e+00    0.000000e+00  "
            ],
            "text/html": [
              "\n",
              "\n",
              "  <div id=\"df-14347e7c-dda9-4092-ae8e-e6826bb4b6cd\">\n",
              "    <div class=\"colab-df-container\">\n",
              "      <div>\n",
              "<style scoped>\n",
              "    .dataframe tbody tr th:only-of-type {\n",
              "        vertical-align: middle;\n",
              "    }\n",
              "\n",
              "    .dataframe tbody tr th {\n",
              "        vertical-align: top;\n",
              "    }\n",
              "\n",
              "    .dataframe thead th {\n",
              "        text-align: right;\n",
              "    }\n",
              "</style>\n",
              "<table border=\"1\" class=\"dataframe\">\n",
              "  <thead>\n",
              "    <tr style=\"text-align: right;\">\n",
              "      <th></th>\n",
              "      <th>step</th>\n",
              "      <th>type</th>\n",
              "      <th>amount</th>\n",
              "      <th>oldbalanceOrg</th>\n",
              "      <th>newbalanceOrig</th>\n",
              "      <th>nameDest</th>\n",
              "      <th>oldbalanceDest</th>\n",
              "      <th>newbalanceDest</th>\n",
              "    </tr>\n",
              "  </thead>\n",
              "  <tbody>\n",
              "    <tr>\n",
              "      <th>4786200</th>\n",
              "      <td>344</td>\n",
              "      <td>0</td>\n",
              "      <td>224871.120000</td>\n",
              "      <td>4.522400e+04</td>\n",
              "      <td>270095.12</td>\n",
              "      <td>271472</td>\n",
              "      <td>6.228510e+06</td>\n",
              "      <td>6.003639e+06</td>\n",
              "    </tr>\n",
              "    <tr>\n",
              "      <th>5780617</th>\n",
              "      <td>399</td>\n",
              "      <td>0</td>\n",
              "      <td>22469.230000</td>\n",
              "      <td>1.429763e+06</td>\n",
              "      <td>1452232.69</td>\n",
              "      <td>5754</td>\n",
              "      <td>2.992955e+05</td>\n",
              "      <td>2.768263e+05</td>\n",
              "    </tr>\n",
              "    <tr>\n",
              "      <th>2664855</th>\n",
              "      <td>209</td>\n",
              "      <td>1</td>\n",
              "      <td>60745.780000</td>\n",
              "      <td>0.000000e+00</td>\n",
              "      <td>0.00</td>\n",
              "      <td>264164</td>\n",
              "      <td>1.428495e+06</td>\n",
              "      <td>1.489241e+06</td>\n",
              "    </tr>\n",
              "    <tr>\n",
              "      <th>7451605</th>\n",
              "      <td>84</td>\n",
              "      <td>1</td>\n",
              "      <td>35375.733969</td>\n",
              "      <td>3.537573e+04</td>\n",
              "      <td>0.00</td>\n",
              "      <td>508214</td>\n",
              "      <td>2.086395e+06</td>\n",
              "      <td>2.121771e+06</td>\n",
              "    </tr>\n",
              "    <tr>\n",
              "      <th>3994173</th>\n",
              "      <td>297</td>\n",
              "      <td>3</td>\n",
              "      <td>9725.520000</td>\n",
              "      <td>0.000000e+00</td>\n",
              "      <td>0.00</td>\n",
              "      <td>1524271</td>\n",
              "      <td>0.000000e+00</td>\n",
              "      <td>0.000000e+00</td>\n",
              "    </tr>\n",
              "  </tbody>\n",
              "</table>\n",
              "</div>\n",
              "      <button class=\"colab-df-convert\" onclick=\"convertToInteractive('df-14347e7c-dda9-4092-ae8e-e6826bb4b6cd')\"\n",
              "              title=\"Convert this dataframe to an interactive table.\"\n",
              "              style=\"display:none;\">\n",
              "\n",
              "  <svg xmlns=\"http://www.w3.org/2000/svg\" height=\"24px\"viewBox=\"0 0 24 24\"\n",
              "       width=\"24px\">\n",
              "    <path d=\"M0 0h24v24H0V0z\" fill=\"none\"/>\n",
              "    <path d=\"M18.56 5.44l.94 2.06.94-2.06 2.06-.94-2.06-.94-.94-2.06-.94 2.06-2.06.94zm-11 1L8.5 8.5l.94-2.06 2.06-.94-2.06-.94L8.5 2.5l-.94 2.06-2.06.94zm10 10l.94 2.06.94-2.06 2.06-.94-2.06-.94-.94-2.06-.94 2.06-2.06.94z\"/><path d=\"M17.41 7.96l-1.37-1.37c-.4-.4-.92-.59-1.43-.59-.52 0-1.04.2-1.43.59L10.3 9.45l-7.72 7.72c-.78.78-.78 2.05 0 2.83L4 21.41c.39.39.9.59 1.41.59.51 0 1.02-.2 1.41-.59l7.78-7.78 2.81-2.81c.8-.78.8-2.07 0-2.86zM5.41 20L4 18.59l7.72-7.72 1.47 1.35L5.41 20z\"/>\n",
              "  </svg>\n",
              "      </button>\n",
              "\n",
              "\n",
              "\n",
              "    <div id=\"df-4da237ac-b788-45b7-ba94-0dc64b9026ce\">\n",
              "      <button class=\"colab-df-quickchart\" onclick=\"quickchart('df-4da237ac-b788-45b7-ba94-0dc64b9026ce')\"\n",
              "              title=\"Suggest charts.\"\n",
              "              style=\"display:none;\">\n",
              "\n",
              "<svg xmlns=\"http://www.w3.org/2000/svg\" height=\"24px\"viewBox=\"0 0 24 24\"\n",
              "     width=\"24px\">\n",
              "    <g>\n",
              "        <path d=\"M19 3H5c-1.1 0-2 .9-2 2v14c0 1.1.9 2 2 2h14c1.1 0 2-.9 2-2V5c0-1.1-.9-2-2-2zM9 17H7v-7h2v7zm4 0h-2V7h2v10zm4 0h-2v-4h2v4z\"/>\n",
              "    </g>\n",
              "</svg>\n",
              "      </button>\n",
              "    </div>\n",
              "\n",
              "<style>\n",
              "  .colab-df-quickchart {\n",
              "    background-color: #E8F0FE;\n",
              "    border: none;\n",
              "    border-radius: 50%;\n",
              "    cursor: pointer;\n",
              "    display: none;\n",
              "    fill: #1967D2;\n",
              "    height: 32px;\n",
              "    padding: 0 0 0 0;\n",
              "    width: 32px;\n",
              "  }\n",
              "\n",
              "  .colab-df-quickchart:hover {\n",
              "    background-color: #E2EBFA;\n",
              "    box-shadow: 0px 1px 2px rgba(60, 64, 67, 0.3), 0px 1px 3px 1px rgba(60, 64, 67, 0.15);\n",
              "    fill: #174EA6;\n",
              "  }\n",
              "\n",
              "  [theme=dark] .colab-df-quickchart {\n",
              "    background-color: #3B4455;\n",
              "    fill: #D2E3FC;\n",
              "  }\n",
              "\n",
              "  [theme=dark] .colab-df-quickchart:hover {\n",
              "    background-color: #434B5C;\n",
              "    box-shadow: 0px 1px 3px 1px rgba(0, 0, 0, 0.15);\n",
              "    filter: drop-shadow(0px 1px 2px rgba(0, 0, 0, 0.3));\n",
              "    fill: #FFFFFF;\n",
              "  }\n",
              "</style>\n",
              "\n",
              "    <script>\n",
              "      async function quickchart(key) {\n",
              "        const containerElement = document.querySelector('#' + key);\n",
              "        const charts = await google.colab.kernel.invokeFunction(\n",
              "            'suggestCharts', [key], {});\n",
              "      }\n",
              "    </script>\n",
              "\n",
              "      <script>\n",
              "\n",
              "function displayQuickchartButton(domScope) {\n",
              "  let quickchartButtonEl =\n",
              "    domScope.querySelector('#df-4da237ac-b788-45b7-ba94-0dc64b9026ce button.colab-df-quickchart');\n",
              "  quickchartButtonEl.style.display =\n",
              "    google.colab.kernel.accessAllowed ? 'block' : 'none';\n",
              "}\n",
              "\n",
              "        displayQuickchartButton(document);\n",
              "      </script>\n",
              "      <style>\n",
              "    .colab-df-container {\n",
              "      display:flex;\n",
              "      flex-wrap:wrap;\n",
              "      gap: 12px;\n",
              "    }\n",
              "\n",
              "    .colab-df-convert {\n",
              "      background-color: #E8F0FE;\n",
              "      border: none;\n",
              "      border-radius: 50%;\n",
              "      cursor: pointer;\n",
              "      display: none;\n",
              "      fill: #1967D2;\n",
              "      height: 32px;\n",
              "      padding: 0 0 0 0;\n",
              "      width: 32px;\n",
              "    }\n",
              "\n",
              "    .colab-df-convert:hover {\n",
              "      background-color: #E2EBFA;\n",
              "      box-shadow: 0px 1px 2px rgba(60, 64, 67, 0.3), 0px 1px 3px 1px rgba(60, 64, 67, 0.15);\n",
              "      fill: #174EA6;\n",
              "    }\n",
              "\n",
              "    [theme=dark] .colab-df-convert {\n",
              "      background-color: #3B4455;\n",
              "      fill: #D2E3FC;\n",
              "    }\n",
              "\n",
              "    [theme=dark] .colab-df-convert:hover {\n",
              "      background-color: #434B5C;\n",
              "      box-shadow: 0px 1px 3px 1px rgba(0, 0, 0, 0.15);\n",
              "      filter: drop-shadow(0px 1px 2px rgba(0, 0, 0, 0.3));\n",
              "      fill: #FFFFFF;\n",
              "    }\n",
              "  </style>\n",
              "\n",
              "      <script>\n",
              "        const buttonEl =\n",
              "          document.querySelector('#df-14347e7c-dda9-4092-ae8e-e6826bb4b6cd button.colab-df-convert');\n",
              "        buttonEl.style.display =\n",
              "          google.colab.kernel.accessAllowed ? 'block' : 'none';\n",
              "\n",
              "        async function convertToInteractive(key) {\n",
              "          const element = document.querySelector('#df-14347e7c-dda9-4092-ae8e-e6826bb4b6cd');\n",
              "          const dataTable =\n",
              "            await google.colab.kernel.invokeFunction('convertToInteractive',\n",
              "                                                     [key], {});\n",
              "          if (!dataTable) return;\n",
              "\n",
              "          const docLinkHtml = 'Like what you see? Visit the ' +\n",
              "            '<a target=\"_blank\" href=https://colab.research.google.com/notebooks/data_table.ipynb>data table notebook</a>'\n",
              "            + ' to learn more about interactive tables.';\n",
              "          element.innerHTML = '';\n",
              "          dataTable['output_type'] = 'display_data';\n",
              "          await google.colab.output.renderOutput(dataTable, element);\n",
              "          const docLink = document.createElement('div');\n",
              "          docLink.innerHTML = docLinkHtml;\n",
              "          element.appendChild(docLink);\n",
              "        }\n",
              "      </script>\n",
              "    </div>\n",
              "  </div>\n"
            ]
          },
          "metadata": {},
          "execution_count": 21
        }
      ]
    },
    {
      "cell_type": "code",
      "source": [
        "np.random.seed(13)\n",
        "X_val, X_test, y_val, y_test = train_test_split(X_val_test, y_val_test, test_size=0.50)"
      ],
      "metadata": {
        "id": "HpdJL18xiMWi"
      },
      "execution_count": 22,
      "outputs": []
    },
    {
      "cell_type": "code",
      "source": [
        "# reset indexes to avoid errors in dataloader class\n",
        "X_train = X_train.reset_index(drop=True)\n",
        "y_train = y_train.reset_index(drop=True)\n",
        "\n",
        "X_val = X_val.reset_index(drop=True)\n",
        "y_val = y_val.reset_index(drop=True)\n",
        "\n",
        "X_test = X_test.reset_index(drop=True)\n",
        "y_test = y_test.reset_index(drop=True)\n",
        "\n"
      ],
      "metadata": {
        "id": "32CJ5ih0lxtE"
      },
      "execution_count": 23,
      "outputs": []
    },
    {
      "cell_type": "code",
      "source": [
        "print(len(X_train),len(y_train),len(X_val),len(y_val),len(X_test),len(y_test))"
      ],
      "metadata": {
        "colab": {
          "base_uri": "https://localhost:8080/"
        },
        "id": "uhjHUVAf6Kq8",
        "outputId": "71c84612-d406-4a55-d726-7fa202445dd2"
      },
      "execution_count": 24,
      "outputs": [
        {
          "output_type": "stream",
          "name": "stdout",
          "text": [
            "8896169 8896169 1906322 1906322 1906323 1906323\n"
          ]
        }
      ]
    },
    {
      "cell_type": "markdown",
      "source": [
        "Data after encoding 'category' columns."
      ],
      "metadata": {
        "id": "pmoQ5MJdxl0i"
      }
    },
    {
      "cell_type": "code",
      "source": [
        "df.head()"
      ],
      "metadata": {
        "colab": {
          "base_uri": "https://localhost:8080/",
          "height": 206
        },
        "id": "3qgsI9hC6Vj_",
        "outputId": "16da3f19-9fa0-43e2-8d6e-0651350c00c5"
      },
      "execution_count": 25,
      "outputs": [
        {
          "output_type": "execute_result",
          "data": {
            "text/plain": [
              "   step  type    amount  oldbalanceOrg  newbalanceOrig  nameDest  \\\n",
              "0     0     3   9839.64       170136.0       160296.36   1662094   \n",
              "1     0     3   1864.28        21249.0        19384.72   1733924   \n",
              "2     0     4    181.00          181.0            0.00    439685   \n",
              "3     0     1    181.00          181.0            0.00    391696   \n",
              "4     0     3  11668.14        41554.0        29885.86    828919   \n",
              "\n",
              "   oldbalanceDest  newbalanceDest  \n",
              "0             0.0             0.0  \n",
              "1             0.0             0.0  \n",
              "2             0.0             0.0  \n",
              "3         21182.0             0.0  \n",
              "4             0.0             0.0  "
            ],
            "text/html": [
              "\n",
              "\n",
              "  <div id=\"df-6bf8225f-cc8d-479f-8501-df68df2a6a49\">\n",
              "    <div class=\"colab-df-container\">\n",
              "      <div>\n",
              "<style scoped>\n",
              "    .dataframe tbody tr th:only-of-type {\n",
              "        vertical-align: middle;\n",
              "    }\n",
              "\n",
              "    .dataframe tbody tr th {\n",
              "        vertical-align: top;\n",
              "    }\n",
              "\n",
              "    .dataframe thead th {\n",
              "        text-align: right;\n",
              "    }\n",
              "</style>\n",
              "<table border=\"1\" class=\"dataframe\">\n",
              "  <thead>\n",
              "    <tr style=\"text-align: right;\">\n",
              "      <th></th>\n",
              "      <th>step</th>\n",
              "      <th>type</th>\n",
              "      <th>amount</th>\n",
              "      <th>oldbalanceOrg</th>\n",
              "      <th>newbalanceOrig</th>\n",
              "      <th>nameDest</th>\n",
              "      <th>oldbalanceDest</th>\n",
              "      <th>newbalanceDest</th>\n",
              "    </tr>\n",
              "  </thead>\n",
              "  <tbody>\n",
              "    <tr>\n",
              "      <th>0</th>\n",
              "      <td>0</td>\n",
              "      <td>3</td>\n",
              "      <td>9839.64</td>\n",
              "      <td>170136.0</td>\n",
              "      <td>160296.36</td>\n",
              "      <td>1662094</td>\n",
              "      <td>0.0</td>\n",
              "      <td>0.0</td>\n",
              "    </tr>\n",
              "    <tr>\n",
              "      <th>1</th>\n",
              "      <td>0</td>\n",
              "      <td>3</td>\n",
              "      <td>1864.28</td>\n",
              "      <td>21249.0</td>\n",
              "      <td>19384.72</td>\n",
              "      <td>1733924</td>\n",
              "      <td>0.0</td>\n",
              "      <td>0.0</td>\n",
              "    </tr>\n",
              "    <tr>\n",
              "      <th>2</th>\n",
              "      <td>0</td>\n",
              "      <td>4</td>\n",
              "      <td>181.00</td>\n",
              "      <td>181.0</td>\n",
              "      <td>0.00</td>\n",
              "      <td>439685</td>\n",
              "      <td>0.0</td>\n",
              "      <td>0.0</td>\n",
              "    </tr>\n",
              "    <tr>\n",
              "      <th>3</th>\n",
              "      <td>0</td>\n",
              "      <td>1</td>\n",
              "      <td>181.00</td>\n",
              "      <td>181.0</td>\n",
              "      <td>0.00</td>\n",
              "      <td>391696</td>\n",
              "      <td>21182.0</td>\n",
              "      <td>0.0</td>\n",
              "    </tr>\n",
              "    <tr>\n",
              "      <th>4</th>\n",
              "      <td>0</td>\n",
              "      <td>3</td>\n",
              "      <td>11668.14</td>\n",
              "      <td>41554.0</td>\n",
              "      <td>29885.86</td>\n",
              "      <td>828919</td>\n",
              "      <td>0.0</td>\n",
              "      <td>0.0</td>\n",
              "    </tr>\n",
              "  </tbody>\n",
              "</table>\n",
              "</div>\n",
              "      <button class=\"colab-df-convert\" onclick=\"convertToInteractive('df-6bf8225f-cc8d-479f-8501-df68df2a6a49')\"\n",
              "              title=\"Convert this dataframe to an interactive table.\"\n",
              "              style=\"display:none;\">\n",
              "\n",
              "  <svg xmlns=\"http://www.w3.org/2000/svg\" height=\"24px\"viewBox=\"0 0 24 24\"\n",
              "       width=\"24px\">\n",
              "    <path d=\"M0 0h24v24H0V0z\" fill=\"none\"/>\n",
              "    <path d=\"M18.56 5.44l.94 2.06.94-2.06 2.06-.94-2.06-.94-.94-2.06-.94 2.06-2.06.94zm-11 1L8.5 8.5l.94-2.06 2.06-.94-2.06-.94L8.5 2.5l-.94 2.06-2.06.94zm10 10l.94 2.06.94-2.06 2.06-.94-2.06-.94-.94-2.06-.94 2.06-2.06.94z\"/><path d=\"M17.41 7.96l-1.37-1.37c-.4-.4-.92-.59-1.43-.59-.52 0-1.04.2-1.43.59L10.3 9.45l-7.72 7.72c-.78.78-.78 2.05 0 2.83L4 21.41c.39.39.9.59 1.41.59.51 0 1.02-.2 1.41-.59l7.78-7.78 2.81-2.81c.8-.78.8-2.07 0-2.86zM5.41 20L4 18.59l7.72-7.72 1.47 1.35L5.41 20z\"/>\n",
              "  </svg>\n",
              "      </button>\n",
              "\n",
              "\n",
              "\n",
              "    <div id=\"df-37a256e0-e134-4804-96c5-3b40d76b859f\">\n",
              "      <button class=\"colab-df-quickchart\" onclick=\"quickchart('df-37a256e0-e134-4804-96c5-3b40d76b859f')\"\n",
              "              title=\"Suggest charts.\"\n",
              "              style=\"display:none;\">\n",
              "\n",
              "<svg xmlns=\"http://www.w3.org/2000/svg\" height=\"24px\"viewBox=\"0 0 24 24\"\n",
              "     width=\"24px\">\n",
              "    <g>\n",
              "        <path d=\"M19 3H5c-1.1 0-2 .9-2 2v14c0 1.1.9 2 2 2h14c1.1 0 2-.9 2-2V5c0-1.1-.9-2-2-2zM9 17H7v-7h2v7zm4 0h-2V7h2v10zm4 0h-2v-4h2v4z\"/>\n",
              "    </g>\n",
              "</svg>\n",
              "      </button>\n",
              "    </div>\n",
              "\n",
              "<style>\n",
              "  .colab-df-quickchart {\n",
              "    background-color: #E8F0FE;\n",
              "    border: none;\n",
              "    border-radius: 50%;\n",
              "    cursor: pointer;\n",
              "    display: none;\n",
              "    fill: #1967D2;\n",
              "    height: 32px;\n",
              "    padding: 0 0 0 0;\n",
              "    width: 32px;\n",
              "  }\n",
              "\n",
              "  .colab-df-quickchart:hover {\n",
              "    background-color: #E2EBFA;\n",
              "    box-shadow: 0px 1px 2px rgba(60, 64, 67, 0.3), 0px 1px 3px 1px rgba(60, 64, 67, 0.15);\n",
              "    fill: #174EA6;\n",
              "  }\n",
              "\n",
              "  [theme=dark] .colab-df-quickchart {\n",
              "    background-color: #3B4455;\n",
              "    fill: #D2E3FC;\n",
              "  }\n",
              "\n",
              "  [theme=dark] .colab-df-quickchart:hover {\n",
              "    background-color: #434B5C;\n",
              "    box-shadow: 0px 1px 3px 1px rgba(0, 0, 0, 0.15);\n",
              "    filter: drop-shadow(0px 1px 2px rgba(0, 0, 0, 0.3));\n",
              "    fill: #FFFFFF;\n",
              "  }\n",
              "</style>\n",
              "\n",
              "    <script>\n",
              "      async function quickchart(key) {\n",
              "        const containerElement = document.querySelector('#' + key);\n",
              "        const charts = await google.colab.kernel.invokeFunction(\n",
              "            'suggestCharts', [key], {});\n",
              "      }\n",
              "    </script>\n",
              "\n",
              "      <script>\n",
              "\n",
              "function displayQuickchartButton(domScope) {\n",
              "  let quickchartButtonEl =\n",
              "    domScope.querySelector('#df-37a256e0-e134-4804-96c5-3b40d76b859f button.colab-df-quickchart');\n",
              "  quickchartButtonEl.style.display =\n",
              "    google.colab.kernel.accessAllowed ? 'block' : 'none';\n",
              "}\n",
              "\n",
              "        displayQuickchartButton(document);\n",
              "      </script>\n",
              "      <style>\n",
              "    .colab-df-container {\n",
              "      display:flex;\n",
              "      flex-wrap:wrap;\n",
              "      gap: 12px;\n",
              "    }\n",
              "\n",
              "    .colab-df-convert {\n",
              "      background-color: #E8F0FE;\n",
              "      border: none;\n",
              "      border-radius: 50%;\n",
              "      cursor: pointer;\n",
              "      display: none;\n",
              "      fill: #1967D2;\n",
              "      height: 32px;\n",
              "      padding: 0 0 0 0;\n",
              "      width: 32px;\n",
              "    }\n",
              "\n",
              "    .colab-df-convert:hover {\n",
              "      background-color: #E2EBFA;\n",
              "      box-shadow: 0px 1px 2px rgba(60, 64, 67, 0.3), 0px 1px 3px 1px rgba(60, 64, 67, 0.15);\n",
              "      fill: #174EA6;\n",
              "    }\n",
              "\n",
              "    [theme=dark] .colab-df-convert {\n",
              "      background-color: #3B4455;\n",
              "      fill: #D2E3FC;\n",
              "    }\n",
              "\n",
              "    [theme=dark] .colab-df-convert:hover {\n",
              "      background-color: #434B5C;\n",
              "      box-shadow: 0px 1px 3px 1px rgba(0, 0, 0, 0.15);\n",
              "      filter: drop-shadow(0px 1px 2px rgba(0, 0, 0, 0.3));\n",
              "      fill: #FFFFFF;\n",
              "    }\n",
              "  </style>\n",
              "\n",
              "      <script>\n",
              "        const buttonEl =\n",
              "          document.querySelector('#df-6bf8225f-cc8d-479f-8501-df68df2a6a49 button.colab-df-convert');\n",
              "        buttonEl.style.display =\n",
              "          google.colab.kernel.accessAllowed ? 'block' : 'none';\n",
              "\n",
              "        async function convertToInteractive(key) {\n",
              "          const element = document.querySelector('#df-6bf8225f-cc8d-479f-8501-df68df2a6a49');\n",
              "          const dataTable =\n",
              "            await google.colab.kernel.invokeFunction('convertToInteractive',\n",
              "                                                     [key], {});\n",
              "          if (!dataTable) return;\n",
              "\n",
              "          const docLinkHtml = 'Like what you see? Visit the ' +\n",
              "            '<a target=\"_blank\" href=https://colab.research.google.com/notebooks/data_table.ipynb>data table notebook</a>'\n",
              "            + ' to learn more about interactive tables.';\n",
              "          element.innerHTML = '';\n",
              "          dataTable['output_type'] = 'display_data';\n",
              "          await google.colab.output.renderOutput(dataTable, element);\n",
              "          const docLink = document.createElement('div');\n",
              "          docLink.innerHTML = docLinkHtml;\n",
              "          element.appendChild(docLink);\n",
              "        }\n",
              "      </script>\n",
              "    </div>\n",
              "  </div>\n"
            ]
          },
          "metadata": {},
          "execution_count": 25
        }
      ]
    },
    {
      "cell_type": "markdown",
      "source": [
        "Defining the Dataset class."
      ],
      "metadata": {
        "id": "si0XoF5nxv6A"
      }
    },
    {
      "cell_type": "code",
      "source": [
        "class FraudData(Dataset):\n",
        "    def __init__(self, df, y, embCol_list):\n",
        "\n",
        "        self.X1 = df.loc[:,embCol_list].copy().values.astype(np.int64)\n",
        "        self.X2 = df.drop(columns = embCol_list).copy().values.astype(np.float32)\n",
        "        self.y = y\n",
        "\n",
        "    def __len__(self):\n",
        "        return len(self.y)\n",
        "\n",
        "    def __getitem__(self, idx):\n",
        "        return self.X1[idx], self.X2[idx], self.y[idx]"
      ],
      "metadata": {
        "id": "mZeLejKqFz9m"
      },
      "execution_count": null,
      "outputs": []
    },
    {
      "cell_type": "markdown",
      "source": [
        "Creating Dataset objects for Train/Validation/Test data"
      ],
      "metadata": {
        "id": "hCMjuLwfyNqe"
      }
    },
    {
      "cell_type": "code",
      "source": [
        "train_data = FraudData(X_train, y_train, embCol_list)\n",
        "valid_data = FraudData(X_val, y_val, embCol_list)\n",
        "test_data = FraudData(X_test, y_test, embCol_list)"
      ],
      "metadata": {
        "id": "GtmpE4TvKjQl"
      },
      "execution_count": null,
      "outputs": []
    },
    {
      "cell_type": "code",
      "source": [
        "print(len(train_data),len(valid_data),len(test_data))"
      ],
      "metadata": {
        "colab": {
          "base_uri": "https://localhost:8080/"
        },
        "id": "TJlvEhpfRg_J",
        "outputId": "4d08755b-70a3-448e-eda3-01a99b222daa"
      },
      "execution_count": null,
      "outputs": [
        {
          "output_type": "stream",
          "name": "stdout",
          "text": [
            "8896169 1906322 1906323\n"
          ]
        }
      ]
    },
    {
      "cell_type": "markdown",
      "source": [
        "Defining Hyperparameters and Dataloader objects"
      ],
      "metadata": {
        "id": "u19p6C8vyWGy"
      }
    },
    {
      "cell_type": "code",
      "source": [
        "# Hyperparameters and creating train and validation loader variables\n",
        "\n",
        "batch_size = 4096\n",
        "lr = 0.0001\n",
        "w_decay = 0.00001\n",
        "\n",
        "\n",
        "\n",
        "trainloader = DataLoader(train_data, batch_size=batch_size,\n",
        "                                          shuffle=True, num_workers=0)\n",
        "\n",
        "\n",
        "validloader = DataLoader(valid_data, batch_size=batch_size,\n",
        "                                         shuffle=False, num_workers=0)"
      ],
      "metadata": {
        "id": "EGRKSDYOSbeS"
      },
      "execution_count": null,
      "outputs": []
    },
    {
      "cell_type": "markdown",
      "source": [
        "## Building Feedforward Neural Network.\n",
        "\n"
      ],
      "metadata": {
        "id": "d1EK0Ef6ygUs"
      }
    },
    {
      "cell_type": "code",
      "source": [
        "class FraudNet(nn.Module):\n",
        "    def __init__(self, embedding_sizes, n_cont):\n",
        "        super().__init__()\n",
        "        self.embeddings = nn.ModuleList([nn.Embedding(categories, size) for categories,size in embedding_sizes])\n",
        "        n_emb = sum(e.embedding_dim for e in self.embeddings)\n",
        "        self.n_emb, self.n_cont = n_emb, n_cont\n",
        "        self.lin1 = nn.Linear(self.n_emb + self.n_cont, 256)\n",
        "        self.lin2 = nn.Linear(256, 512)\n",
        "        self.lin25 = nn.Linear(512, 256)\n",
        "        self.lin3 = nn.Linear(256, 2)\n",
        "        self.bn1 = nn.BatchNorm1d(self.n_cont)\n",
        "        self.bn2 = nn.BatchNorm1d(256)\n",
        "        self.bn3 = nn.BatchNorm1d(512)\n",
        "        self.embedding_drop = nn.Dropout(0.6)\n",
        "        self.drops = nn.Dropout(0.3)\n",
        "\n",
        "\n",
        "    def forward(self, x_cat, x_cont):\n",
        "        x = [e(x_cat[:,i]) for i,e in enumerate(self.embeddings)]\n",
        "        x = torch.cat(x, 1)\n",
        "        x = self.embedding_drop(x)\n",
        "        x2 = self.bn1(x_cont)\n",
        "        x = torch.cat([x, x2], 1)\n",
        "        x = F.relu(self.lin1(x))\n",
        "        x = self.drops(x)\n",
        "        x = self.bn2(x)\n",
        "        x = F.relu(self.lin2(x))\n",
        "        x = self.drops(x)\n",
        "        x = self.bn3(x)\n",
        "        x = F.relu(self.lin25(x))\n",
        "        x = self.drops(x)\n",
        "        x = self.bn2(x)\n",
        "        x = self.lin3(x)\n",
        "        return x"
      ],
      "metadata": {
        "id": "lLuvif_4Tif3"
      },
      "execution_count": null,
      "outputs": []
    },
    {
      "cell_type": "markdown",
      "source": [
        "n_cont variable contains number of non-encoded columns"
      ],
      "metadata": {
        "id": "yQYe6783yzos"
      }
    },
    {
      "cell_type": "code",
      "source": [
        "n_cont = len(df.columns) - len(embCol_list)"
      ],
      "metadata": {
        "id": "0XMrENKLM1p4"
      },
      "execution_count": null,
      "outputs": []
    },
    {
      "cell_type": "code",
      "source": [
        "net = FraudNet(embedding_sizes, n_cont).to(device=device)\n",
        "print(net)"
      ],
      "metadata": {
        "colab": {
          "base_uri": "https://localhost:8080/"
        },
        "id": "4N9BCrMZToso",
        "outputId": "2dd04e6c-b6e7-42fc-cfae-33df93e09074"
      },
      "execution_count": null,
      "outputs": [
        {
          "output_type": "stream",
          "name": "stdout",
          "text": [
            "FraudNet(\n",
            "  (embeddings): ModuleList(\n",
            "    (0): Embedding(743, 16)\n",
            "    (1): Embedding(5, 3)\n",
            "    (2): Embedding(2722362, 16)\n",
            "  )\n",
            "  (lin1): Linear(in_features=40, out_features=256, bias=True)\n",
            "  (lin2): Linear(in_features=256, out_features=512, bias=True)\n",
            "  (lin25): Linear(in_features=512, out_features=256, bias=True)\n",
            "  (lin3): Linear(in_features=256, out_features=2, bias=True)\n",
            "  (bn1): BatchNorm1d(5, eps=1e-05, momentum=0.1, affine=True, track_running_stats=True)\n",
            "  (bn2): BatchNorm1d(256, eps=1e-05, momentum=0.1, affine=True, track_running_stats=True)\n",
            "  (bn3): BatchNorm1d(512, eps=1e-05, momentum=0.1, affine=True, track_running_stats=True)\n",
            "  (embedding_drop): Dropout(p=0.6, inplace=False)\n",
            "  (drops): Dropout(p=0.3, inplace=False)\n",
            ")\n"
          ]
        }
      ]
    },
    {
      "cell_type": "code",
      "source": [
        "# https://stackoverflow.com/questions/49201236/check-the-total-number-of-parameters-in-a-pytorch-model\n",
        "\n",
        "from prettytable import PrettyTable\n",
        "def paramCount(model):\n",
        "    t = PrettyTable([\"Modules\", \"Parameters\"])\n",
        "    total_parameters = 0\n",
        "    for name, parameter in model.named_parameters():\n",
        "        if not parameter.requires_grad:\n",
        "          continue\n",
        "        params = parameter.numel()\n",
        "        t.add_row([name, params])\n",
        "        total_parameters+=params\n",
        "    print(t)\n",
        "    print(f\"Total Trainable Params: {total_parameters}\")\n",
        "    return total_parameters\n",
        "\n",
        "paramCount(net)"
      ],
      "metadata": {
        "colab": {
          "base_uri": "https://localhost:8080/"
        },
        "id": "u5lqTZw58A7c",
        "outputId": "1c984d4a-ad21-4782-ecd9-b4e3d0fd7c3d"
      },
      "execution_count": null,
      "outputs": [
        {
          "output_type": "stream",
          "name": "stdout",
          "text": [
            "+---------------------+------------+\n",
            "|       Modules       | Parameters |\n",
            "+---------------------+------------+\n",
            "| embeddings.0.weight |   11888    |\n",
            "| embeddings.1.weight |     15     |\n",
            "| embeddings.2.weight |  43557792  |\n",
            "|     lin1.weight     |   10240    |\n",
            "|      lin1.bias      |    256     |\n",
            "|     lin2.weight     |   131072   |\n",
            "|      lin2.bias      |    512     |\n",
            "|     lin25.weight    |   131072   |\n",
            "|      lin25.bias     |    256     |\n",
            "|     lin3.weight     |    512     |\n",
            "|      lin3.bias      |     2      |\n",
            "|      bn1.weight     |     5      |\n",
            "|       bn1.bias      |     5      |\n",
            "|      bn2.weight     |    256     |\n",
            "|       bn2.bias      |    256     |\n",
            "|      bn3.weight     |    512     |\n",
            "|       bn3.bias      |    512     |\n",
            "+---------------------+------------+\n",
            "Total Trainable Params: 43845163\n"
          ]
        },
        {
          "output_type": "execute_result",
          "data": {
            "text/plain": [
              "43845163"
            ]
          },
          "metadata": {},
          "execution_count": 32
        }
      ]
    },
    {
      "cell_type": "code",
      "source": [
        "criterion = nn.CrossEntropyLoss()\n",
        "\n",
        "\n",
        "optimizer = optim.Adam(params = net.parameters(), lr=lr, weight_decay= w_decay)\n"
      ],
      "metadata": {
        "id": "G_HP5GArV6jB"
      },
      "execution_count": null,
      "outputs": []
    },
    {
      "cell_type": "code",
      "source": [
        "root_path = '/content/drive/My Drive/Projects/Finance Dataset Kaggle/'"
      ],
      "metadata": {
        "id": "nySGu4M6QGy3"
      },
      "execution_count": null,
      "outputs": []
    },
    {
      "cell_type": "markdown",
      "source": [
        "## Training and Inference\n",
        "\n"
      ],
      "metadata": {
        "id": "83SxfdGfOQE1"
      }
    },
    {
      "cell_type": "code",
      "source": [
        "# @title\n",
        "num_epochs = 25\n",
        "\n",
        "tlossList = []\n",
        "vlossList = []\n",
        "\n",
        "np.random.seed(13)\n",
        "valAccMax = 0\n",
        "for epoch in range(0,num_epochs):  # loop over the dataset multiple times\n",
        "    t=time.time()\n",
        "    #sleep(0.5)\n",
        "    #print(\"Epoch: \",epoch+1)\n",
        "    trAcc = []\n",
        "    valAcc = []\n",
        "    train_batch_acc=0\n",
        "    valid_batch_acc=0\n",
        "    batch_loss=0\n",
        "    valid_loss=0\n",
        "    for i, data in enumerate(trainloader):\n",
        "        # get the inputs; data is a list of [inputs, labels]\n",
        "        x1 = data[0].to(device=device)\n",
        "        x2 = data[1].to(device=device)\n",
        "        labels = data[2].type(torch.LongTensor).to(device=device)\n",
        "\n",
        "        # zero the parameter gradients\n",
        "        optimizer.zero_grad()\n",
        "\n",
        "        # forward + backward + optimize\n",
        "        outputs = net(x1, x2)\n",
        "\n",
        "        loss = criterion(outputs, labels)\n",
        "        batch_loss+=loss\n",
        "        loss.backward()\n",
        "        optimizer.step()\n",
        "\n",
        "        # Batch Training Accuracy\n",
        "        batchPred = torch.argmax(outputs, dim=1)\n",
        "        batchAcc = np.mean(np.array((batchPred==labels).cpu()))\n",
        "        trAcc.append(batchAcc)\n",
        "\n",
        "    train_batch_acc = np.mean(trAcc)\n",
        "        # Validation Accuracy\n",
        "        #for id, d in enumerate(testloader):\n",
        "\n",
        "    for i, (x1, x2, y) in enumerate(validloader):\n",
        "        #print(x1,x2,y)\n",
        "        #print(i)\n",
        "        net.eval()\n",
        "        inpx1 = x1.to(device=device)\n",
        "        inpx2 = x2.to(device=device)\n",
        "        lab = y.type(torch.LongTensor).to(device=device)\n",
        "\n",
        "\n",
        "        np_lab = 0\n",
        "        with torch.no_grad():\n",
        "          out = net(inpx1,inpx2)\n",
        "          vloss = criterion(out, lab)\n",
        "          valid_loss+=vloss\n",
        "          np_lab = np.array(lab.cpu())\n",
        "\n",
        "        valPred = torch.argmax(out, dim=1)\n",
        "        vAcc = np.mean(np.array((valPred==lab).cpu()))\n",
        "        valAcc.append(vAcc)\n",
        "\n",
        "    valid_batch_acc = np.mean(valAcc)\n",
        "    if valid_batch_acc > valAccMax and epoch > 10:\n",
        "      valAccMax = valid_batch_acc\n",
        "      if valid_batch_acc > 0.99:\n",
        "        p = root_path + \"modelAutoSave_\" + \"_\" + str(round(valAccMax*100000,0)) + \"_\" +\\\n",
        "        str(epoch) + \"_\" + str(batch_size) + \"_\" + str(lr) + \"_\" + str(w_decay) + \"_\" + \".pth\"\n",
        "        torch.save(net.state_dict(), p)\n",
        "\n",
        "\n",
        "    tlossList.append(batch_loss.item()/len(train_data))\n",
        "    vlossList.append(valid_loss.item()/len(valid_data))\n",
        "\n",
        "\n",
        "    # print statistics\n",
        "    print(\"Epoch\",epoch+1,\" | T Loss:\", round(batch_loss.item()/len(train_data)*1e07,3),\\\n",
        "          \" | V Loss:\", round(valid_loss.item()/len(valid_data)*1e07,3),\\\n",
        "          \" | T Accuracy:\", round(train_batch_acc,6), \" | V Accuracy:\", round(valid_batch_acc,6),\\\n",
        "          \" | Max Val Acc:\", round(valAccMax,6), \" | Epoch Time\", round((time.time()-t)/60,2), \"min\")\n",
        "\n",
        "\n",
        "print('Finished Training')"
      ],
      "metadata": {
        "colab": {
          "base_uri": "https://localhost:8080/"
        },
        "outputId": "b4324c8b-fb30-41e2-dcc9-25b8f6828169",
        "id": "QurJ5b9QahgO"
      },
      "execution_count": null,
      "outputs": [
        {
          "output_type": "stream",
          "name": "stdout",
          "text": [
            "Epoch 1  | T Loss: 1138.535  | V Loss: 1027.602  | T Accuracy: 0.748739  | V Accuracy: 0.813186  | Max Val Acc: 0  | Epoch Time 3.19 min\n",
            "Epoch 2  | T Loss: 263.863  | V Loss: 184.141  | T Accuracy: 0.957514  | V Accuracy: 0.97233  | Max Val Acc: 0  | Epoch Time 3.1 min\n",
            "Epoch 3  | T Loss: 156.521  | V Loss: 137.934  | T Accuracy: 0.976351  | V Accuracy: 0.979199  | Max Val Acc: 0  | Epoch Time 3.21 min\n",
            "Epoch 4  | T Loss: 126.335  | V Loss: 117.708  | T Accuracy: 0.981255  | V Accuracy: 0.982929  | Max Val Acc: 0  | Epoch Time 3.11 min\n",
            "Epoch 5  | T Loss: 109.038  | V Loss: 103.975  | T Accuracy: 0.984193  | V Accuracy: 0.984763  | Max Val Acc: 0  | Epoch Time 3.02 min\n",
            "Epoch 6  | T Loss: 97.293  | V Loss: 93.989  | T Accuracy: 0.986212  | V Accuracy: 0.986837  | Max Val Acc: 0  | Epoch Time 3.0 min\n",
            "Epoch 7  | T Loss: 89.409  | V Loss: 86.986  | T Accuracy: 0.9875  | V Accuracy: 0.987655  | Max Val Acc: 0  | Epoch Time 3.03 min\n",
            "Epoch 8  | T Loss: 83.122  | V Loss: 79.578  | T Accuracy: 0.988538  | V Accuracy: 0.989098  | Max Val Acc: 0  | Epoch Time 3.05 min\n",
            "Epoch 9  | T Loss: 77.379  | V Loss: 77.709  | T Accuracy: 0.989532  | V Accuracy: 0.989785  | Max Val Acc: 0  | Epoch Time 3.05 min\n",
            "Epoch 10  | T Loss: 73.846  | V Loss: 76.85  | T Accuracy: 0.990106  | V Accuracy: 0.989404  | Max Val Acc: 0  | Epoch Time 3.16 min\n",
            "Epoch 11  | T Loss: 70.69  | V Loss: 78.669  | T Accuracy: 0.990619  | V Accuracy: 0.989121  | Max Val Acc: 0  | Epoch Time 3.24 min\n",
            "Epoch 12  | T Loss: 68.546  | V Loss: 65.24  | T Accuracy: 0.990888  | V Accuracy: 0.991649  | Max Val Acc: 0.991649  | Epoch Time 3.09 min\n",
            "Epoch 13  | T Loss: 66.186  | V Loss: 67.748  | T Accuracy: 0.991264  | V Accuracy: 0.990995  | Max Val Acc: 0.991649  | Epoch Time 2.93 min\n",
            "Epoch 14  | T Loss: 63.778  | V Loss: 67.439  | T Accuracy: 0.991641  | V Accuracy: 0.990864  | Max Val Acc: 0.991649  | Epoch Time 2.97 min\n",
            "Epoch 15  | T Loss: 62.173  | V Loss: 71.146  | T Accuracy: 0.99189  | V Accuracy: 0.989944  | Max Val Acc: 0.991649  | Epoch Time 2.96 min\n",
            "Epoch 16  | T Loss: 59.025  | V Loss: 62.956  | T Accuracy: 0.992308  | V Accuracy: 0.991707  | Max Val Acc: 0.991707  | Epoch Time 2.96 min\n",
            "Epoch 17  | T Loss: 52.416  | V Loss: 62.614  | T Accuracy: 0.993466  | V Accuracy: 0.991959  | Max Val Acc: 0.991959  | Epoch Time 2.98 min\n",
            "Epoch 18  | T Loss: 41.603  | V Loss: 64.899  | T Accuracy: 0.995049  | V Accuracy: 0.991738  | Max Val Acc: 0.991959  | Epoch Time 3.11 min\n",
            "Epoch 19  | T Loss: 32.698  | V Loss: 91.456  | T Accuracy: 0.996089  | V Accuracy: 0.989169  | Max Val Acc: 0.991959  | Epoch Time 2.92 min\n",
            "Epoch 20  | T Loss: 27.15  | V Loss: 71.869  | T Accuracy: 0.996727  | V Accuracy: 0.990661  | Max Val Acc: 0.991959  | Epoch Time 2.93 min\n",
            "Epoch 21  | T Loss: 22.142  | V Loss: 77.86  | T Accuracy: 0.997332  | V Accuracy: 0.990377  | Max Val Acc: 0.991959  | Epoch Time 2.9 min\n",
            "Epoch 22  | T Loss: 19.386  | V Loss: 82.022  | T Accuracy: 0.997641  | V Accuracy: 0.990916  | Max Val Acc: 0.991959  | Epoch Time 3.0 min\n",
            "Epoch 23  | T Loss: 17.139  | V Loss: 103.363  | T Accuracy: 0.997878  | V Accuracy: 0.989325  | Max Val Acc: 0.991959  | Epoch Time 2.99 min\n",
            "Epoch 24  | T Loss: 16.067  | V Loss: 86.625  | T Accuracy: 0.997961  | V Accuracy: 0.990278  | Max Val Acc: 0.991959  | Epoch Time 3.06 min\n",
            "Epoch 25  | T Loss: 14.087  | V Loss: 122.277  | T Accuracy: 0.998206  | V Accuracy: 0.98535  | Max Val Acc: 0.991959  | Epoch Time 3.31 min\n",
            "Finished Training\n"
          ]
        }
      ]
    },
    {
      "cell_type": "markdown",
      "source": [
        "From the above training, it is clear that the model started overfitting after 16th Epoch because the Training Loss kept decreasing while the validation loss was fluctuating."
      ],
      "metadata": {
        "id": "e0osXAmvzCfX"
      }
    },
    {
      "cell_type": "code",
      "source": [
        "# Save model\n",
        "#model_scripted = torch.jit.script(net)\n",
        "#model_scripted.save(root_path+'model_scripted_44M_SMOTE.pt')"
      ],
      "metadata": {
        "id": "6ox7a129PDaL"
      },
      "execution_count": null,
      "outputs": []
    },
    {
      "cell_type": "code",
      "source": [
        "#from google.colab import runtime\n",
        "#runtime.unassign()"
      ],
      "metadata": {
        "id": "BO_6ODDcdONy"
      },
      "execution_count": null,
      "outputs": []
    },
    {
      "cell_type": "code",
      "source": [
        "# Loading testloader in variables for use in inference in training loop in next cell\n",
        "testloader = DataLoader(test_data, batch_size=len(test_data),\n",
        "                                         shuffle=False, num_workers=0)\n",
        "\n",
        "for i, (x1, x2, y) in enumerate(testloader):\n",
        "  inpx1_t = x1.to(device=device)\n",
        "  inpx2_t = x2.to(device=device)\n",
        "  lab_t = y.type(torch.CharTensor).to(device=device)"
      ],
      "metadata": {
        "id": "17ZGjzXULs7E"
      },
      "execution_count": null,
      "outputs": []
    },
    {
      "cell_type": "code",
      "source": [
        "# Loading the model saved in 16th Epoch during training.\n",
        "model=net\n",
        "model.load_state_dict(torch.load(root_path+'modelAutoSave__99196.0_16_4096_0.0001_1e-05_.pth'))\n",
        "#model = torch.load(root_path+'modelAutoSave__99196.0_16_4096_0.0001_1e-05_.pth')\n",
        "model.eval()\n",
        "\n",
        "#model = torch.jit.load(root_path+'model_scripted_50.pt')\n",
        "#model.eval()"
      ],
      "metadata": {
        "id": "odLZEbak86Z5",
        "colab": {
          "base_uri": "https://localhost:8080/"
        },
        "outputId": "150d319b-d1b2-4f83-a9bb-ae3cb21b8c56"
      },
      "execution_count": null,
      "outputs": [
        {
          "output_type": "execute_result",
          "data": {
            "text/plain": [
              "FraudNet(\n",
              "  (embeddings): ModuleList(\n",
              "    (0): Embedding(743, 16)\n",
              "    (1): Embedding(5, 3)\n",
              "    (2): Embedding(2722362, 16)\n",
              "  )\n",
              "  (lin1): Linear(in_features=40, out_features=256, bias=True)\n",
              "  (lin2): Linear(in_features=256, out_features=512, bias=True)\n",
              "  (lin25): Linear(in_features=512, out_features=256, bias=True)\n",
              "  (lin3): Linear(in_features=256, out_features=2, bias=True)\n",
              "  (bn1): BatchNorm1d(5, eps=1e-05, momentum=0.1, affine=True, track_running_stats=True)\n",
              "  (bn2): BatchNorm1d(256, eps=1e-05, momentum=0.1, affine=True, track_running_stats=True)\n",
              "  (bn3): BatchNorm1d(512, eps=1e-05, momentum=0.1, affine=True, track_running_stats=True)\n",
              "  (embedding_drop): Dropout(p=0.6, inplace=False)\n",
              "  (drops): Dropout(p=0.3, inplace=False)\n",
              ")"
            ]
          },
          "metadata": {},
          "execution_count": 40
        }
      ]
    },
    {
      "cell_type": "markdown",
      "source": [
        "Checking accuracy on Testing Set"
      ],
      "metadata": {
        "id": "uS2NTc2hl5BF"
      }
    },
    {
      "cell_type": "code",
      "source": [
        "# Evaluation for test data\n",
        "#model=net\n",
        "#model.eval()\n",
        "with torch.no_grad():\n",
        "  out = model(inpx1_t,inpx2_t)\n",
        "\n",
        "a = torch.argmax(out, dim=1)\n",
        "b = np.mean(np.array((a==lab_t).cpu()))\n",
        "print(\"Test Accuracy: \",b,\"Correctly Classified Datapoints: \",len(test_data)*b,\\\n",
        "      \"Incorrectly Classified Datapoints: \",len(test_data)-len(test_data)*b )"
      ],
      "metadata": {
        "id": "hhoNeNdqLmkH",
        "colab": {
          "base_uri": "https://localhost:8080/"
        },
        "outputId": "ceb21cf2-2969-4f23-b728-7beb7e3f70fa"
      },
      "execution_count": null,
      "outputs": [
        {
          "output_type": "stream",
          "name": "stdout",
          "text": [
            "Test Accuracy:  0.9921818075950403 Correctly Classified Datapoints:  1891419.0 Incorrectly Classified Datapoints:  14904.0\n"
          ]
        }
      ]
    },
    {
      "cell_type": "markdown",
      "source": [
        "## Generating Confusion Matrix"
      ],
      "metadata": {
        "id": "-OQZhbxULr54"
      }
    },
    {
      "cell_type": "code",
      "source": [
        "test_labels = np.array(lab_t.cpu())\n",
        "test_predictions = np.array(a.cpu())"
      ],
      "metadata": {
        "id": "3qakPHsgMxL_"
      },
      "execution_count": null,
      "outputs": []
    },
    {
      "cell_type": "code",
      "source": [
        "#import locale\n",
        "#locale.getpreferredencoding = lambda: \"UTF-8\""
      ],
      "metadata": {
        "id": "K7X8QglrCABC"
      },
      "execution_count": null,
      "outputs": []
    },
    {
      "cell_type": "code",
      "source": [
        "# Confusion Matrix\n",
        "cm=pycm.ConfusionMatrix(test_labels, test_predictions)\n",
        "cm.plot(plot_lib=\"seaborn\", number_label=True)\n"
      ],
      "metadata": {
        "id": "oJjBeNy0OdvY",
        "colab": {
          "base_uri": "https://localhost:8080/",
          "height": 490
        },
        "outputId": "cb07b40a-fadb-4bc3-8b4c-edd864292e85"
      },
      "execution_count": null,
      "outputs": [
        {
          "output_type": "execute_result",
          "data": {
            "text/plain": [
              "<Axes: title={'center': 'Confusion Matrix'}, xlabel='Predicted Classes', ylabel='Actual Classes'>"
            ]
          },
          "metadata": {},
          "execution_count": 44
        },
        {
          "output_type": "display_data",
          "data": {
            "text/plain": [
              "<Figure size 640x480 with 2 Axes>"
            ],
            "image/png": "[encoded data removed]"
          },
          "metadata": {}
        }
      ]
    },
    {
      "cell_type": "code",
      "source": [
        "# Calculating Recall (True positive rate, (TP/TP+FN))\n",
        "print(cm.TPR,cm.ACC)"
      ],
      "metadata": {
        "colab": {
          "base_uri": "https://localhost:8080/"
        },
        "id": "3AkbdfYbiCPA",
        "outputId": "34045a17-a727-4ceb-833c-eb73d79d5579"
      },
      "execution_count": null,
      "outputs": [
        {
          "output_type": "stream",
          "name": "stdout",
          "text": [
            "{0: 0.9899535940227506, 1: 0.9944077664201736} {0: 0.9921818075950403, 1: 0.9921818075950403}\n"
          ]
        }
      ]
    },
    {
      "cell_type": "markdown",
      "source": [
        "The above confusion matrix suggests the following:\n",
        "1. Model with SMOTE oversampling has a recall of 0.9944 and thus, it is much more accurate in finding Fraud cases.\n",
        "2. Without oversampling with SMOTE, Out of 1221 fraud cases in test set, 900 were correctly classified as Fraud (True Positive) and 321 were classified as regular transactions (False Negatives). So the recall was 0.737. (See earlier version of notebook).\n",
        "3. In a financial setting, usually the cost of a False Negative (a fraud transaction not detected) is higher than cost of a False Positive (a regular transaction tagged as fraud). Thus, this model is preferable to the model with less recall albeit there's going to be some inconvenience to customers when their legitimate transactions are classified as fraud.\n",
        "4. Use of SMOTE oversampling method has drastically improved recall by reducing the class imbalance in this dataset.\n",
        "\n"
      ],
      "metadata": {
        "id": "OdLf34wdOut9"
      }
    },
    {
      "cell_type": "markdown",
      "source": [
        "#Comparison with XGBoost"
      ],
      "metadata": {
        "id": "cz9gb-lF4vAH"
      }
    },
    {
      "cell_type": "code",
      "metadata": {
        "id": "uOshomb6sU0t"
      },
      "source": [
        "!cd '/content/drive/MyDrive/Projects/Finance Dataset Kaggle'"
      ],
      "execution_count": null,
      "outputs": []
    },
    {
      "cell_type": "code",
      "metadata": {
        "scrolled": true,
        "id": "-OrbICeeBicL"
      },
      "source": [
        "from sklearn.preprocessing import LabelEncoder\n",
        "from xgboost import XGBClassifier\n",
        "from sklearn.metrics import accuracy_score\n",
        "from xgboost import XGBClassifier\n",
        "from sklearn.model_selection import train_test_split\n",
        "from sklearn.metrics import accuracy_score\n",
        "from sklearn.metrics import confusion_matrix\n",
        "from sklearn.model_selection import StratifiedKFold\n",
        "from sklearn.model_selection import cross_val_score\n",
        "from sklearn.model_selection import GridSearchCV, RandomizedSearchCV, StratifiedKFold\n",
        "\n",
        "\n",
        "from sklearn.model_selection import train_test_split\n"
      ],
      "execution_count": null,
      "outputs": []
    },
    {
      "cell_type": "code",
      "metadata": {
        "id": "QPvWq0XKurwp"
      },
      "source": [
        "# Split data into train and test sets\n",
        "X_train, X_test, y_train, y_test = train_test_split(X, y, random_state=2)"
      ],
      "execution_count": null,
      "outputs": []
    },
    {
      "cell_type": "code",
      "metadata": {
        "colab": {
          "base_uri": "https://localhost:8080/"
        },
        "id": "8fODht1wurwq",
        "outputId": "30d6a88f-27ce-45ed-c492-c0234bcfd27e"
      },
      "source": [
        "xgb = XGBClassifier(booster='gbtree', learning_rate=0.1, random_state=2, n_jobs=-1, tree_method='gpu_hist',predictor='gpu_predictor')\n",
        "xgb.fit(X_train, y_train)\n",
        "y_pred = xgb.predict(X_test)\n",
        "score = accuracy_score(y_pred, y_test)\n",
        "print('Score: ' + str(score))"
      ],
      "execution_count": null,
      "outputs": [
        {
          "output_type": "stream",
          "name": "stdout",
          "text": [
            "Score: 0.9995662164328531\n"
          ]
        }
      ]
    },
    {
      "cell_type": "code",
      "metadata": {
        "colab": {
          "base_uri": "https://localhost:8080/"
        },
        "id": "pMtQSGe9EqPU",
        "outputId": "d089fc67-cace-44e0-bcdb-ca1c781667e1"
      },
      "source": [
        "\n",
        "confusion_matrix(y_test, y_pred)"
      ],
      "execution_count": null,
      "outputs": [
        {
          "output_type": "execute_result",
          "data": {
            "text/plain": [
              "array([[1588579,      32],\n",
              "       [    658,    1386]])"
            ]
          },
          "metadata": {},
          "execution_count": 17
        }
      ]
    },
    {
      "cell_type": "code",
      "metadata": {
        "colab": {
          "base_uri": "https://localhost:8080/"
        },
        "id": "cInv2Kej9E1P",
        "outputId": "6028d130-539f-4c9f-a3ae-43a1237204ba"
      },
      "source": [
        "\n",
        "\n",
        "# Obtain scores of cross-validation\n",
        "scores = cross_val_score(xgb, X, y, cv=5)\n",
        "\n",
        "# Display accuracy\n",
        "print('Accuracy:', np.round(scores, 2))\n",
        "\n",
        "# Display mean accuracy\n",
        "print('Accuracy mean: %0.2f' % (scores.mean()))"
      ],
      "execution_count": null,
      "outputs": [
        {
          "output_type": "stream",
          "name": "stdout",
          "text": [
            "Accuracy: [1. 1. 1. 1. 1.]\n",
            "Accuracy mean: 1.00\n"
          ]
        }
      ]
    },
    {
      "cell_type": "code",
      "metadata": {
        "id": "9ex5MnoA9E1R"
      },
      "source": [
        "# Import GridSearchCV\n",
        "\n",
        "\n",
        "kfold = StratifiedKFold(n_splits=5, shuffle=True, random_state=2)"
      ],
      "execution_count": null,
      "outputs": []
    },
    {
      "cell_type": "code",
      "metadata": {
        "colab": {
          "base_uri": "https://localhost:8080/"
        },
        "id": "XSgu8Zw-9E1S",
        "outputId": "3478a131-ac88-41e6-97c4-31ef2c0af1a9"
      },
      "source": [
        "# Obtain scores of cross-validation\n",
        "scores = cross_val_score(xgb, X, y, cv=kfold)\n",
        "\n",
        "# Display accuracy\n",
        "print('Accuracy:', np.round(scores, 2))\n",
        "\n",
        "# Display mean accuracy\n",
        "print('Accuracy mean: %0.2f' % (scores.mean()))"
      ],
      "execution_count": null,
      "outputs": [
        {
          "output_type": "stream",
          "name": "stdout",
          "text": [
            "Accuracy: [1. 1. 1. 1. 1.]\n",
            "Accuracy mean: 1.00\n"
          ]
        }
      ]
    },
    {
      "cell_type": "code",
      "metadata": {
        "id": "63PbypS79E1T"
      },
      "source": [
        "# Import GridSearchCV\n",
        "\n",
        "\n",
        "kfold = StratifiedKFold(n_splits=5, shuffle=True, random_state=2)"
      ],
      "execution_count": null,
      "outputs": []
    },
    {
      "cell_type": "code",
      "metadata": {
        "id": "wMVoTKrG9E1V"
      },
      "source": [
        "def grid_search(params, random=False):\n",
        "\n",
        "    xgb = XGBClassifier(booster='gbtree', objective='binary:logistic', random_state=2,n_jobs=-1, tree_method='gpu_hist',predictor='gpu_predictor')\n",
        "\n",
        "    kfold = StratifiedKFold(n_splits=5, shuffle=True, random_state=2)\n",
        "\n",
        "    if random:\n",
        "        grid = RandomizedSearchCV(xgb, params, cv=kfold, n_iter=20, n_jobs=-1, random_state=2)\n",
        "    else:\n",
        "        # Instantiate GridSearchCV as grid_reg\n",
        "        grid = GridSearchCV(xgb, params, cv=kfold, n_jobs=-1)\n",
        "\n",
        "    # Fit grid_reg on X_train and y_train\n",
        "    grid.fit(X_train, y_train)\n",
        "\n",
        "    # Extract best params\n",
        "    best_params = grid.best_params_\n",
        "\n",
        "    # Print best params\n",
        "    print(\"Best params:\", best_params)\n",
        "\n",
        "    # Compute best score\n",
        "    best_score = grid.best_score_\n",
        "\n",
        "    # Print best score\n",
        "    print(\"Best score: {:.5f}\".format(best_score))\n",
        "\n",
        "    y_pred = grid.predict(X_test)\n",
        "    # evaluate predictions\n",
        "    accuracy = accuracy_score(y_test, y_pred)\n",
        "    print(\"Accuracy: %.2f%%\" % (accuracy * 100.0))\n",
        "\n",
        "    print(confusion_matrix(y_test, y_pred))"
      ],
      "execution_count": null,
      "outputs": []
    },
    {
      "cell_type": "code",
      "metadata": {
        "colab": {
          "base_uri": "https://localhost:8080/"
        },
        "id": "53tAS23Y9E1V",
        "outputId": "a3c0fc88-761f-4726-c597-03c53b5118ee"
      },
      "source": [
        "grid_search(params={'n_estimators':[800,1000,1200]})"
      ],
      "execution_count": null,
      "outputs": [
        {
          "output_type": "stream",
          "name": "stdout",
          "text": [
            "Best params: {'n_estimators': 1200}\n",
            "Best score: 0.99977\n",
            "Accuracy: 99.98%\n",
            "[[1588544      67]\n",
            " [    296    1748]]\n"
          ]
        }
      ]
    },
    {
      "cell_type": "code",
      "metadata": {
        "colab": {
          "base_uri": "https://localhost:8080/"
        },
        "id": "TnryZfta9E1W",
        "outputId": "62466759-6ab3-42ab-8632-13a7705dd19c"
      },
      "source": [
        "grid_search(params={'learning_rate':[0.01, 0.05, 0.1, 0.2, 0.3, 0.4, 0.5]})"
      ],
      "execution_count": null,
      "outputs": [
        {
          "output_type": "stream",
          "name": "stdout",
          "text": [
            "Best params: {'learning_rate': 0.5}\n",
            "Best score: 0.99974\n",
            "Accuracy: 99.98%\n"
          ]
        }
      ]
    },
    {
      "cell_type": "code",
      "metadata": {
        "colab": {
          "base_uri": "https://localhost:8080/"
        },
        "id": "K7wFbdsx9E1W",
        "outputId": "26aa560b-02cc-4a64-bbc7-15e247a8af0e"
      },
      "source": [
        "grid_search(params={'max_depth':[2, 3, 5, 6, 8]})"
      ],
      "execution_count": null,
      "outputs": [
        {
          "output_type": "stream",
          "name": "stdout",
          "text": [
            "Best params: {'max_depth': 8}\n",
            "Best score: 0.99973\n",
            "Accuracy: 99.97%\n"
          ]
        }
      ]
    },
    {
      "cell_type": "code",
      "metadata": {
        "colab": {
          "base_uri": "https://localhost:8080/"
        },
        "id": "WBNaCmYe9E1X",
        "outputId": "ba0df482-74cf-403f-857e-b695c27e1311"
      },
      "source": [
        "grid_search(params={'gamma':[0, 0.01, 0.1, 0.5, 1, 2]})"
      ],
      "execution_count": null,
      "outputs": [
        {
          "output_type": "stream",
          "name": "stdout",
          "text": [
            "Best params: {'gamma': 0.1}\n",
            "Best score: 0.99959\n",
            "Accuracy: 99.96%\n",
            "[[1588572      39]\n",
            " [    648    1396]]\n"
          ]
        }
      ]
    },
    {
      "cell_type": "code",
      "metadata": {
        "colab": {
          "base_uri": "https://localhost:8080/"
        },
        "id": "utoQUfGw9E1X",
        "outputId": "0a89897a-dffd-49fd-f456-44cf999bb6ea"
      },
      "source": [
        "grid_search(params={'min_child_weight':[1, 2, 3, 4, 5]})"
      ],
      "execution_count": null,
      "outputs": [
        {
          "output_type": "stream",
          "name": "stdout",
          "text": [
            "Best params: {'min_child_weight': 3}\n",
            "Best score: 0.99959\n",
            "Accuracy: 99.96%\n",
            "[[1588571      40]\n",
            " [    640    1404]]\n"
          ]
        }
      ]
    },
    {
      "cell_type": "code",
      "metadata": {
        "colab": {
          "base_uri": "https://localhost:8080/"
        },
        "id": "e7CR_Kh59E1Y",
        "outputId": "bb0d3e36-d470-43bf-ce99-158c6e58d33c"
      },
      "source": [
        "grid_search(params={'subsample':[0.5, 0.7, 0.8, 0.9, 1]})"
      ],
      "execution_count": null,
      "outputs": [
        {
          "output_type": "stream",
          "name": "stdout",
          "text": [
            "Best params: {'subsample': 0.9}\n",
            "Best score: 0.99959\n",
            "Accuracy: 99.96%\n",
            "[[1588565      46]\n",
            " [    635    1409]]\n"
          ]
        }
      ]
    },
    {
      "cell_type": "code",
      "metadata": {
        "colab": {
          "base_uri": "https://localhost:8080/"
        },
        "id": "YksAOXr09E1Y",
        "outputId": "cf5aa3f4-315e-4a7b-a23c-45925a6d08f3"
      },
      "source": [
        "grid_search(params={'colsample_bytree':[0.5, 0.7, 0.8, 0.9, 1]})"
      ],
      "execution_count": null,
      "outputs": [
        {
          "output_type": "stream",
          "name": "stdout",
          "text": [
            "Best params: {'colsample_bytree': 1}\n",
            "Best score: 0.99959\n",
            "Accuracy: 99.96%\n",
            "[[1588568      43]\n",
            " [    644    1400]]\n"
          ]
        }
      ]
    },
    {
      "cell_type": "code",
      "metadata": {
        "colab": {
          "base_uri": "https://localhost:8080/"
        },
        "id": "XQOAj61aKgX6",
        "outputId": "2fc4b106-57e9-4556-e549-c744e2fc1294"
      },
      "source": [
        "grid_search(params={'colsample_bytree':[1], 'subsample':[0.9],'gamma':[0.1], 'min_child_weight':[3], 'max_depth':[8], 'learning_rate':[0.5], 'n_estimators':[100] })"
      ],
      "execution_count": null,
      "outputs": [
        {
          "output_type": "stream",
          "name": "stdout",
          "text": [
            "Best params: {'colsample_bytree': 1, 'gamma': 0.1, 'learning_rate': 0.5, 'max_depth': 8, 'min_child_weight': 3, 'n_estimators': 100, 'subsample': 0.9}\n",
            "Best score: 0.99976\n",
            "Accuracy: 99.98%\n",
            "[[1588514      97]\n",
            " [    293    1751]]\n"
          ]
        }
      ]
    },
    {
      "cell_type": "code",
      "metadata": {
        "colab": {
          "base_uri": "https://localhost:8080/"
        },
        "id": "rv0ZfSgNNfpO",
        "outputId": "a2184e29-cae6-4729-9af3-063d2aa23aba"
      },
      "source": [
        "grid_search(params={'colsample_bytree':[1], 'subsample':[0.9],'gamma':[0.1], 'min_child_weight':[3], 'max_depth':[6], 'learning_rate':[0.1], 'n_estimators':[100] })"
      ],
      "execution_count": null,
      "outputs": [
        {
          "output_type": "stream",
          "name": "stdout",
          "text": [
            "Best params: {'colsample_bytree': 1, 'gamma': 0.1, 'learning_rate': 0.1, 'max_depth': 6, 'min_child_weight': 3, 'n_estimators': 100, 'subsample': 0.9}\n",
            "Best score: 0.99968\n",
            "Accuracy: 99.97%\n",
            "[[1588575      36]\n",
            " [    476    1568]]\n"
          ]
        }
      ]
    },
    {
      "cell_type": "code",
      "metadata": {
        "id": "5ZTxztnT9E1Z"
      },
      "source": [
        "# Import train_test_split\n",
        "\n",
        "\n",
        "# Split data into train and test sets\n",
        "X_train, X_test, y_train, y_test = train_test_split(X, y, random_state=2)"
      ],
      "execution_count": null,
      "outputs": []
    },
    {
      "cell_type": "code",
      "metadata": {
        "colab": {
          "base_uri": "https://localhost:8080/"
        },
        "id": "BgTw6LCW9E1Z",
        "outputId": "2723edc4-4737-47ab-9985-1485ab239d41"
      },
      "source": [
        "model = XGBClassifier(booster='gbtree', objective='binary:logistic', random_state=2)\n",
        "eval_set = [(X_test, y_test)]\n",
        "eval_metric='error'\n",
        "model.fit(X_train, y_train, eval_metric=eval_metric, eval_set=eval_set)\n",
        "# make predictions for test data\n",
        "y_pred = model.predict(X_test)\n",
        "# evaluate predictions\n",
        "accuracy = accuracy_score(y_test, y_pred)\n",
        "print(\"Accuracy: %.2f%%\" % (accuracy * 100.0))"
      ],
      "execution_count": null,
      "outputs": [
        {
          "output_type": "stream",
          "name": "stdout",
          "text": [
            "[0]\tvalidation_0-error:0.171053\n",
            "[1]\tvalidation_0-error:0.118421\n",
            "[2]\tvalidation_0-error:0.157895\n",
            "[3]\tvalidation_0-error:0.184211\n",
            "[4]\tvalidation_0-error:0.157895\n",
            "[5]\tvalidation_0-error:0.171053\n",
            "[6]\tvalidation_0-error:0.157895\n",
            "[7]\tvalidation_0-error:0.144737\n",
            "[8]\tvalidation_0-error:0.144737\n",
            "[9]\tvalidation_0-error:0.144737\n",
            "[10]\tvalidation_0-error:0.131579\n",
            "[11]\tvalidation_0-error:0.144737\n",
            "[12]\tvalidation_0-error:0.144737\n",
            "[13]\tvalidation_0-error:0.144737\n",
            "[14]\tvalidation_0-error:0.144737\n",
            "[15]\tvalidation_0-error:0.144737\n",
            "[16]\tvalidation_0-error:0.157895\n",
            "[17]\tvalidation_0-error:0.131579\n",
            "[18]\tvalidation_0-error:0.144737\n",
            "[19]\tvalidation_0-error:0.144737\n",
            "[20]\tvalidation_0-error:0.144737\n",
            "[21]\tvalidation_0-error:0.144737\n",
            "[22]\tvalidation_0-error:0.144737\n",
            "[23]\tvalidation_0-error:0.144737\n",
            "[24]\tvalidation_0-error:0.144737\n",
            "[25]\tvalidation_0-error:0.144737\n",
            "[26]\tvalidation_0-error:0.131579\n",
            "[27]\tvalidation_0-error:0.131579\n",
            "[28]\tvalidation_0-error:0.131579\n",
            "[29]\tvalidation_0-error:0.131579\n",
            "[30]\tvalidation_0-error:0.118421\n",
            "[31]\tvalidation_0-error:0.118421\n",
            "[32]\tvalidation_0-error:0.118421\n",
            "[33]\tvalidation_0-error:0.118421\n",
            "[34]\tvalidation_0-error:0.118421\n",
            "[35]\tvalidation_0-error:0.118421\n",
            "[36]\tvalidation_0-error:0.118421\n",
            "[37]\tvalidation_0-error:0.131579\n",
            "[38]\tvalidation_0-error:0.131579\n",
            "[39]\tvalidation_0-error:0.131579\n",
            "[40]\tvalidation_0-error:0.131579\n",
            "[41]\tvalidation_0-error:0.131579\n",
            "[42]\tvalidation_0-error:0.131579\n",
            "[43]\tvalidation_0-error:0.131579\n",
            "[44]\tvalidation_0-error:0.131579\n",
            "[45]\tvalidation_0-error:0.131579\n",
            "[46]\tvalidation_0-error:0.131579\n",
            "[47]\tvalidation_0-error:0.131579\n",
            "[48]\tvalidation_0-error:0.131579\n",
            "[49]\tvalidation_0-error:0.131579\n",
            "[50]\tvalidation_0-error:0.131579\n",
            "[51]\tvalidation_0-error:0.118421\n",
            "[52]\tvalidation_0-error:0.131579\n",
            "[53]\tvalidation_0-error:0.131579\n",
            "[54]\tvalidation_0-error:0.131579\n",
            "[55]\tvalidation_0-error:0.131579\n",
            "[56]\tvalidation_0-error:0.131579\n",
            "[57]\tvalidation_0-error:0.131579\n",
            "[58]\tvalidation_0-error:0.131579\n",
            "[59]\tvalidation_0-error:0.118421\n",
            "[60]\tvalidation_0-error:0.131579\n",
            "[61]\tvalidation_0-error:0.118421\n",
            "[62]\tvalidation_0-error:0.118421\n",
            "[63]\tvalidation_0-error:0.131579\n",
            "[64]\tvalidation_0-error:0.131579\n",
            "[65]\tvalidation_0-error:0.131579\n",
            "[66]\tvalidation_0-error:0.131579\n",
            "[67]\tvalidation_0-error:0.131579\n",
            "[68]\tvalidation_0-error:0.131579\n",
            "[69]\tvalidation_0-error:0.131579\n",
            "[70]\tvalidation_0-error:0.131579\n",
            "[71]\tvalidation_0-error:0.131579\n",
            "[72]\tvalidation_0-error:0.131579\n",
            "[73]\tvalidation_0-error:0.131579\n",
            "[74]\tvalidation_0-error:0.131579\n",
            "[75]\tvalidation_0-error:0.131579\n",
            "[76]\tvalidation_0-error:0.131579\n",
            "[77]\tvalidation_0-error:0.131579\n",
            "[78]\tvalidation_0-error:0.131579\n",
            "[79]\tvalidation_0-error:0.131579\n",
            "[80]\tvalidation_0-error:0.131579\n",
            "[81]\tvalidation_0-error:0.131579\n",
            "[82]\tvalidation_0-error:0.131579\n",
            "[83]\tvalidation_0-error:0.131579\n",
            "[84]\tvalidation_0-error:0.131579\n",
            "[85]\tvalidation_0-error:0.131579\n",
            "[86]\tvalidation_0-error:0.131579\n",
            "[87]\tvalidation_0-error:0.131579\n",
            "[88]\tvalidation_0-error:0.131579\n",
            "[89]\tvalidation_0-error:0.131579\n",
            "[90]\tvalidation_0-error:0.131579\n",
            "[91]\tvalidation_0-error:0.131579\n",
            "[92]\tvalidation_0-error:0.131579\n",
            "[93]\tvalidation_0-error:0.131579\n",
            "[94]\tvalidation_0-error:0.131579\n",
            "[95]\tvalidation_0-error:0.131579\n",
            "[96]\tvalidation_0-error:0.131579\n",
            "[97]\tvalidation_0-error:0.144737\n",
            "[98]\tvalidation_0-error:0.144737\n",
            "[99]\tvalidation_0-error:0.144737\n",
            "Accuracy: 85.53%\n"
          ]
        }
      ]
    }
  ]
}