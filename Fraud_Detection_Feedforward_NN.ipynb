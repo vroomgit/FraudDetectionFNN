{
  "nbformat": 4,
  "nbformat_minor": 0,
  "metadata": {
    "kernelspec": {
      "display_name": "Python 3",
      "name": "python3"
    },
    "language_info": {
      "codemirror_mode": {
        "name": "ipython",
        "version": 3
      },
      "file_extension": ".py",
      "mimetype": "text/x-python",
      "name": "python",
      "nbconvert_exporter": "python",
      "pygments_lexer": "ipython3",
      "version": "3.7.7"
    },
    "colab": {
      "provenance": [],
      "gpuType": "V100",
      "cell_execution_strategy": "setup",
      "include_colab_link": true
    }
  },
  "cells": [
    {
      "cell_type": "markdown",
      "metadata": {
        "id": "view-in-github",
        "colab_type": "text"
      },
      "source": [
        "<a href=\"https://colab.research.google.com/github/vroomgit/FraudDetectionFNN/blob/main/Fraud_Detection_Feedforward_NN.ipynb\" target=\"_parent\"><img src=\"https://colab.research.google.com/assets/colab-badge.svg\" alt=\"Open In Colab\"/></a>"
      ]
    },
    {
      "cell_type": "markdown",
      "source": [
        "# Using a Feedforward Neural Network to detect fraudulent transactions in a simulated financial payments dataset\n",
        "\n",
        "Link to dataset: https://www.kaggle.com/datasets/ealaxi/paysim1"
      ],
      "metadata": {
        "id": "T50NjAoPHcJs"
      }
    },
    {
      "cell_type": "markdown",
      "source": [
        "## Environment prep and data unzipping (This section needed for Google Colab)"
      ],
      "metadata": {
        "id": "VYnzpwJbHMmS"
      }
    },
    {
      "cell_type": "code",
      "metadata": {
        "id": "g1AJFoPknuTS",
        "colab": {
          "base_uri": "https://localhost:8080/"
        },
        "outputId": "7bec8473-7ec5-454f-b6cc-e3191308ed31"
      },
      "source": [
        "from google.colab import drive\n",
        "drive.mount(\"/content/drive\")"
      ],
      "execution_count": 1,
      "outputs": [
        {
          "output_type": "stream",
          "name": "stdout",
          "text": [
            "Mounted at /content/drive\n"
          ]
        }
      ]
    },
    {
      "cell_type": "code",
      "metadata": {
        "colab": {
          "base_uri": "https://localhost:8080/"
        },
        "id": "LfCMwOmhrGmh",
        "outputId": "8fb4ef66-0a57-45c6-c6f0-ac86a3e9dfad"
      },
      "source": [
        "gpu_info = !nvidia-smi\n",
        "gpu_info = '\\n'.join(gpu_info)\n",
        "if gpu_info.find('failed') >= 0:\n",
        "  print('Select the Runtime > \"Change runtime type\" menu to enable a GPU accelerator, ')\n",
        "  print('and then re-execute this cell.')\n",
        "else:\n",
        "  print(gpu_info)"
      ],
      "execution_count": 2,
      "outputs": [
        {
          "output_type": "stream",
          "name": "stdout",
          "text": [
            "/bin/bash: line 1: nvidia-smi: command not found\n"
          ]
        }
      ]
    },
    {
      "cell_type": "markdown",
      "source": [
        "## Loading and Preparing Data"
      ],
      "metadata": {
        "id": "CEOdfE337gew"
      }
    },
    {
      "cell_type": "code",
      "metadata": {
        "scrolled": true,
        "id": "V05MogNi9E1H",
        "colab": {
          "base_uri": "https://localhost:8080/"
        },
        "outputId": "b34a63d5-2f7c-4b37-8874-c4d5868ee566"
      },
      "source": [
        "import pandas as pd\n",
        "import numpy as np\n",
        "from sklearn.preprocessing import LabelEncoder\n",
        "from sklearn.metrics import accuracy_score\n",
        "from sklearn.model_selection import train_test_split\n",
        "from sklearn.metrics import accuracy_score\n",
        "from sklearn.metrics import confusion_matrix\n",
        "import torch\n",
        "from torch.utils.data import Dataset, DataLoader\n",
        "import torch.optim as optim\n",
        "import torch.nn as nn\n",
        "import torch.nn.functional as F\n",
        "from torchvision import models\n",
        "import matplotlib.pyplot as plt\n",
        "from collections import Counter\n",
        "import time\n",
        "from time import sleep\n",
        "!pip install pycm\n",
        "import pycm\n",
        "import prettytable\n",
        "import sys\n",
        "!{sys.executable}  -m pip -q -q install matplotlib;\n",
        "!{sys.executable}  -m pip -q -q install seaborn;"
      ],
      "execution_count": 3,
      "outputs": [
        {
          "output_type": "stream",
          "name": "stdout",
          "text": [
            "Collecting pycm\n",
            "  Downloading pycm-4.0-py3-none-any.whl (70 kB)\n",
            "\u001b[?25l     \u001b[90m━━━━━━━━━━━━━━━━━━━━━━━━━━━━━━━━━━━━━━━━\u001b[0m \u001b[32m0.0/70.3 kB\u001b[0m \u001b[31m?\u001b[0m eta \u001b[36m-:--:--\u001b[0m\r\u001b[2K     \u001b[91m━━━━━━━━━━━━━━━━━━━━━━━━━━━━━━━━━━\u001b[0m\u001b[91m╸\u001b[0m\u001b[90m━━━━━\u001b[0m \u001b[32m61.4/70.3 kB\u001b[0m \u001b[31m1.7 MB/s\u001b[0m eta \u001b[36m0:00:01\u001b[0m\r\u001b[2K     \u001b[90m━━━━━━━━━━━━━━━━━━━━━━━━━━━━━━━━━━━━━━━━\u001b[0m \u001b[32m70.3/70.3 kB\u001b[0m \u001b[31m1.5 MB/s\u001b[0m eta \u001b[36m0:00:00\u001b[0m\n",
            "\u001b[?25hCollecting art>=1.8 (from pycm)\n",
            "  Downloading art-6.0-py3-none-any.whl (599 kB)\n",
            "\u001b[2K     \u001b[90m━━━━━━━━━━━━━━━━━━━━━━━━━━━━━━━━━━━━━━\u001b[0m \u001b[32m599.4/599.4 kB\u001b[0m \u001b[31m15.2 MB/s\u001b[0m eta \u001b[36m0:00:00\u001b[0m\n",
            "\u001b[?25hRequirement already satisfied: numpy>=1.9.0 in /usr/local/lib/python3.10/dist-packages (from pycm) (1.22.4)\n",
            "Installing collected packages: art, pycm\n",
            "Successfully installed art-6.0 pycm-4.0\n"
          ]
        }
      ]
    },
    {
      "cell_type": "code",
      "source": [
        "device = torch.device(\"cuda\" if torch.cuda.is_available() else \"cpu\")\n",
        "device"
      ],
      "metadata": {
        "colab": {
          "base_uri": "https://localhost:8080/"
        },
        "id": "R4LXiJp-bcna",
        "outputId": "f5bf1e05-e839-4457-bd21-9807d459c5b1"
      },
      "execution_count": 4,
      "outputs": [
        {
          "output_type": "execute_result",
          "data": {
            "text/plain": [
              "device(type='cpu')"
            ]
          },
          "metadata": {},
          "execution_count": 4
        }
      ]
    },
    {
      "cell_type": "code",
      "source": [
        "df = pd.read_csv('/content/drive/MyDrive/Projects/Finance Dataset Kaggle/FFDS.csv')\n",
        "df.head()"
      ],
      "metadata": {
        "colab": {
          "base_uri": "https://localhost:8080/",
          "height": 206
        },
        "id": "ArO3rYlGSkjF",
        "outputId": "867c1fe9-bdf0-44ed-bf32-b97ca39aad6a"
      },
      "execution_count": 5,
      "outputs": [
        {
          "output_type": "execute_result",
          "data": {
            "text/plain": [
              "   step      type    amount     nameOrig  oldbalanceOrg  newbalanceOrig  \\\n",
              "0     1   PAYMENT   9839.64  C1231006815       170136.0       160296.36   \n",
              "1     1   PAYMENT   1864.28  C1666544295        21249.0        19384.72   \n",
              "2     1  TRANSFER    181.00  C1305486145          181.0            0.00   \n",
              "3     1  CASH_OUT    181.00   C840083671          181.0            0.00   \n",
              "4     1   PAYMENT  11668.14  C2048537720        41554.0        29885.86   \n",
              "\n",
              "      nameDest  oldbalanceDest  newbalanceDest  isFraud  isFlaggedFraud  \n",
              "0  M1979787155             0.0             0.0        0               0  \n",
              "1  M2044282225             0.0             0.0        0               0  \n",
              "2   C553264065             0.0             0.0        1               0  \n",
              "3    C38997010         21182.0             0.0        1               0  \n",
              "4  M1230701703             0.0             0.0        0               0  "
            ],
            "text/html": [
              "\n",
              "\n",
              "  <div id=\"df-7dcc3cf1-f2ac-4702-9f0d-fac409853917\">\n",
              "    <div class=\"colab-df-container\">\n",
              "      <div>\n",
              "<style scoped>\n",
              "    .dataframe tbody tr th:only-of-type {\n",
              "        vertical-align: middle;\n",
              "    }\n",
              "\n",
              "    .dataframe tbody tr th {\n",
              "        vertical-align: top;\n",
              "    }\n",
              "\n",
              "    .dataframe thead th {\n",
              "        text-align: right;\n",
              "    }\n",
              "</style>\n",
              "<table border=\"1\" class=\"dataframe\">\n",
              "  <thead>\n",
              "    <tr style=\"text-align: right;\">\n",
              "      <th></th>\n",
              "      <th>step</th>\n",
              "      <th>type</th>\n",
              "      <th>amount</th>\n",
              "      <th>nameOrig</th>\n",
              "      <th>oldbalanceOrg</th>\n",
              "      <th>newbalanceOrig</th>\n",
              "      <th>nameDest</th>\n",
              "      <th>oldbalanceDest</th>\n",
              "      <th>newbalanceDest</th>\n",
              "      <th>isFraud</th>\n",
              "      <th>isFlaggedFraud</th>\n",
              "    </tr>\n",
              "  </thead>\n",
              "  <tbody>\n",
              "    <tr>\n",
              "      <th>0</th>\n",
              "      <td>1</td>\n",
              "      <td>PAYMENT</td>\n",
              "      <td>9839.64</td>\n",
              "      <td>C1231006815</td>\n",
              "      <td>170136.0</td>\n",
              "      <td>160296.36</td>\n",
              "      <td>M1979787155</td>\n",
              "      <td>0.0</td>\n",
              "      <td>0.0</td>\n",
              "      <td>0</td>\n",
              "      <td>0</td>\n",
              "    </tr>\n",
              "    <tr>\n",
              "      <th>1</th>\n",
              "      <td>1</td>\n",
              "      <td>PAYMENT</td>\n",
              "      <td>1864.28</td>\n",
              "      <td>C1666544295</td>\n",
              "      <td>21249.0</td>\n",
              "      <td>19384.72</td>\n",
              "      <td>M2044282225</td>\n",
              "      <td>0.0</td>\n",
              "      <td>0.0</td>\n",
              "      <td>0</td>\n",
              "      <td>0</td>\n",
              "    </tr>\n",
              "    <tr>\n",
              "      <th>2</th>\n",
              "      <td>1</td>\n",
              "      <td>TRANSFER</td>\n",
              "      <td>181.00</td>\n",
              "      <td>C1305486145</td>\n",
              "      <td>181.0</td>\n",
              "      <td>0.00</td>\n",
              "      <td>C553264065</td>\n",
              "      <td>0.0</td>\n",
              "      <td>0.0</td>\n",
              "      <td>1</td>\n",
              "      <td>0</td>\n",
              "    </tr>\n",
              "    <tr>\n",
              "      <th>3</th>\n",
              "      <td>1</td>\n",
              "      <td>CASH_OUT</td>\n",
              "      <td>181.00</td>\n",
              "      <td>C840083671</td>\n",
              "      <td>181.0</td>\n",
              "      <td>0.00</td>\n",
              "      <td>C38997010</td>\n",
              "      <td>21182.0</td>\n",
              "      <td>0.0</td>\n",
              "      <td>1</td>\n",
              "      <td>0</td>\n",
              "    </tr>\n",
              "    <tr>\n",
              "      <th>4</th>\n",
              "      <td>1</td>\n",
              "      <td>PAYMENT</td>\n",
              "      <td>11668.14</td>\n",
              "      <td>C2048537720</td>\n",
              "      <td>41554.0</td>\n",
              "      <td>29885.86</td>\n",
              "      <td>M1230701703</td>\n",
              "      <td>0.0</td>\n",
              "      <td>0.0</td>\n",
              "      <td>0</td>\n",
              "      <td>0</td>\n",
              "    </tr>\n",
              "  </tbody>\n",
              "</table>\n",
              "</div>\n",
              "      <button class=\"colab-df-convert\" onclick=\"convertToInteractive('df-7dcc3cf1-f2ac-4702-9f0d-fac409853917')\"\n",
              "              title=\"Convert this dataframe to an interactive table.\"\n",
              "              style=\"display:none;\">\n",
              "\n",
              "  <svg xmlns=\"http://www.w3.org/2000/svg\" height=\"24px\"viewBox=\"0 0 24 24\"\n",
              "       width=\"24px\">\n",
              "    <path d=\"M0 0h24v24H0V0z\" fill=\"none\"/>\n",
              "    <path d=\"M18.56 5.44l.94 2.06.94-2.06 2.06-.94-2.06-.94-.94-2.06-.94 2.06-2.06.94zm-11 1L8.5 8.5l.94-2.06 2.06-.94-2.06-.94L8.5 2.5l-.94 2.06-2.06.94zm10 10l.94 2.06.94-2.06 2.06-.94-2.06-.94-.94-2.06-.94 2.06-2.06.94z\"/><path d=\"M17.41 7.96l-1.37-1.37c-.4-.4-.92-.59-1.43-.59-.52 0-1.04.2-1.43.59L10.3 9.45l-7.72 7.72c-.78.78-.78 2.05 0 2.83L4 21.41c.39.39.9.59 1.41.59.51 0 1.02-.2 1.41-.59l7.78-7.78 2.81-2.81c.8-.78.8-2.07 0-2.86zM5.41 20L4 18.59l7.72-7.72 1.47 1.35L5.41 20z\"/>\n",
              "  </svg>\n",
              "      </button>\n",
              "\n",
              "\n",
              "\n",
              "    <div id=\"df-85d2499d-7a46-4dc2-8a34-b5be0d463c98\">\n",
              "      <button class=\"colab-df-quickchart\" onclick=\"quickchart('df-85d2499d-7a46-4dc2-8a34-b5be0d463c98')\"\n",
              "              title=\"Suggest charts.\"\n",
              "              style=\"display:none;\">\n",
              "\n",
              "<svg xmlns=\"http://www.w3.org/2000/svg\" height=\"24px\"viewBox=\"0 0 24 24\"\n",
              "     width=\"24px\">\n",
              "    <g>\n",
              "        <path d=\"M19 3H5c-1.1 0-2 .9-2 2v14c0 1.1.9 2 2 2h14c1.1 0 2-.9 2-2V5c0-1.1-.9-2-2-2zM9 17H7v-7h2v7zm4 0h-2V7h2v10zm4 0h-2v-4h2v4z\"/>\n",
              "    </g>\n",
              "</svg>\n",
              "      </button>\n",
              "    </div>\n",
              "\n",
              "<style>\n",
              "  .colab-df-quickchart {\n",
              "    background-color: #E8F0FE;\n",
              "    border: none;\n",
              "    border-radius: 50%;\n",
              "    cursor: pointer;\n",
              "    display: none;\n",
              "    fill: #1967D2;\n",
              "    height: 32px;\n",
              "    padding: 0 0 0 0;\n",
              "    width: 32px;\n",
              "  }\n",
              "\n",
              "  .colab-df-quickchart:hover {\n",
              "    background-color: #E2EBFA;\n",
              "    box-shadow: 0px 1px 2px rgba(60, 64, 67, 0.3), 0px 1px 3px 1px rgba(60, 64, 67, 0.15);\n",
              "    fill: #174EA6;\n",
              "  }\n",
              "\n",
              "  [theme=dark] .colab-df-quickchart {\n",
              "    background-color: #3B4455;\n",
              "    fill: #D2E3FC;\n",
              "  }\n",
              "\n",
              "  [theme=dark] .colab-df-quickchart:hover {\n",
              "    background-color: #434B5C;\n",
              "    box-shadow: 0px 1px 3px 1px rgba(0, 0, 0, 0.15);\n",
              "    filter: drop-shadow(0px 1px 2px rgba(0, 0, 0, 0.3));\n",
              "    fill: #FFFFFF;\n",
              "  }\n",
              "</style>\n",
              "\n",
              "    <script>\n",
              "      async function quickchart(key) {\n",
              "        const containerElement = document.querySelector('#' + key);\n",
              "        const charts = await google.colab.kernel.invokeFunction(\n",
              "            'suggestCharts', [key], {});\n",
              "      }\n",
              "    </script>\n",
              "\n",
              "      <script>\n",
              "\n",
              "function displayQuickchartButton(domScope) {\n",
              "  let quickchartButtonEl =\n",
              "    domScope.querySelector('#df-85d2499d-7a46-4dc2-8a34-b5be0d463c98 button.colab-df-quickchart');\n",
              "  quickchartButtonEl.style.display =\n",
              "    google.colab.kernel.accessAllowed ? 'block' : 'none';\n",
              "}\n",
              "\n",
              "        displayQuickchartButton(document);\n",
              "      </script>\n",
              "      <style>\n",
              "    .colab-df-container {\n",
              "      display:flex;\n",
              "      flex-wrap:wrap;\n",
              "      gap: 12px;\n",
              "    }\n",
              "\n",
              "    .colab-df-convert {\n",
              "      background-color: #E8F0FE;\n",
              "      border: none;\n",
              "      border-radius: 50%;\n",
              "      cursor: pointer;\n",
              "      display: none;\n",
              "      fill: #1967D2;\n",
              "      height: 32px;\n",
              "      padding: 0 0 0 0;\n",
              "      width: 32px;\n",
              "    }\n",
              "\n",
              "    .colab-df-convert:hover {\n",
              "      background-color: #E2EBFA;\n",
              "      box-shadow: 0px 1px 2px rgba(60, 64, 67, 0.3), 0px 1px 3px 1px rgba(60, 64, 67, 0.15);\n",
              "      fill: #174EA6;\n",
              "    }\n",
              "\n",
              "    [theme=dark] .colab-df-convert {\n",
              "      background-color: #3B4455;\n",
              "      fill: #D2E3FC;\n",
              "    }\n",
              "\n",
              "    [theme=dark] .colab-df-convert:hover {\n",
              "      background-color: #434B5C;\n",
              "      box-shadow: 0px 1px 3px 1px rgba(0, 0, 0, 0.15);\n",
              "      filter: drop-shadow(0px 1px 2px rgba(0, 0, 0, 0.3));\n",
              "      fill: #FFFFFF;\n",
              "    }\n",
              "  </style>\n",
              "\n",
              "      <script>\n",
              "        const buttonEl =\n",
              "          document.querySelector('#df-7dcc3cf1-f2ac-4702-9f0d-fac409853917 button.colab-df-convert');\n",
              "        buttonEl.style.display =\n",
              "          google.colab.kernel.accessAllowed ? 'block' : 'none';\n",
              "\n",
              "        async function convertToInteractive(key) {\n",
              "          const element = document.querySelector('#df-7dcc3cf1-f2ac-4702-9f0d-fac409853917');\n",
              "          const dataTable =\n",
              "            await google.colab.kernel.invokeFunction('convertToInteractive',\n",
              "                                                     [key], {});\n",
              "          if (!dataTable) return;\n",
              "\n",
              "          const docLinkHtml = 'Like what you see? Visit the ' +\n",
              "            '<a target=\"_blank\" href=https://colab.research.google.com/notebooks/data_table.ipynb>data table notebook</a>'\n",
              "            + ' to learn more about interactive tables.';\n",
              "          element.innerHTML = '';\n",
              "          dataTable['output_type'] = 'display_data';\n",
              "          await google.colab.output.renderOutput(dataTable, element);\n",
              "          const docLink = document.createElement('div');\n",
              "          docLink.innerHTML = docLinkHtml;\n",
              "          element.appendChild(docLink);\n",
              "        }\n",
              "      </script>\n",
              "    </div>\n",
              "  </div>\n"
            ]
          },
          "metadata": {},
          "execution_count": 5
        }
      ]
    },
    {
      "cell_type": "code",
      "source": [
        "# For the fraud cases, are all nameOrig (origin ID) different? If yes, then this column can be dropped.\n",
        "len(pd.unique(df.nameOrig[df.isFraud==1])) == len(df[df.isFraud==1])\n"
      ],
      "metadata": {
        "colab": {
          "base_uri": "https://localhost:8080/"
        },
        "id": "Sm2e1WncUozN",
        "outputId": "15ae5efa-948e-4950-b0c8-0ffc6b61a331"
      },
      "execution_count": 6,
      "outputs": [
        {
          "output_type": "execute_result",
          "data": {
            "text/plain": [
              "True"
            ]
          },
          "metadata": {},
          "execution_count": 6
        }
      ]
    },
    {
      "cell_type": "code",
      "source": [
        "# For the fraud cases, are all nameDest (destination ID) different? If yes, then this column can be dropped.\n",
        "len(pd.unique(df.nameDest[df.isFraud==1]))"
      ],
      "metadata": {
        "colab": {
          "base_uri": "https://localhost:8080/"
        },
        "id": "HO_d-xQyWEZu",
        "outputId": "68735dce-1ab8-4d94-a6a8-983a456842fb"
      },
      "execution_count": 7,
      "outputs": [
        {
          "output_type": "execute_result",
          "data": {
            "text/plain": [
              "8169"
            ]
          },
          "metadata": {},
          "execution_count": 7
        }
      ]
    },
    {
      "cell_type": "code",
      "metadata": {
        "id": "PwCZuulL9E1M",
        "colab": {
          "base_uri": "https://localhost:8080/"
        },
        "outputId": "bd658abb-b099-4059-8668-9a049fe466e0"
      },
      "source": [
        "df.info()"
      ],
      "execution_count": 8,
      "outputs": [
        {
          "output_type": "stream",
          "name": "stdout",
          "text": [
            "<class 'pandas.core.frame.DataFrame'>\n",
            "RangeIndex: 6362620 entries, 0 to 6362619\n",
            "Data columns (total 11 columns):\n",
            " #   Column          Dtype  \n",
            "---  ------          -----  \n",
            " 0   step            int64  \n",
            " 1   type            object \n",
            " 2   amount          float64\n",
            " 3   nameOrig        object \n",
            " 4   oldbalanceOrg   float64\n",
            " 5   newbalanceOrig  float64\n",
            " 6   nameDest        object \n",
            " 7   oldbalanceDest  float64\n",
            " 8   newbalanceDest  float64\n",
            " 9   isFraud         int64  \n",
            " 10  isFlaggedFraud  int64  \n",
            "dtypes: float64(5), int64(3), object(3)\n",
            "memory usage: 534.0+ MB\n"
          ]
        }
      ]
    },
    {
      "cell_type": "code",
      "source": [
        "# Percentage of labels = 1\n",
        "(len(df)-len(df[df['isFraud']==1]))/len(df)"
      ],
      "metadata": {
        "colab": {
          "base_uri": "https://localhost:8080/"
        },
        "id": "GFTg-KQsQOmw",
        "outputId": "dc5e470f-c0e9-4948-a22b-4c76b1f27163"
      },
      "execution_count": 9,
      "outputs": [
        {
          "output_type": "execute_result",
          "data": {
            "text/plain": [
              "0.9987091795518198"
            ]
          },
          "metadata": {},
          "execution_count": 9
        }
      ]
    },
    {
      "cell_type": "code",
      "metadata": {
        "id": "8CX3DRJ3AhFG"
      },
      "source": [
        "# dropping column 'isFlaggedFraud' and nameOrig\n",
        "df.drop(columns=['isFlaggedFraud'],inplace=True)\n",
        "df.drop(columns=['nameOrig'],inplace=True)"
      ],
      "execution_count": 10,
      "outputs": []
    },
    {
      "cell_type": "code",
      "source": [
        "# Number of nulls in dataset\n",
        "for col in df.columns:\n",
        "    print(col, df[col].isnull().sum())"
      ],
      "metadata": {
        "colab": {
          "base_uri": "https://localhost:8080/"
        },
        "id": "pn6gxhOAXrKl",
        "outputId": "5de9dbb7-16bd-46e4-f2f9-a7e651245966"
      },
      "execution_count": 11,
      "outputs": [
        {
          "output_type": "stream",
          "name": "stdout",
          "text": [
            "step 0\n",
            "type 0\n",
            "amount 0\n",
            "oldbalanceOrg 0\n",
            "newbalanceOrig 0\n",
            "nameDest 0\n",
            "oldbalanceDest 0\n",
            "newbalanceDest 0\n",
            "isFraud 0\n"
          ]
        }
      ]
    },
    {
      "cell_type": "markdown",
      "source": [
        "## In order to be fed into a neural network, the four 'object' type columns will be converted to embeddings. Choosing columns that will be encoded and calculating embedding sizes.\n",
        "\n"
      ],
      "metadata": {
        "id": "-EshN599vqj1"
      }
    },
    {
      "cell_type": "code",
      "source": [
        "# Changing datatypes of 'object' types to 'category'\n",
        "\n",
        "df[\"step\"] = df[\"step\"].astype(\"category\")\n",
        "df[\"type\"] = df[\"type\"].astype(\"category\")\n",
        "#df[\"nameOrig\"] = df[\"nameOrig\"].astype(\"category\")\n",
        "df[\"nameDest\"] = df[\"nameDest\"].astype(\"category\")"
      ],
      "metadata": {
        "id": "LG2xgBvnaDSp"
      },
      "execution_count": 12,
      "outputs": []
    },
    {
      "cell_type": "code",
      "source": [
        "# Defining labels\n",
        "Y = df['isFraud']\n",
        "df.drop(columns=['isFraud'],inplace=True)\n",
        "print(len(df),len(Y))"
      ],
      "metadata": {
        "colab": {
          "base_uri": "https://localhost:8080/"
        },
        "id": "6LIL8yLXheaF",
        "outputId": "d5bbb8b6-6895-40de-fb45-7df6c87fb28a"
      },
      "execution_count": 13,
      "outputs": [
        {
          "output_type": "stream",
          "name": "stdout",
          "text": [
            "6362620 6362620\n"
          ]
        }
      ]
    },
    {
      "cell_type": "code",
      "source": [
        "# calculating number of categories in 'category' type columns.\n",
        "embCol_dict = {}\n",
        "for n,c in df.items():\n",
        "  if str(df.dtypes[c.name]) == \"category\":\n",
        "    if len(c.cat.categories) > 2:\n",
        "      embCol_dict[c.name] = len(c.cat.categories)\n",
        "embCol_dict"
      ],
      "metadata": {
        "colab": {
          "base_uri": "https://localhost:8080/"
        },
        "id": "TJl-vda7hvwc",
        "outputId": "ea5f0425-f21d-48f6-8c86-de7710a6632e"
      },
      "execution_count": 14,
      "outputs": [
        {
          "output_type": "execute_result",
          "data": {
            "text/plain": [
              "{'step': 743, 'type': 5, 'nameDest': 2722362}"
            ]
          },
          "metadata": {},
          "execution_count": 14
        }
      ]
    },
    {
      "cell_type": "markdown",
      "source": [
        "Reference https://jovian.ai/aakanksha-ns/shelter-outcome\n",
        "\n",
        "Below code calculates the size of embeddings based on number of categories in each column. The output size is min(50,(category size+1)/2). In case of step, nameOrig and nameDest, embeddings help in reducing categories to embeddings of length 50"
      ],
      "metadata": {
        "id": "P0CbKRmWBu1h"
      }
    },
    {
      "cell_type": "code",
      "source": [
        "# computing embedding sizes\n",
        "embedding_sizes = [(n_categories, min(16, (n_categories+1)//2)) for _,n_categories in embCol_dict.items()]\n",
        "embedding_sizes"
      ],
      "metadata": {
        "colab": {
          "base_uri": "https://localhost:8080/"
        },
        "id": "oQAZ307oC6z7",
        "outputId": "5a481268-36bb-40e4-fe4d-a121f839efde"
      },
      "execution_count": 15,
      "outputs": [
        {
          "output_type": "execute_result",
          "data": {
            "text/plain": [
              "[(743, 16), (5, 3), (2722362, 16)]"
            ]
          },
          "metadata": {},
          "execution_count": 15
        }
      ]
    },
    {
      "cell_type": "code",
      "source": [
        "embCol_list = embCol_dict.keys()\n",
        "len(embCol_list)"
      ],
      "metadata": {
        "colab": {
          "base_uri": "https://localhost:8080/"
        },
        "id": "ZVGQvRWFirIg",
        "outputId": "7e85e884-9475-4356-d771-8f4ba080bbcf"
      },
      "execution_count": 16,
      "outputs": [
        {
          "output_type": "execute_result",
          "data": {
            "text/plain": [
              "3"
            ]
          },
          "metadata": {},
          "execution_count": 16
        }
      ]
    },
    {
      "cell_type": "markdown",
      "source": [
        "Encoding text categories in 'category' columns to integer codes using Sklearn's LabelEncoder"
      ],
      "metadata": {
        "id": "tHooJPpcw7hl"
      }
    },
    {
      "cell_type": "code",
      "source": [
        "for col in df.columns:\n",
        "  if (df.dtypes[col]) == \"category\":\n",
        "    df[col] = LabelEncoder().fit_transform(df[col])"
      ],
      "metadata": {
        "id": "ssxT_SMbqZBX"
      },
      "execution_count": 17,
      "outputs": []
    },
    {
      "cell_type": "markdown",
      "source": [
        "Portioning 70% data for training and 15% each for validation and testing."
      ],
      "metadata": {
        "id": "ye0pqBhUxH-N"
      }
    },
    {
      "cell_type": "code",
      "source": [
        "np.random.seed(13)\n",
        "X_train, X_val_test, y_train, y_val_test = train_test_split(df, Y, test_size=0.30)\n",
        "X_train.head()"
      ],
      "metadata": {
        "colab": {
          "base_uri": "https://localhost:8080/",
          "height": 206
        },
        "id": "IqkcU93NfdrB",
        "outputId": "8e00599e-584f-48d3-8302-92cf347ef423"
      },
      "execution_count": 18,
      "outputs": [
        {
          "output_type": "execute_result",
          "data": {
            "text/plain": [
              "         step  type     amount  oldbalanceOrg  newbalanceOrig  nameDest  \\\n",
              "3992863   297     3   10065.90            0.0            0.00   1427538   \n",
              "5609048   393     3   35667.84        69610.0        33942.16   1614022   \n",
              "6043451   489     0  408532.84        16636.0       425168.84    534679   \n",
              "1219187   132     1  455613.55       257470.0            0.00    423423   \n",
              "5325276   373     0  267214.37        21180.0       288394.37    401669   \n",
              "\n",
              "         oldbalanceDest  newbalanceDest  \n",
              "3992863            0.00            0.00  \n",
              "5609048            0.00            0.00  \n",
              "6043451       809226.78       400693.94  \n",
              "1219187        94728.63       550342.17  \n",
              "5325276            0.00            0.00  "
            ],
            "text/html": [
              "\n",
              "\n",
              "  <div id=\"df-19c3d0b4-c589-4ada-9fdd-1275bd14dc0b\">\n",
              "    <div class=\"colab-df-container\">\n",
              "      <div>\n",
              "<style scoped>\n",
              "    .dataframe tbody tr th:only-of-type {\n",
              "        vertical-align: middle;\n",
              "    }\n",
              "\n",
              "    .dataframe tbody tr th {\n",
              "        vertical-align: top;\n",
              "    }\n",
              "\n",
              "    .dataframe thead th {\n",
              "        text-align: right;\n",
              "    }\n",
              "</style>\n",
              "<table border=\"1\" class=\"dataframe\">\n",
              "  <thead>\n",
              "    <tr style=\"text-align: right;\">\n",
              "      <th></th>\n",
              "      <th>step</th>\n",
              "      <th>type</th>\n",
              "      <th>amount</th>\n",
              "      <th>oldbalanceOrg</th>\n",
              "      <th>newbalanceOrig</th>\n",
              "      <th>nameDest</th>\n",
              "      <th>oldbalanceDest</th>\n",
              "      <th>newbalanceDest</th>\n",
              "    </tr>\n",
              "  </thead>\n",
              "  <tbody>\n",
              "    <tr>\n",
              "      <th>3992863</th>\n",
              "      <td>297</td>\n",
              "      <td>3</td>\n",
              "      <td>10065.90</td>\n",
              "      <td>0.0</td>\n",
              "      <td>0.00</td>\n",
              "      <td>1427538</td>\n",
              "      <td>0.00</td>\n",
              "      <td>0.00</td>\n",
              "    </tr>\n",
              "    <tr>\n",
              "      <th>5609048</th>\n",
              "      <td>393</td>\n",
              "      <td>3</td>\n",
              "      <td>35667.84</td>\n",
              "      <td>69610.0</td>\n",
              "      <td>33942.16</td>\n",
              "      <td>1614022</td>\n",
              "      <td>0.00</td>\n",
              "      <td>0.00</td>\n",
              "    </tr>\n",
              "    <tr>\n",
              "      <th>6043451</th>\n",
              "      <td>489</td>\n",
              "      <td>0</td>\n",
              "      <td>408532.84</td>\n",
              "      <td>16636.0</td>\n",
              "      <td>425168.84</td>\n",
              "      <td>534679</td>\n",
              "      <td>809226.78</td>\n",
              "      <td>400693.94</td>\n",
              "    </tr>\n",
              "    <tr>\n",
              "      <th>1219187</th>\n",
              "      <td>132</td>\n",
              "      <td>1</td>\n",
              "      <td>455613.55</td>\n",
              "      <td>257470.0</td>\n",
              "      <td>0.00</td>\n",
              "      <td>423423</td>\n",
              "      <td>94728.63</td>\n",
              "      <td>550342.17</td>\n",
              "    </tr>\n",
              "    <tr>\n",
              "      <th>5325276</th>\n",
              "      <td>373</td>\n",
              "      <td>0</td>\n",
              "      <td>267214.37</td>\n",
              "      <td>21180.0</td>\n",
              "      <td>288394.37</td>\n",
              "      <td>401669</td>\n",
              "      <td>0.00</td>\n",
              "      <td>0.00</td>\n",
              "    </tr>\n",
              "  </tbody>\n",
              "</table>\n",
              "</div>\n",
              "      <button class=\"colab-df-convert\" onclick=\"convertToInteractive('df-19c3d0b4-c589-4ada-9fdd-1275bd14dc0b')\"\n",
              "              title=\"Convert this dataframe to an interactive table.\"\n",
              "              style=\"display:none;\">\n",
              "\n",
              "  <svg xmlns=\"http://www.w3.org/2000/svg\" height=\"24px\"viewBox=\"0 0 24 24\"\n",
              "       width=\"24px\">\n",
              "    <path d=\"M0 0h24v24H0V0z\" fill=\"none\"/>\n",
              "    <path d=\"M18.56 5.44l.94 2.06.94-2.06 2.06-.94-2.06-.94-.94-2.06-.94 2.06-2.06.94zm-11 1L8.5 8.5l.94-2.06 2.06-.94-2.06-.94L8.5 2.5l-.94 2.06-2.06.94zm10 10l.94 2.06.94-2.06 2.06-.94-2.06-.94-.94-2.06-.94 2.06-2.06.94z\"/><path d=\"M17.41 7.96l-1.37-1.37c-.4-.4-.92-.59-1.43-.59-.52 0-1.04.2-1.43.59L10.3 9.45l-7.72 7.72c-.78.78-.78 2.05 0 2.83L4 21.41c.39.39.9.59 1.41.59.51 0 1.02-.2 1.41-.59l7.78-7.78 2.81-2.81c.8-.78.8-2.07 0-2.86zM5.41 20L4 18.59l7.72-7.72 1.47 1.35L5.41 20z\"/>\n",
              "  </svg>\n",
              "      </button>\n",
              "\n",
              "\n",
              "\n",
              "    <div id=\"df-747bfef6-9b26-44da-8928-b70b70bebd11\">\n",
              "      <button class=\"colab-df-quickchart\" onclick=\"quickchart('df-747bfef6-9b26-44da-8928-b70b70bebd11')\"\n",
              "              title=\"Suggest charts.\"\n",
              "              style=\"display:none;\">\n",
              "\n",
              "<svg xmlns=\"http://www.w3.org/2000/svg\" height=\"24px\"viewBox=\"0 0 24 24\"\n",
              "     width=\"24px\">\n",
              "    <g>\n",
              "        <path d=\"M19 3H5c-1.1 0-2 .9-2 2v14c0 1.1.9 2 2 2h14c1.1 0 2-.9 2-2V5c0-1.1-.9-2-2-2zM9 17H7v-7h2v7zm4 0h-2V7h2v10zm4 0h-2v-4h2v4z\"/>\n",
              "    </g>\n",
              "</svg>\n",
              "      </button>\n",
              "    </div>\n",
              "\n",
              "<style>\n",
              "  .colab-df-quickchart {\n",
              "    background-color: #E8F0FE;\n",
              "    border: none;\n",
              "    border-radius: 50%;\n",
              "    cursor: pointer;\n",
              "    display: none;\n",
              "    fill: #1967D2;\n",
              "    height: 32px;\n",
              "    padding: 0 0 0 0;\n",
              "    width: 32px;\n",
              "  }\n",
              "\n",
              "  .colab-df-quickchart:hover {\n",
              "    background-color: #E2EBFA;\n",
              "    box-shadow: 0px 1px 2px rgba(60, 64, 67, 0.3), 0px 1px 3px 1px rgba(60, 64, 67, 0.15);\n",
              "    fill: #174EA6;\n",
              "  }\n",
              "\n",
              "  [theme=dark] .colab-df-quickchart {\n",
              "    background-color: #3B4455;\n",
              "    fill: #D2E3FC;\n",
              "  }\n",
              "\n",
              "  [theme=dark] .colab-df-quickchart:hover {\n",
              "    background-color: #434B5C;\n",
              "    box-shadow: 0px 1px 3px 1px rgba(0, 0, 0, 0.15);\n",
              "    filter: drop-shadow(0px 1px 2px rgba(0, 0, 0, 0.3));\n",
              "    fill: #FFFFFF;\n",
              "  }\n",
              "</style>\n",
              "\n",
              "    <script>\n",
              "      async function quickchart(key) {\n",
              "        const containerElement = document.querySelector('#' + key);\n",
              "        const charts = await google.colab.kernel.invokeFunction(\n",
              "            'suggestCharts', [key], {});\n",
              "      }\n",
              "    </script>\n",
              "\n",
              "      <script>\n",
              "\n",
              "function displayQuickchartButton(domScope) {\n",
              "  let quickchartButtonEl =\n",
              "    domScope.querySelector('#df-747bfef6-9b26-44da-8928-b70b70bebd11 button.colab-df-quickchart');\n",
              "  quickchartButtonEl.style.display =\n",
              "    google.colab.kernel.accessAllowed ? 'block' : 'none';\n",
              "}\n",
              "\n",
              "        displayQuickchartButton(document);\n",
              "      </script>\n",
              "      <style>\n",
              "    .colab-df-container {\n",
              "      display:flex;\n",
              "      flex-wrap:wrap;\n",
              "      gap: 12px;\n",
              "    }\n",
              "\n",
              "    .colab-df-convert {\n",
              "      background-color: #E8F0FE;\n",
              "      border: none;\n",
              "      border-radius: 50%;\n",
              "      cursor: pointer;\n",
              "      display: none;\n",
              "      fill: #1967D2;\n",
              "      height: 32px;\n",
              "      padding: 0 0 0 0;\n",
              "      width: 32px;\n",
              "    }\n",
              "\n",
              "    .colab-df-convert:hover {\n",
              "      background-color: #E2EBFA;\n",
              "      box-shadow: 0px 1px 2px rgba(60, 64, 67, 0.3), 0px 1px 3px 1px rgba(60, 64, 67, 0.15);\n",
              "      fill: #174EA6;\n",
              "    }\n",
              "\n",
              "    [theme=dark] .colab-df-convert {\n",
              "      background-color: #3B4455;\n",
              "      fill: #D2E3FC;\n",
              "    }\n",
              "\n",
              "    [theme=dark] .colab-df-convert:hover {\n",
              "      background-color: #434B5C;\n",
              "      box-shadow: 0px 1px 3px 1px rgba(0, 0, 0, 0.15);\n",
              "      filter: drop-shadow(0px 1px 2px rgba(0, 0, 0, 0.3));\n",
              "      fill: #FFFFFF;\n",
              "    }\n",
              "  </style>\n",
              "\n",
              "      <script>\n",
              "        const buttonEl =\n",
              "          document.querySelector('#df-19c3d0b4-c589-4ada-9fdd-1275bd14dc0b button.colab-df-convert');\n",
              "        buttonEl.style.display =\n",
              "          google.colab.kernel.accessAllowed ? 'block' : 'none';\n",
              "\n",
              "        async function convertToInteractive(key) {\n",
              "          const element = document.querySelector('#df-19c3d0b4-c589-4ada-9fdd-1275bd14dc0b');\n",
              "          const dataTable =\n",
              "            await google.colab.kernel.invokeFunction('convertToInteractive',\n",
              "                                                     [key], {});\n",
              "          if (!dataTable) return;\n",
              "\n",
              "          const docLinkHtml = 'Like what you see? Visit the ' +\n",
              "            '<a target=\"_blank\" href=https://colab.research.google.com/notebooks/data_table.ipynb>data table notebook</a>'\n",
              "            + ' to learn more about interactive tables.';\n",
              "          element.innerHTML = '';\n",
              "          dataTable['output_type'] = 'display_data';\n",
              "          await google.colab.output.renderOutput(dataTable, element);\n",
              "          const docLink = document.createElement('div');\n",
              "          docLink.innerHTML = docLinkHtml;\n",
              "          element.appendChild(docLink);\n",
              "        }\n",
              "      </script>\n",
              "    </div>\n",
              "  </div>\n"
            ]
          },
          "metadata": {},
          "execution_count": 18
        }
      ]
    },
    {
      "cell_type": "code",
      "source": [
        "np.random.seed(13)\n",
        "X_val, X_test, y_val, y_test = train_test_split(X_val_test, y_val_test, test_size=0.50)"
      ],
      "metadata": {
        "id": "HpdJL18xiMWi"
      },
      "execution_count": 19,
      "outputs": []
    },
    {
      "cell_type": "code",
      "source": [
        "# reset indexes to avoid errors in dataloader class\n",
        "X_train = X_train.reset_index(drop=True)\n",
        "y_train = y_train.reset_index(drop=True)\n",
        "\n",
        "X_val = X_val.reset_index(drop=True)\n",
        "y_val = y_val.reset_index(drop=True)\n",
        "\n",
        "X_test = X_test.reset_index(drop=True)\n",
        "y_test = y_test.reset_index(drop=True)\n",
        "\n"
      ],
      "metadata": {
        "id": "32CJ5ih0lxtE"
      },
      "execution_count": 20,
      "outputs": []
    },
    {
      "cell_type": "code",
      "source": [
        "print(len(X_train),len(y_train),len(X_val),len(y_val),len(X_test),len(y_test))"
      ],
      "metadata": {
        "colab": {
          "base_uri": "https://localhost:8080/"
        },
        "id": "uhjHUVAf6Kq8",
        "outputId": "d4027c0a-f03a-4ded-c9db-42b153bc248d"
      },
      "execution_count": 21,
      "outputs": [
        {
          "output_type": "stream",
          "name": "stdout",
          "text": [
            "4453834 4453834 954393 954393 954393 954393\n"
          ]
        }
      ]
    },
    {
      "cell_type": "markdown",
      "source": [
        "Data after encoding 'category' columns."
      ],
      "metadata": {
        "id": "pmoQ5MJdxl0i"
      }
    },
    {
      "cell_type": "code",
      "source": [
        "df.head()"
      ],
      "metadata": {
        "colab": {
          "base_uri": "https://localhost:8080/",
          "height": 206
        },
        "id": "3qgsI9hC6Vj_",
        "outputId": "81ab46ce-eb25-4cdd-c972-618bb1d8bdd1"
      },
      "execution_count": 22,
      "outputs": [
        {
          "output_type": "execute_result",
          "data": {
            "text/plain": [
              "   step  type    amount  oldbalanceOrg  newbalanceOrig  nameDest  \\\n",
              "0     0     3   9839.64       170136.0       160296.36   1662094   \n",
              "1     0     3   1864.28        21249.0        19384.72   1733924   \n",
              "2     0     4    181.00          181.0            0.00    439685   \n",
              "3     0     1    181.00          181.0            0.00    391696   \n",
              "4     0     3  11668.14        41554.0        29885.86    828919   \n",
              "\n",
              "   oldbalanceDest  newbalanceDest  \n",
              "0             0.0             0.0  \n",
              "1             0.0             0.0  \n",
              "2             0.0             0.0  \n",
              "3         21182.0             0.0  \n",
              "4             0.0             0.0  "
            ],
            "text/html": [
              "\n",
              "\n",
              "  <div id=\"df-4b19399d-98af-4aab-837b-bb6fa5feceda\">\n",
              "    <div class=\"colab-df-container\">\n",
              "      <div>\n",
              "<style scoped>\n",
              "    .dataframe tbody tr th:only-of-type {\n",
              "        vertical-align: middle;\n",
              "    }\n",
              "\n",
              "    .dataframe tbody tr th {\n",
              "        vertical-align: top;\n",
              "    }\n",
              "\n",
              "    .dataframe thead th {\n",
              "        text-align: right;\n",
              "    }\n",
              "</style>\n",
              "<table border=\"1\" class=\"dataframe\">\n",
              "  <thead>\n",
              "    <tr style=\"text-align: right;\">\n",
              "      <th></th>\n",
              "      <th>step</th>\n",
              "      <th>type</th>\n",
              "      <th>amount</th>\n",
              "      <th>oldbalanceOrg</th>\n",
              "      <th>newbalanceOrig</th>\n",
              "      <th>nameDest</th>\n",
              "      <th>oldbalanceDest</th>\n",
              "      <th>newbalanceDest</th>\n",
              "    </tr>\n",
              "  </thead>\n",
              "  <tbody>\n",
              "    <tr>\n",
              "      <th>0</th>\n",
              "      <td>0</td>\n",
              "      <td>3</td>\n",
              "      <td>9839.64</td>\n",
              "      <td>170136.0</td>\n",
              "      <td>160296.36</td>\n",
              "      <td>1662094</td>\n",
              "      <td>0.0</td>\n",
              "      <td>0.0</td>\n",
              "    </tr>\n",
              "    <tr>\n",
              "      <th>1</th>\n",
              "      <td>0</td>\n",
              "      <td>3</td>\n",
              "      <td>1864.28</td>\n",
              "      <td>21249.0</td>\n",
              "      <td>19384.72</td>\n",
              "      <td>1733924</td>\n",
              "      <td>0.0</td>\n",
              "      <td>0.0</td>\n",
              "    </tr>\n",
              "    <tr>\n",
              "      <th>2</th>\n",
              "      <td>0</td>\n",
              "      <td>4</td>\n",
              "      <td>181.00</td>\n",
              "      <td>181.0</td>\n",
              "      <td>0.00</td>\n",
              "      <td>439685</td>\n",
              "      <td>0.0</td>\n",
              "      <td>0.0</td>\n",
              "    </tr>\n",
              "    <tr>\n",
              "      <th>3</th>\n",
              "      <td>0</td>\n",
              "      <td>1</td>\n",
              "      <td>181.00</td>\n",
              "      <td>181.0</td>\n",
              "      <td>0.00</td>\n",
              "      <td>391696</td>\n",
              "      <td>21182.0</td>\n",
              "      <td>0.0</td>\n",
              "    </tr>\n",
              "    <tr>\n",
              "      <th>4</th>\n",
              "      <td>0</td>\n",
              "      <td>3</td>\n",
              "      <td>11668.14</td>\n",
              "      <td>41554.0</td>\n",
              "      <td>29885.86</td>\n",
              "      <td>828919</td>\n",
              "      <td>0.0</td>\n",
              "      <td>0.0</td>\n",
              "    </tr>\n",
              "  </tbody>\n",
              "</table>\n",
              "</div>\n",
              "      <button class=\"colab-df-convert\" onclick=\"convertToInteractive('df-4b19399d-98af-4aab-837b-bb6fa5feceda')\"\n",
              "              title=\"Convert this dataframe to an interactive table.\"\n",
              "              style=\"display:none;\">\n",
              "\n",
              "  <svg xmlns=\"http://www.w3.org/2000/svg\" height=\"24px\"viewBox=\"0 0 24 24\"\n",
              "       width=\"24px\">\n",
              "    <path d=\"M0 0h24v24H0V0z\" fill=\"none\"/>\n",
              "    <path d=\"M18.56 5.44l.94 2.06.94-2.06 2.06-.94-2.06-.94-.94-2.06-.94 2.06-2.06.94zm-11 1L8.5 8.5l.94-2.06 2.06-.94-2.06-.94L8.5 2.5l-.94 2.06-2.06.94zm10 10l.94 2.06.94-2.06 2.06-.94-2.06-.94-.94-2.06-.94 2.06-2.06.94z\"/><path d=\"M17.41 7.96l-1.37-1.37c-.4-.4-.92-.59-1.43-.59-.52 0-1.04.2-1.43.59L10.3 9.45l-7.72 7.72c-.78.78-.78 2.05 0 2.83L4 21.41c.39.39.9.59 1.41.59.51 0 1.02-.2 1.41-.59l7.78-7.78 2.81-2.81c.8-.78.8-2.07 0-2.86zM5.41 20L4 18.59l7.72-7.72 1.47 1.35L5.41 20z\"/>\n",
              "  </svg>\n",
              "      </button>\n",
              "\n",
              "\n",
              "\n",
              "    <div id=\"df-71a7c516-f8fb-4436-af86-99fc57a0bcfe\">\n",
              "      <button class=\"colab-df-quickchart\" onclick=\"quickchart('df-71a7c516-f8fb-4436-af86-99fc57a0bcfe')\"\n",
              "              title=\"Suggest charts.\"\n",
              "              style=\"display:none;\">\n",
              "\n",
              "<svg xmlns=\"http://www.w3.org/2000/svg\" height=\"24px\"viewBox=\"0 0 24 24\"\n",
              "     width=\"24px\">\n",
              "    <g>\n",
              "        <path d=\"M19 3H5c-1.1 0-2 .9-2 2v14c0 1.1.9 2 2 2h14c1.1 0 2-.9 2-2V5c0-1.1-.9-2-2-2zM9 17H7v-7h2v7zm4 0h-2V7h2v10zm4 0h-2v-4h2v4z\"/>\n",
              "    </g>\n",
              "</svg>\n",
              "      </button>\n",
              "    </div>\n",
              "\n",
              "<style>\n",
              "  .colab-df-quickchart {\n",
              "    background-color: #E8F0FE;\n",
              "    border: none;\n",
              "    border-radius: 50%;\n",
              "    cursor: pointer;\n",
              "    display: none;\n",
              "    fill: #1967D2;\n",
              "    height: 32px;\n",
              "    padding: 0 0 0 0;\n",
              "    width: 32px;\n",
              "  }\n",
              "\n",
              "  .colab-df-quickchart:hover {\n",
              "    background-color: #E2EBFA;\n",
              "    box-shadow: 0px 1px 2px rgba(60, 64, 67, 0.3), 0px 1px 3px 1px rgba(60, 64, 67, 0.15);\n",
              "    fill: #174EA6;\n",
              "  }\n",
              "\n",
              "  [theme=dark] .colab-df-quickchart {\n",
              "    background-color: #3B4455;\n",
              "    fill: #D2E3FC;\n",
              "  }\n",
              "\n",
              "  [theme=dark] .colab-df-quickchart:hover {\n",
              "    background-color: #434B5C;\n",
              "    box-shadow: 0px 1px 3px 1px rgba(0, 0, 0, 0.15);\n",
              "    filter: drop-shadow(0px 1px 2px rgba(0, 0, 0, 0.3));\n",
              "    fill: #FFFFFF;\n",
              "  }\n",
              "</style>\n",
              "\n",
              "    <script>\n",
              "      async function quickchart(key) {\n",
              "        const containerElement = document.querySelector('#' + key);\n",
              "        const charts = await google.colab.kernel.invokeFunction(\n",
              "            'suggestCharts', [key], {});\n",
              "      }\n",
              "    </script>\n",
              "\n",
              "      <script>\n",
              "\n",
              "function displayQuickchartButton(domScope) {\n",
              "  let quickchartButtonEl =\n",
              "    domScope.querySelector('#df-71a7c516-f8fb-4436-af86-99fc57a0bcfe button.colab-df-quickchart');\n",
              "  quickchartButtonEl.style.display =\n",
              "    google.colab.kernel.accessAllowed ? 'block' : 'none';\n",
              "}\n",
              "\n",
              "        displayQuickchartButton(document);\n",
              "      </script>\n",
              "      <style>\n",
              "    .colab-df-container {\n",
              "      display:flex;\n",
              "      flex-wrap:wrap;\n",
              "      gap: 12px;\n",
              "    }\n",
              "\n",
              "    .colab-df-convert {\n",
              "      background-color: #E8F0FE;\n",
              "      border: none;\n",
              "      border-radius: 50%;\n",
              "      cursor: pointer;\n",
              "      display: none;\n",
              "      fill: #1967D2;\n",
              "      height: 32px;\n",
              "      padding: 0 0 0 0;\n",
              "      width: 32px;\n",
              "    }\n",
              "\n",
              "    .colab-df-convert:hover {\n",
              "      background-color: #E2EBFA;\n",
              "      box-shadow: 0px 1px 2px rgba(60, 64, 67, 0.3), 0px 1px 3px 1px rgba(60, 64, 67, 0.15);\n",
              "      fill: #174EA6;\n",
              "    }\n",
              "\n",
              "    [theme=dark] .colab-df-convert {\n",
              "      background-color: #3B4455;\n",
              "      fill: #D2E3FC;\n",
              "    }\n",
              "\n",
              "    [theme=dark] .colab-df-convert:hover {\n",
              "      background-color: #434B5C;\n",
              "      box-shadow: 0px 1px 3px 1px rgba(0, 0, 0, 0.15);\n",
              "      filter: drop-shadow(0px 1px 2px rgba(0, 0, 0, 0.3));\n",
              "      fill: #FFFFFF;\n",
              "    }\n",
              "  </style>\n",
              "\n",
              "      <script>\n",
              "        const buttonEl =\n",
              "          document.querySelector('#df-4b19399d-98af-4aab-837b-bb6fa5feceda button.colab-df-convert');\n",
              "        buttonEl.style.display =\n",
              "          google.colab.kernel.accessAllowed ? 'block' : 'none';\n",
              "\n",
              "        async function convertToInteractive(key) {\n",
              "          const element = document.querySelector('#df-4b19399d-98af-4aab-837b-bb6fa5feceda');\n",
              "          const dataTable =\n",
              "            await google.colab.kernel.invokeFunction('convertToInteractive',\n",
              "                                                     [key], {});\n",
              "          if (!dataTable) return;\n",
              "\n",
              "          const docLinkHtml = 'Like what you see? Visit the ' +\n",
              "            '<a target=\"_blank\" href=https://colab.research.google.com/notebooks/data_table.ipynb>data table notebook</a>'\n",
              "            + ' to learn more about interactive tables.';\n",
              "          element.innerHTML = '';\n",
              "          dataTable['output_type'] = 'display_data';\n",
              "          await google.colab.output.renderOutput(dataTable, element);\n",
              "          const docLink = document.createElement('div');\n",
              "          docLink.innerHTML = docLinkHtml;\n",
              "          element.appendChild(docLink);\n",
              "        }\n",
              "      </script>\n",
              "    </div>\n",
              "  </div>\n"
            ]
          },
          "metadata": {},
          "execution_count": 22
        }
      ]
    },
    {
      "cell_type": "markdown",
      "source": [
        "Defining the Dataset class."
      ],
      "metadata": {
        "id": "si0XoF5nxv6A"
      }
    },
    {
      "cell_type": "code",
      "source": [
        "class FraudData(Dataset):\n",
        "    def __init__(self, df, y, embCol_list):\n",
        "\n",
        "        self.X1 = df.loc[:,embCol_list].copy().values.astype(np.int64)\n",
        "        self.X2 = df.drop(columns = embCol_list).copy().values.astype(np.float32)\n",
        "        self.y = y\n",
        "\n",
        "    def __len__(self):\n",
        "        return len(self.y)\n",
        "\n",
        "    def __getitem__(self, idx):\n",
        "        return self.X1[idx], self.X2[idx], self.y[idx]"
      ],
      "metadata": {
        "id": "mZeLejKqFz9m"
      },
      "execution_count": 23,
      "outputs": []
    },
    {
      "cell_type": "markdown",
      "source": [
        "Creating Dataset objects for Train/Validation/Test data"
      ],
      "metadata": {
        "id": "hCMjuLwfyNqe"
      }
    },
    {
      "cell_type": "code",
      "source": [
        "train_data = FraudData(X_train, y_train, embCol_list)\n",
        "valid_data = FraudData(X_val, y_val, embCol_list)\n",
        "test_data = FraudData(X_test, y_test, embCol_list)"
      ],
      "metadata": {
        "id": "GtmpE4TvKjQl"
      },
      "execution_count": 24,
      "outputs": []
    },
    {
      "cell_type": "code",
      "source": [
        "print(len(train_data),len(valid_data),len(test_data))"
      ],
      "metadata": {
        "colab": {
          "base_uri": "https://localhost:8080/"
        },
        "id": "TJlvEhpfRg_J",
        "outputId": "86d6102e-3d6b-4539-8e5f-f3fb10ce37c6"
      },
      "execution_count": null,
      "outputs": [
        {
          "output_type": "stream",
          "name": "stdout",
          "text": [
            "4453834 954393 954393\n"
          ]
        }
      ]
    },
    {
      "cell_type": "markdown",
      "source": [
        "Defining Hyperparameters and Dataloader objects"
      ],
      "metadata": {
        "id": "u19p6C8vyWGy"
      }
    },
    {
      "cell_type": "code",
      "source": [
        "# Hyperparameters and creating train and validation loader variables\n",
        "\n",
        "batch_size = 4096\n",
        "lr = 0.0001\n",
        "w_decay = 0.00001\n",
        "\n",
        "\n",
        "\n",
        "trainloader = DataLoader(train_data, batch_size=batch_size,\n",
        "                                          shuffle=True, num_workers=0)\n",
        "\n",
        "\n",
        "validloader = DataLoader(valid_data, batch_size=batch_size,\n",
        "                                         shuffle=False, num_workers=0)"
      ],
      "metadata": {
        "id": "EGRKSDYOSbeS"
      },
      "execution_count": null,
      "outputs": []
    },
    {
      "cell_type": "markdown",
      "source": [
        "## Building Feedforward Neural Network.\n",
        "\n"
      ],
      "metadata": {
        "id": "d1EK0Ef6ygUs"
      }
    },
    {
      "cell_type": "code",
      "source": [
        "class FraudNet(nn.Module):\n",
        "    def __init__(self, embedding_sizes, n_cont):\n",
        "        super().__init__()\n",
        "        self.embeddings = nn.ModuleList([nn.Embedding(categories, size) for categories,size in embedding_sizes])\n",
        "        n_emb = sum(e.embedding_dim for e in self.embeddings)\n",
        "        self.n_emb, self.n_cont = n_emb, n_cont\n",
        "        self.lin1 = nn.Linear(self.n_emb + self.n_cont, 256)\n",
        "        self.lin2 = nn.Linear(256, 512)\n",
        "        self.lin25 = nn.Linear(512, 256)\n",
        "        self.lin3 = nn.Linear(256, 2)\n",
        "        self.bn1 = nn.BatchNorm1d(self.n_cont)\n",
        "        self.bn2 = nn.BatchNorm1d(256)\n",
        "        self.bn3 = nn.BatchNorm1d(512)\n",
        "        self.embedding_drop = nn.Dropout(0.6)\n",
        "        self.drops = nn.Dropout(0.3)\n",
        "\n",
        "\n",
        "    def forward(self, x_cat, x_cont):\n",
        "        x = [e(x_cat[:,i]) for i,e in enumerate(self.embeddings)]\n",
        "        x = torch.cat(x, 1)\n",
        "        x = self.embedding_drop(x)\n",
        "        x2 = self.bn1(x_cont)\n",
        "        x = torch.cat([x, x2], 1)\n",
        "        x = F.relu(self.lin1(x))\n",
        "        x = self.drops(x)\n",
        "        x = self.bn2(x)\n",
        "        x = F.relu(self.lin2(x))\n",
        "        x = self.drops(x)\n",
        "        x = self.bn3(x)\n",
        "        x = F.relu(self.lin25(x))\n",
        "        x = self.drops(x)\n",
        "        x = self.bn2(x)\n",
        "        x = self.lin3(x)\n",
        "        return x"
      ],
      "metadata": {
        "id": "lLuvif_4Tif3"
      },
      "execution_count": null,
      "outputs": []
    },
    {
      "cell_type": "markdown",
      "source": [
        "n_cont variable contains number of non-encoded columns"
      ],
      "metadata": {
        "id": "yQYe6783yzos"
      }
    },
    {
      "cell_type": "code",
      "source": [
        "n_cont = len(df.columns) - len(embCol_list)"
      ],
      "metadata": {
        "id": "0XMrENKLM1p4"
      },
      "execution_count": null,
      "outputs": []
    },
    {
      "cell_type": "code",
      "source": [
        "net = FraudNet(embedding_sizes, n_cont).to(device=device)\n",
        "print(net)"
      ],
      "metadata": {
        "colab": {
          "base_uri": "https://localhost:8080/"
        },
        "id": "4N9BCrMZToso",
        "outputId": "d1c8a9e9-56e0-439a-b300-4300623540c8"
      },
      "execution_count": null,
      "outputs": [
        {
          "output_type": "stream",
          "name": "stdout",
          "text": [
            "FraudNet(\n",
            "  (embeddings): ModuleList(\n",
            "    (0): Embedding(743, 16)\n",
            "    (1): Embedding(5, 3)\n",
            "    (2): Embedding(2722362, 16)\n",
            "  )\n",
            "  (lin1): Linear(in_features=40, out_features=256, bias=True)\n",
            "  (lin2): Linear(in_features=256, out_features=512, bias=True)\n",
            "  (lin25): Linear(in_features=512, out_features=256, bias=True)\n",
            "  (lin3): Linear(in_features=256, out_features=2, bias=True)\n",
            "  (bn1): BatchNorm1d(5, eps=1e-05, momentum=0.1, affine=True, track_running_stats=True)\n",
            "  (bn2): BatchNorm1d(256, eps=1e-05, momentum=0.1, affine=True, track_running_stats=True)\n",
            "  (bn3): BatchNorm1d(512, eps=1e-05, momentum=0.1, affine=True, track_running_stats=True)\n",
            "  (embedding_drop): Dropout(p=0.6, inplace=False)\n",
            "  (drops): Dropout(p=0.3, inplace=False)\n",
            ")\n"
          ]
        }
      ]
    },
    {
      "cell_type": "code",
      "source": [
        "# https://stackoverflow.com/questions/49201236/check-the-total-number-of-parameters-in-a-pytorch-model\n",
        "\n",
        "from prettytable import PrettyTable\n",
        "def paramCount(model):\n",
        "    t = PrettyTable([\"Modules\", \"Parameters\"])\n",
        "    total_parameters = 0\n",
        "    for name, parameter in model.named_parameters():\n",
        "        if not parameter.requires_grad:\n",
        "          continue\n",
        "        params = parameter.numel()\n",
        "        t.add_row([name, params])\n",
        "        total_parameters+=params\n",
        "    print(t)\n",
        "    print(f\"Total Trainable Params: {total_parameters}\")\n",
        "    return total_parameters\n",
        "\n",
        "paramCount(net)"
      ],
      "metadata": {
        "colab": {
          "base_uri": "https://localhost:8080/"
        },
        "id": "u5lqTZw58A7c",
        "outputId": "675fe753-4e12-4e93-a81a-97940a7162dc"
      },
      "execution_count": null,
      "outputs": [
        {
          "output_type": "stream",
          "name": "stdout",
          "text": [
            "+---------------------+------------+\n",
            "|       Modules       | Parameters |\n",
            "+---------------------+------------+\n",
            "| embeddings.0.weight |   11888    |\n",
            "| embeddings.1.weight |     15     |\n",
            "| embeddings.2.weight |  43557792  |\n",
            "|     lin1.weight     |   10240    |\n",
            "|      lin1.bias      |    256     |\n",
            "|     lin2.weight     |   131072   |\n",
            "|      lin2.bias      |    512     |\n",
            "|     lin25.weight    |   131072   |\n",
            "|      lin25.bias     |    256     |\n",
            "|     lin3.weight     |    512     |\n",
            "|      lin3.bias      |     2      |\n",
            "|      bn1.weight     |     5      |\n",
            "|       bn1.bias      |     5      |\n",
            "|      bn2.weight     |    256     |\n",
            "|       bn2.bias      |    256     |\n",
            "|      bn3.weight     |    512     |\n",
            "|       bn3.bias      |    512     |\n",
            "+---------------------+------------+\n",
            "Total Trainable Params: 43845163\n"
          ]
        },
        {
          "output_type": "execute_result",
          "data": {
            "text/plain": [
              "43845163"
            ]
          },
          "metadata": {},
          "execution_count": 91
        }
      ]
    },
    {
      "cell_type": "code",
      "source": [
        "criterion = nn.CrossEntropyLoss()\n",
        "\n",
        "\n",
        "optimizer = optim.Adam(params = net.parameters(), lr=lr, weight_decay= w_decay)\n"
      ],
      "metadata": {
        "id": "G_HP5GArV6jB"
      },
      "execution_count": null,
      "outputs": []
    },
    {
      "cell_type": "code",
      "source": [
        "root_path = '/content/drive/My Drive/Projects/Finance Dataset Kaggle/'"
      ],
      "metadata": {
        "id": "nySGu4M6QGy3"
      },
      "execution_count": null,
      "outputs": []
    },
    {
      "cell_type": "markdown",
      "source": [
        "## Training and Inference\n",
        "\n"
      ],
      "metadata": {
        "id": "83SxfdGfOQE1"
      }
    },
    {
      "cell_type": "code",
      "source": [
        "num_epochs = 24\n",
        "\n",
        "\n",
        "tlossList = []\n",
        "vlossList = []\n",
        "\n",
        "np.random.seed(13)\n",
        "valAccMax = 0\n",
        "for epoch in range(0,num_epochs):  # loop over the dataset multiple times\n",
        "    t=time.time()\n",
        "    #sleep(0.5)\n",
        "    #print(\"Epoch: \",epoch+1)\n",
        "    trAcc = []\n",
        "    valAcc = []\n",
        "    train_batch_acc=0\n",
        "    valid_batch_acc=0\n",
        "    batch_loss=0\n",
        "    valid_loss=0\n",
        "    for i, data in enumerate(trainloader):\n",
        "        # get the inputs; data is a list of [inputs, labels]\n",
        "        x1 = data[0].to(device=device)\n",
        "        x2 = data[1].to(device=device)\n",
        "        labels = data[2].type(torch.LongTensor).to(device=device)\n",
        "\n",
        "        # zero the parameter gradients\n",
        "        optimizer.zero_grad()\n",
        "\n",
        "        # forward + backward + optimize\n",
        "        outputs = net(x1, x2)\n",
        "\n",
        "        loss = criterion(outputs, labels)\n",
        "        batch_loss+=loss\n",
        "        loss.backward()\n",
        "        optimizer.step()\n",
        "\n",
        "        # Batch Training Accuracy\n",
        "        batchPred = torch.argmax(outputs, dim=1)\n",
        "        batchAcc = np.mean(np.array((batchPred==labels).cpu()))\n",
        "        trAcc.append(batchAcc)\n",
        "\n",
        "    train_batch_acc = np.mean(trAcc)\n",
        "        # Validation Accuracy\n",
        "        #for id, d in enumerate(testloader):\n",
        "\n",
        "    for i, (x1, x2, y) in enumerate(validloader):\n",
        "        #print(x1,x2,y)\n",
        "        #print(i)\n",
        "        net.eval()\n",
        "        inpx1 = x1.to(device=device)\n",
        "        inpx2 = x2.to(device=device)\n",
        "        lab = y.type(torch.LongTensor).to(device=device)\n",
        "\n",
        "\n",
        "        np_lab = 0\n",
        "        with torch.no_grad():\n",
        "          out = net(inpx1,inpx2)\n",
        "          vloss = criterion(out, lab)\n",
        "          valid_loss+=vloss\n",
        "          np_lab = np.array(lab.cpu())\n",
        "\n",
        "        valPred = torch.argmax(out, dim=1)\n",
        "        vAcc = np.mean(np.array((valPred==lab).cpu()))\n",
        "        valAcc.append(vAcc)\n",
        "\n",
        "    valid_batch_acc = np.mean(valAcc)\n",
        "    if valid_batch_acc > valAccMax and epoch > 5:\n",
        "      valAccMax = valid_batch_acc\n",
        "      if valid_batch_acc > 0.9996:\n",
        "        p = root_path + \"modelAutoSave_\" + \"_\" + str(round(valAccMax*100000,0)) + \"_\" +\\\n",
        "        str(epoch) + \"_\" + str(batch_size) + \"_\" + str(lr) + \"_\" + str(w_decay) + \"_\" + \".pth\"\n",
        "        torch.save(net.state_dict(), p)\n",
        "\n",
        "\n",
        "    tlossList.append(batch_loss.item()/len(train_data))\n",
        "    vlossList.append(valid_loss.item()/len(valid_data))\n",
        "\n",
        "\n",
        "    # print statistics\n",
        "    print(\"Epoch\",epoch+1,\" | T Loss:\", round(batch_loss.item()/len(train_data)*1e07,3),\\\n",
        "          \" | V Loss:\", round(valid_loss.item()/len(valid_data)*1e07,3),\\\n",
        "          \" | T Accuracy:\", round(train_batch_acc,6), \" | V Accuracy:\", round(valid_batch_acc,6),\\\n",
        "          \" | Max Val Acc:\", round(valAccMax,6), \" | Epoch Time\", round((time.time()-t)/60,2), \"min\")\n",
        "\n",
        "\n",
        "print('Finished Training')"
      ],
      "metadata": {
        "id": "EjRHlTnYO6Mw",
        "colab": {
          "base_uri": "https://localhost:8080/"
        },
        "outputId": "1d3744ef-7d73-4bab-e3af-5eaeb71027c3"
      },
      "execution_count": null,
      "outputs": [
        {
          "output_type": "stream",
          "name": "stdout",
          "text": [
            "Epoch 1  | T Loss: 662.722  | V Loss: 86.123  | T Accuracy: 0.901306  | V Accuracy: 0.998711  | Max Val Acc: 0  | Epoch Time 1.59 min\n",
            "Epoch 2  | T Loss: 28.575  | V Loss: 21.338  | T Accuracy: 0.998778  | V Accuracy: 0.998825  | Max Val Acc: 0  | Epoch Time 1.55 min\n",
            "Epoch 3  | T Loss: 18.295  | V Loss: 14.4  | T Accuracy: 0.998895  | V Accuracy: 0.998994  | Max Val Acc: 0  | Epoch Time 1.54 min\n",
            "Epoch 4  | T Loss: 12.624  | V Loss: 10.989  | T Accuracy: 0.999086  | V Accuracy: 0.999177  | Max Val Acc: 0  | Epoch Time 1.59 min\n",
            "Epoch 5  | T Loss: 10.724  | V Loss: 9.878  | T Accuracy: 0.99918  | V Accuracy: 0.999227  | Max Val Acc: 0  | Epoch Time 1.59 min\n",
            "Epoch 6  | T Loss: 9.604  | V Loss: 8.877  | T Accuracy: 0.999236  | V Accuracy: 0.999295  | Max Val Acc: 0  | Epoch Time 1.53 min\n",
            "Epoch 7  | T Loss: 8.805  | V Loss: 8.631  | T Accuracy: 0.999295  | V Accuracy: 0.999292  | Max Val Acc: 0.999292  | Epoch Time 1.48 min\n",
            "Epoch 8  | T Loss: 8.13  | V Loss: 7.702  | T Accuracy: 0.999349  | V Accuracy: 0.999372  | Max Val Acc: 0.999372  | Epoch Time 1.52 min\n",
            "Epoch 9  | T Loss: 7.427  | V Loss: 7.338  | T Accuracy: 0.999386  | V Accuracy: 0.999414  | Max Val Acc: 0.999414  | Epoch Time 1.51 min\n",
            "Epoch 10  | T Loss: 6.909  | V Loss: 6.787  | T Accuracy: 0.999419  | V Accuracy: 0.999432  | Max Val Acc: 0.999432  | Epoch Time 1.54 min\n",
            "Epoch 11  | T Loss: 6.378  | V Loss: 6.28  | T Accuracy: 0.999452  | V Accuracy: 0.999489  | Max Val Acc: 0.999489  | Epoch Time 1.54 min\n",
            "Epoch 12  | T Loss: 5.917  | V Loss: 6.061  | T Accuracy: 0.999481  | V Accuracy: 0.999487  | Max Val Acc: 0.999489  | Epoch Time 1.51 min\n",
            "Epoch 13  | T Loss: 5.502  | V Loss: 9.102  | T Accuracy: 0.999507  | V Accuracy: 0.999303  | Max Val Acc: 0.999489  | Epoch Time 1.58 min\n",
            "Epoch 14  | T Loss: 5.127  | V Loss: 5.64  | T Accuracy: 0.999529  | V Accuracy: 0.999456  | Max Val Acc: 0.999489  | Epoch Time 1.6 min\n",
            "Epoch 15  | T Loss: 4.863  | V Loss: 5.037  | T Accuracy: 0.999565  | V Accuracy: 0.999565  | Max Val Acc: 0.999565  | Epoch Time 1.59 min\n",
            "Epoch 16  | T Loss: 4.598  | V Loss: 5.069  | T Accuracy: 0.999582  | V Accuracy: 0.999542  | Max Val Acc: 0.999565  | Epoch Time 1.54 min\n",
            "Epoch 17  | T Loss: 4.331  | V Loss: 5.49  | T Accuracy: 0.999599  | V Accuracy: 0.999486  | Max Val Acc: 0.999565  | Epoch Time 1.48 min\n",
            "Epoch 18  | T Loss: 4.121  | V Loss: 4.387  | T Accuracy: 0.999619  | V Accuracy: 0.999593  | Max Val Acc: 0.999593  | Epoch Time 1.6 min\n",
            "Epoch 19  | T Loss: 3.906  | V Loss: 4.547  | T Accuracy: 0.999631  | V Accuracy: 0.999621  | Max Val Acc: 0.999621  | Epoch Time 1.58 min\n",
            "Epoch 20  | T Loss: 3.746  | V Loss: 4.465  | T Accuracy: 0.999652  | V Accuracy: 0.999624  | Max Val Acc: 0.999624  | Epoch Time 1.54 min\n",
            "Epoch 21  | T Loss: 3.604  | V Loss: 4.027  | T Accuracy: 0.99966  | V Accuracy: 0.999632  | Max Val Acc: 0.999632  | Epoch Time 1.52 min\n",
            "Epoch 22  | T Loss: 3.472  | V Loss: 3.902  | T Accuracy: 0.999676  | V Accuracy: 0.999638  | Max Val Acc: 0.999638  | Epoch Time 1.52 min\n",
            "Epoch 23  | T Loss: 3.332  | V Loss: 4.525  | T Accuracy: 0.999691  | V Accuracy: 0.999646  | Max Val Acc: 0.999646  | Epoch Time 1.53 min\n",
            "Epoch 24  | T Loss: 3.208  | V Loss: 4.036  | T Accuracy: 0.999702  | V Accuracy: 0.999636  | Max Val Acc: 0.999646  | Epoch Time 1.55 min\n",
            "Finished Training\n"
          ]
        }
      ]
    },
    {
      "cell_type": "code",
      "source": [
        "# Save model\n",
        "model_scripted = torch.jit.script(net)\n",
        "model_scripted.save(root_path+'model_scripted_44M.pt')"
      ],
      "metadata": {
        "id": "6ox7a129PDaL"
      },
      "execution_count": null,
      "outputs": []
    },
    {
      "cell_type": "code",
      "source": [
        "from google.colab import runtime\n",
        "runtime.unassign()"
      ],
      "metadata": {
        "id": "BO_6ODDcdONy"
      },
      "execution_count": null,
      "outputs": []
    },
    {
      "cell_type": "code",
      "source": [
        "#model = FraudNet(embedding_sizes, n_cont).to(device=device)\n",
        "#model.load_state_dict(torch.load(root_path+'modelAutoSave__99965.0_22_4096_0.0001_1e-05_.pth'))\n",
        "#model = torch.load(root_path+'modelAutoSave__99965.0_22_4096_0.0001_1e-05_.pth')\n",
        "#model.eval()\n",
        "\n",
        "#model = torch.jit.load(root_path+'model_scripted_50.pt')\n",
        "#model.eval()"
      ],
      "metadata": {
        "colab": {
          "base_uri": "https://localhost:8080/"
        },
        "id": "odLZEbak86Z5",
        "outputId": "d7130602-736a-47f7-c316-fafdedc59bfa"
      },
      "execution_count": null,
      "outputs": [
        {
          "output_type": "execute_result",
          "data": {
            "text/plain": [
              "FraudNet(\n",
              "  (embeddings): ModuleList(\n",
              "    (0): Embedding(743, 16)\n",
              "    (1): Embedding(5, 3)\n",
              "    (2): Embedding(2722362, 16)\n",
              "  )\n",
              "  (lin1): Linear(in_features=40, out_features=256, bias=True)\n",
              "  (lin2): Linear(in_features=256, out_features=512, bias=True)\n",
              "  (lin25): Linear(in_features=512, out_features=256, bias=True)\n",
              "  (lin3): Linear(in_features=256, out_features=2, bias=True)\n",
              "  (bn1): BatchNorm1d(5, eps=1e-05, momentum=0.1, affine=True, track_running_stats=True)\n",
              "  (bn2): BatchNorm1d(256, eps=1e-05, momentum=0.1, affine=True, track_running_stats=True)\n",
              "  (bn3): BatchNorm1d(512, eps=1e-05, momentum=0.1, affine=True, track_running_stats=True)\n",
              "  (embedding_drop): Dropout(p=0.6, inplace=False)\n",
              "  (drops): Dropout(p=0.3, inplace=False)\n",
              ")"
            ]
          },
          "metadata": {},
          "execution_count": 118
        }
      ]
    },
    {
      "cell_type": "code",
      "source": [
        "# Loading testloader in variables for use in inference in training loop in next cell\n",
        "testloader = DataLoader(test_data, batch_size=len(test_data),\n",
        "                                         shuffle=False, num_workers=0)\n",
        "\n",
        "for i, (x1, x2, y) in enumerate(testloader):\n",
        "  inpx1_t = x1.to(device=device)\n",
        "  inpx2_t = x2.to(device=device)\n",
        "  lab_t = y.type(torch.CharTensor).to(device=device)"
      ],
      "metadata": {
        "id": "17ZGjzXULs7E"
      },
      "execution_count": null,
      "outputs": []
    },
    {
      "cell_type": "markdown",
      "source": [
        "Checking accuracy on Testing Set"
      ],
      "metadata": {
        "id": "uS2NTc2hl5BF"
      }
    },
    {
      "cell_type": "code",
      "source": [
        "# Evaluation for test data\n",
        "model=net\n",
        "model.eval()\n",
        "with torch.no_grad():\n",
        "  out = model(inpx1_t,inpx2_t)\n",
        "\n",
        "a = torch.argmax(out, dim=1)\n",
        "b = np.mean(np.array((a==lab_t).cpu()))\n",
        "print(\"Test Accuracy: \",b,\"Correctly Classified Datapoints: \",len(test_data)*b,\\\n",
        "      \"Incorrectly Classified Datapoints: \",len(test_data)-len(test_data)*b )"
      ],
      "metadata": {
        "id": "hhoNeNdqLmkH",
        "colab": {
          "base_uri": "https://localhost:8080/"
        },
        "outputId": "888ee507-746e-4ec3-d4a6-0636b873f3b2"
      },
      "execution_count": null,
      "outputs": [
        {
          "output_type": "stream",
          "name": "stdout",
          "text": [
            "Test Accuracy:  0.9996416570532265 Correctly Classified Datapoints:  954051.0 Incorrectly Classified Datapoints:  342.0\n"
          ]
        }
      ]
    },
    {
      "cell_type": "markdown",
      "source": [
        "## Generating Confusion Matrix"
      ],
      "metadata": {
        "id": "-OQZhbxULr54"
      }
    },
    {
      "cell_type": "code",
      "source": [
        "test_labels = np.array(lab_t.cpu())\n",
        "test_predictions = np.array(a.cpu())"
      ],
      "metadata": {
        "id": "3qakPHsgMxL_"
      },
      "execution_count": null,
      "outputs": []
    },
    {
      "cell_type": "code",
      "source": [
        "#import locale\n",
        "#locale.getpreferredencoding = lambda: \"UTF-8\""
      ],
      "metadata": {
        "id": "K7X8QglrCABC"
      },
      "execution_count": null,
      "outputs": []
    },
    {
      "cell_type": "code",
      "source": [
        "# Confusion Matrix\n",
        "cm=pycm.ConfusionMatrix(test_labels, test_predictions)\n",
        "cm.plot(plot_lib=\"seaborn\", number_label=True)\n"
      ],
      "metadata": {
        "id": "oJjBeNy0OdvY",
        "colab": {
          "base_uri": "https://localhost:8080/",
          "height": 490
        },
        "outputId": "ccc57ce8-01e2-4872-d503-898238bd69d2"
      },
      "execution_count": null,
      "outputs": [
        {
          "output_type": "execute_result",
          "data": {
            "text/plain": [
              "<Axes: title={'center': 'Confusion Matrix'}, xlabel='Predicted Classes', ylabel='Actual Classes'>"
            ]
          },
          "metadata": {},
          "execution_count": 99
        },
        {
          "output_type": "display_data",
          "data": {
            "text/plain": [
              "<Figure size 640x480 with 2 Axes>"
            ],
            "image/png": "[encoded data removed]"
          },
          "metadata": {}
        }
      ]
    },
    {
      "cell_type": "markdown",
      "source": [
        "The above confusion matrix suggests the following:\n",
        "1. Out of 1221 fraud cases in test set, 900 were correctly classified as Fraud (True Negative) and 321 were classified as regular transactions (False Positives). Thus, the model is 73.71% accurate in finding fraud.\n",
        "2. The number of False Negatives is low (21) which means only a few regular transactions are falsely flagged as fraud.\n",
        "3. By tuning the number of false positive and false negative cases, a financial organization can determine how much fraud they will allow in order to not bother customers with regular transactions with False Negative flags. In other words, the increase in fraud detection capabilites should not come at the expense of more false negatives.\n"
      ],
      "metadata": {
        "id": "OdLf34wdOut9"
      }
    },
    {
      "cell_type": "markdown",
      "source": [
        "#Comparison with XGBoost"
      ],
      "metadata": {
        "id": "cz9gb-lF4vAH"
      }
    }
  ]
}